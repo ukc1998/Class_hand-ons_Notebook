{
 "cells": [
  {
   "cell_type": "code",
   "execution_count": 1,
   "id": "c4099bd4",
   "metadata": {},
   "outputs": [
    {
     "name": "stdout",
     "output_type": "stream",
     "text": [
      "1\n",
      "2\n",
      "3\n",
      "4\n",
      "Ab tera khaatma hoga re kaaliya\n"
     ]
    }
   ],
   "source": [
    "notes  = 5\n",
    "\n",
    "i = 1\n",
    "while i < notes:\n",
    "    print(i)\n",
    "    i += 1\n",
    "else:\n",
    "    print(\"Ab tera khaatma hoga re kaaliya\")"
   ]
  },
  {
   "cell_type": "code",
   "execution_count": 2,
   "id": "c0094a78",
   "metadata": {},
   "outputs": [],
   "source": [
    "# while-else statement exist in PYTHON"
   ]
  },
  {
   "cell_type": "code",
   "execution_count": 3,
   "id": "726edcfb",
   "metadata": {},
   "outputs": [],
   "source": [
    "s = \"sudh\""
   ]
  },
  {
   "cell_type": "code",
   "execution_count": 4,
   "id": "68a76a68",
   "metadata": {},
   "outputs": [
    {
     "data": {
      "text/plain": [
       "'d'"
      ]
     },
     "execution_count": 4,
     "metadata": {},
     "output_type": "execute_result"
    }
   ],
   "source": [
    "s[2]"
   ]
  },
  {
   "cell_type": "code",
   "execution_count": 5,
   "id": "453edce7",
   "metadata": {},
   "outputs": [
    {
     "data": {
      "text/plain": [
       "'d'"
      ]
     },
     "execution_count": 5,
     "metadata": {},
     "output_type": "execute_result"
    }
   ],
   "source": [
    "s[-2]"
   ]
  },
  {
   "cell_type": "code",
   "execution_count": 6,
   "id": "ecc9b7d9",
   "metadata": {},
   "outputs": [],
   "source": [
    "s = \"my name is utkarsh\""
   ]
  },
  {
   "cell_type": "code",
   "execution_count": 7,
   "id": "cdafe397",
   "metadata": {},
   "outputs": [
    {
     "data": {
      "text/plain": [
       "'name is'"
      ]
     },
     "execution_count": 7,
     "metadata": {},
     "output_type": "execute_result"
    }
   ],
   "source": [
    "s[3:10]"
   ]
  },
  {
   "cell_type": "code",
   "execution_count": 8,
   "id": "16e06ab0",
   "metadata": {},
   "outputs": [
    {
     "data": {
      "text/plain": [
       "'nm s'"
      ]
     },
     "execution_count": 8,
     "metadata": {},
     "output_type": "execute_result"
    }
   ],
   "source": [
    "s[3:10:2]"
   ]
  },
  {
   "cell_type": "code",
   "execution_count": 9,
   "id": "0585c4a9",
   "metadata": {},
   "outputs": [
    {
     "data": {
      "text/plain": [
       "'hsraktu si eman ym'"
      ]
     },
     "execution_count": 9,
     "metadata": {},
     "output_type": "execute_result"
    }
   ],
   "source": [
    "s[::-1]"
   ]
  },
  {
   "cell_type": "code",
   "execution_count": 10,
   "id": "21114abd",
   "metadata": {},
   "outputs": [
    {
     "data": {
      "text/plain": [
       "'hsraktu si eman y'"
      ]
     },
     "execution_count": 10,
     "metadata": {},
     "output_type": "execute_result"
    }
   ],
   "source": [
    "s[111:0:-1]"
   ]
  },
  {
   "cell_type": "code",
   "execution_count": 11,
   "id": "994b1ef3",
   "metadata": {},
   "outputs": [
    {
     "data": {
      "text/plain": [
       "'hsraktu si eman ym'"
      ]
     },
     "execution_count": 11,
     "metadata": {},
     "output_type": "execute_result"
    }
   ],
   "source": [
    "s[111::-1]"
   ]
  },
  {
   "cell_type": "code",
   "execution_count": 12,
   "id": "c85a2e4f",
   "metadata": {},
   "outputs": [
    {
     "data": {
      "text/plain": [
       "'hsraktu si eman '"
      ]
     },
     "execution_count": 12,
     "metadata": {},
     "output_type": "execute_result"
    }
   ],
   "source": [
    "s[111:1:-1]"
   ]
  },
  {
   "cell_type": "code",
   "execution_count": 13,
   "id": "bd32c9b4",
   "metadata": {},
   "outputs": [
    {
     "data": {
      "text/plain": [
       "'hsraktu si eman ym'"
      ]
     },
     "execution_count": 13,
     "metadata": {},
     "output_type": "execute_result"
    }
   ],
   "source": [
    "s[111:-111111:-1]"
   ]
  },
  {
   "cell_type": "code",
   "execution_count": 14,
   "id": "0c4f8912",
   "metadata": {},
   "outputs": [
    {
     "data": {
      "text/plain": [
       "''"
      ]
     },
     "execution_count": 14,
     "metadata": {},
     "output_type": "execute_result"
    }
   ],
   "source": [
    "s[1111:3:1]"
   ]
  },
  {
   "cell_type": "code",
   "execution_count": 15,
   "id": "b4d6835a",
   "metadata": {},
   "outputs": [
    {
     "data": {
      "text/plain": [
       "'hsraktu si ema'"
      ]
     },
     "execution_count": 15,
     "metadata": {},
     "output_type": "execute_result"
    }
   ],
   "source": [
    "s[1111:3:-1]"
   ]
  },
  {
   "cell_type": "code",
   "execution_count": 16,
   "id": "81f3096c",
   "metadata": {},
   "outputs": [
    {
     "data": {
      "text/plain": [
       "'my name is utkarsh'"
      ]
     },
     "execution_count": 16,
     "metadata": {},
     "output_type": "execute_result"
    }
   ],
   "source": [
    "s"
   ]
  },
  {
   "cell_type": "code",
   "execution_count": 17,
   "id": "49f1a172",
   "metadata": {},
   "outputs": [
    {
     "name": "stdout",
     "output_type": "stream",
     "text": [
      "m\n",
      "y\n",
      " \n"
     ]
    }
   ],
   "source": [
    "for i in s:\n",
    "    if i == \"n\":\n",
    "        break\n",
    "    print(i)"
   ]
  },
  {
   "cell_type": "code",
   "execution_count": 18,
   "id": "0fad147a",
   "metadata": {},
   "outputs": [
    {
     "name": "stdout",
     "output_type": "stream",
     "text": [
      "m\n",
      "y\n",
      " \n"
     ]
    }
   ],
   "source": [
    "for i in s:\n",
    "    if i == \"n\":\n",
    "        break\n",
    "    print(i)\n",
    "    \n",
    "else:\n",
    "    if i == \"u\":\n",
    "        print(\"U found !\")\n",
    "        \n",
    "# in case of for-else statement, else statement is will execute only if for statement is completed and not broken in between"
   ]
  },
  {
   "cell_type": "code",
   "execution_count": 19,
   "id": "516a746d",
   "metadata": {},
   "outputs": [
    {
     "name": "stdout",
     "output_type": "stream",
     "text": [
      "m\n",
      "y\n",
      " \n",
      "n\n",
      "a\n",
      "m\n",
      "e\n",
      " \n",
      "i\n",
      "s\n",
      " \n",
      "u\n",
      "t\n",
      "k\n",
      "a\n",
      "r\n",
      "s\n",
      "h\n",
      "The else condition is executed after completion i.e. exhaustion of for statement\n"
     ]
    }
   ],
   "source": [
    "for i in s:\n",
    "    print(i)\n",
    "    \n",
    "else:\n",
    "    print(\"The else condition is executed after completion i.e. exhaustion of for statement\")"
   ]
  },
  {
   "cell_type": "code",
   "execution_count": 20,
   "id": "3d3c67b7",
   "metadata": {},
   "outputs": [
    {
     "name": "stdout",
     "output_type": "stream",
     "text": [
      "2\n",
      "3\n",
      "4\n"
     ]
    }
   ],
   "source": [
    "i = 1\n",
    "j = 10\n",
    "\n",
    "while i < j:\n",
    "    i += 1\n",
    "    if i == 5:\n",
    "        break\n",
    "    print(i)"
   ]
  },
  {
   "cell_type": "code",
   "execution_count": 21,
   "id": "30a8f740",
   "metadata": {},
   "outputs": [
    {
     "name": "stdout",
     "output_type": "stream",
     "text": [
      "2\n",
      "3\n",
      "4\n"
     ]
    }
   ],
   "source": [
    "i = 1\n",
    "j = 10\n",
    "\n",
    "while i < j:\n",
    "    i += 1\n",
    "    if i == 5:\n",
    "        break\n",
    "    print(i)\n",
    "    \n",
    "else:\n",
    "    print(\"Dekho mera bhi jaadu\")"
   ]
  },
  {
   "cell_type": "code",
   "execution_count": 22,
   "id": "af4b8470",
   "metadata": {},
   "outputs": [
    {
     "name": "stdout",
     "output_type": "stream",
     "text": [
      "2\n",
      "3\n",
      "4\n",
      "5\n",
      "6\n",
      "7\n",
      "8\n"
     ]
    }
   ],
   "source": [
    "i = 1\n",
    "j = 10\n",
    "\n",
    "while i < j:\n",
    "    i += 1\n",
    "    if i == 9:\n",
    "        break\n",
    "    print(i)\n",
    "    \n",
    "else:\n",
    "    print(\"Dekho mera bhi jaadu\")"
   ]
  },
  {
   "cell_type": "code",
   "execution_count": 23,
   "id": "da6573a9",
   "metadata": {},
   "outputs": [
    {
     "name": "stdout",
     "output_type": "stream",
     "text": [
      "2\n",
      "3\n",
      "4\n",
      "5\n",
      "6\n",
      "7\n",
      "8\n",
      "9\n"
     ]
    }
   ],
   "source": [
    "i = 1\n",
    "j = 10\n",
    "\n",
    "while i < j:\n",
    "    i += 1\n",
    "    if i == 10:\n",
    "        break\n",
    "    print(i)\n",
    "    \n",
    "else:\n",
    "    print(\"Dekho mera bhi jaadu\")"
   ]
  },
  {
   "cell_type": "code",
   "execution_count": 24,
   "id": "53e42dd5",
   "metadata": {},
   "outputs": [
    {
     "name": "stdout",
     "output_type": "stream",
     "text": [
      "2\n",
      "3\n",
      "4\n",
      "5\n",
      "6\n",
      "7\n",
      "8\n",
      "9\n",
      "10\n",
      "Dekho mera bhi jaadu\n"
     ]
    }
   ],
   "source": [
    "i = 1\n",
    "j = 10\n",
    "\n",
    "while i < j:\n",
    "    i += 1\n",
    "    if i == 11:\n",
    "        break\n",
    "    print(i)\n",
    "    \n",
    "else:\n",
    "    print(\"Dekho mera bhi jaadu\")"
   ]
  },
  {
   "cell_type": "code",
   "execution_count": 25,
   "id": "09ee842b",
   "metadata": {},
   "outputs": [
    {
     "name": "stdout",
     "output_type": "stream",
     "text": [
      "m\n",
      "y\n",
      " \n",
      "a\n",
      "m\n",
      "e\n",
      " \n",
      "i\n",
      "s\n",
      " \n",
      "s\n",
      "u\n",
      "d\n",
      "h\n",
      "a\n",
      "s\n",
      "h\n",
      "u\n",
      " UUUU found U ! \n",
      "isko kehte hai jugaad....desi jugaad\n"
     ]
    }
   ],
   "source": [
    "s = \"my name is sudhanshu\"\n",
    "for i in s:\n",
    "    if i == \"n\":\n",
    "        continue\n",
    "    print(i)\n",
    "    \n",
    "else:\n",
    "    if i == \"u\":\n",
    "        \n",
    "        print(\" UUUU found U ! \")\n",
    "    print(\"isko kehte hai jugaad....desi jugaad\")"
   ]
  },
  {
   "cell_type": "code",
   "execution_count": 26,
   "id": "33ce302c",
   "metadata": {},
   "outputs": [
    {
     "name": "stdout",
     "output_type": "stream",
     "text": [
      "m\n",
      "y\n",
      " \n",
      "a\n",
      "m\n",
      "e\n",
      " \n",
      "i\n",
      "s\n",
      " \n",
      "u\n",
      "t\n",
      "k\n",
      "a\n",
      "r\n",
      "s\n",
      "h\n",
      "isko kehte hai jugaad....desi jugaad\n"
     ]
    }
   ],
   "source": [
    "s = \"my name is utkarsh\"\n",
    "for i in s:\n",
    "    if i == \"n\":\n",
    "        continue\n",
    "    print(i)\n",
    "    \n",
    "else:\n",
    "    if i == \"u\":\n",
    "        \n",
    "        print(\" UUUU found U ! \")\n",
    "    print(\"isko kehte hai jugaad....desi jugaad\")"
   ]
  },
  {
   "cell_type": "code",
   "execution_count": 27,
   "id": "3e45bdeb",
   "metadata": {},
   "outputs": [],
   "source": [
    "s = \"ineuron\"\n",
    "ss = \"\"\n",
    "for i in range(len(s)):\n",
    "    if s[i] == \"n\":\n",
    "        continue\n",
    "    else:\n",
    "        ss = ss + s[i]"
   ]
  },
  {
   "cell_type": "code",
   "execution_count": 28,
   "id": "ba508226",
   "metadata": {},
   "outputs": [
    {
     "data": {
      "text/plain": [
       "'ieuro'"
      ]
     },
     "execution_count": 28,
     "metadata": {},
     "output_type": "execute_result"
    }
   ],
   "source": [
    "ss"
   ]
  },
  {
   "cell_type": "code",
   "execution_count": 29,
   "id": "09a48788",
   "metadata": {},
   "outputs": [
    {
     "name": "stdout",
     "output_type": "stream",
     "text": [
      "+\r\n",
      "++\r\n",
      "+++\r\n",
      "++++\r\n",
      "+++++\r\n",
      "++++++\r\n",
      "+++++++\r\n"
     ]
    }
   ],
   "source": [
    "n = 7\n",
    "for i in range(0,n):\n",
    "    for j in range(0, i+1):\n",
    "        print(\"+\", end = \"\")\n",
    "    print(\"\\r\")"
   ]
  },
  {
   "cell_type": "code",
   "execution_count": 30,
   "id": "e013363e",
   "metadata": {},
   "outputs": [
    {
     "name": "stdout",
     "output_type": "stream",
     "text": [
      "+\n",
      "\n",
      "++\n",
      "\n",
      "+++\n",
      "\n",
      "++++\n",
      "\n",
      "+++++\n",
      "\n",
      "++++++\n",
      "\n",
      "+++++++\n",
      "\n"
     ]
    }
   ],
   "source": [
    "n = 7\n",
    "for i in range(0,n):\n",
    "    for j in range(0, i+1):\n",
    "        print(\"+\", end = \"\")\n",
    "    print(\"\\n\")"
   ]
  },
  {
   "cell_type": "code",
   "execution_count": null,
   "id": "bbbbaa8c",
   "metadata": {},
   "outputs": [],
   "source": []
  },
  {
   "cell_type": "code",
   "execution_count": 32,
   "id": "d67603e5",
   "metadata": {},
   "outputs": [
    {
     "name": "stdout",
     "output_type": "stream",
     "text": [
      "+*\n",
      "\n",
      "+*+*\n",
      "\n",
      "+*+*+*\n",
      "\n",
      "+*+*+*+*\n",
      "\n",
      "+*+*+*+*+*\n",
      "\n",
      "+*+*+*+*+*+*\n",
      "\n",
      "+*+*+*+*+*+*+*\n",
      "\n"
     ]
    }
   ],
   "source": [
    "n = 7\n",
    "for i in range(0,n):\n",
    "    for j in range(0, i+1):\n",
    "        print(\"+\", end = \"*\")\n",
    "    print(\"\\n\")"
   ]
  },
  {
   "cell_type": "code",
   "execution_count": 33,
   "id": "45b1609b",
   "metadata": {},
   "outputs": [
    {
     "name": "stdout",
     "output_type": "stream",
     "text": [
      "+^\n",
      "\n",
      "+^+^\n",
      "\n",
      "+^+^+^\n",
      "\n",
      "+^+^+^+^\n",
      "\n",
      "+^+^+^+^+^\n",
      "\n",
      "+^+^+^+^+^+^\n",
      "\n",
      "+^+^+^+^+^+^+^\n",
      "\n"
     ]
    }
   ],
   "source": [
    "n = 7\n",
    "for i in range(0,n):\n",
    "    for j in range(0, i+1):\n",
    "        print(\"+\", end = \"^\")\n",
    "    print(\"\\n\")"
   ]
  },
  {
   "cell_type": "code",
   "execution_count": 34,
   "id": "4fcbd732",
   "metadata": {},
   "outputs": [
    {
     "name": "stdout",
     "output_type": "stream",
     "text": [
      "+^+^+^+^+^\n",
      "\n",
      "+^+^+^+^+^+^\n",
      "\n",
      "+^+^+^+^+^+^+^\n",
      "\n",
      "+^+^+^+^+^+^+^+^\n",
      "\n",
      "+^+^+^+^+^+^+^+^+^\n",
      "\n",
      "+^+^+^+^+^+^+^+^+^+^\n",
      "\n",
      "+^+^+^+^+^+^+^+^+^+^+^\n",
      "\n"
     ]
    }
   ],
   "source": [
    "n = 7\n",
    "for i in range(0,n):\n",
    "    for j in range(0, i+5):\n",
    "        print(\"+\", end = \"^\")\n",
    "    print(\"\\n\")"
   ]
  },
  {
   "cell_type": "code",
   "execution_count": 36,
   "id": "40aeda4f",
   "metadata": {},
   "outputs": [
    {
     "name": "stdout",
     "output_type": "stream",
     "text": [
      "+++++++\n",
      "\n",
      "+++++++\n",
      "\n",
      "+++++++\n",
      "\n",
      "+++++++\n",
      "\n",
      "+++++++\n",
      "\n",
      "+++++++\n",
      "\n",
      "+++++++\n",
      "\n"
     ]
    }
   ],
   "source": [
    "n = 7\n",
    "for i in range(0,n):\n",
    "    for j in range(n, 0,-1):\n",
    "        print(\"+\", end = \"\")\n",
    "    print(\"\\n\")"
   ]
  },
  {
   "cell_type": "code",
   "execution_count": 37,
   "id": "da362b2b",
   "metadata": {},
   "outputs": [
    {
     "name": "stdout",
     "output_type": "stream",
     "text": [
      "+++++++\r\n",
      "+++++++\r\n",
      "+++++++\r\n",
      "+++++++\r\n",
      "+++++++\r\n",
      "+++++++\r\n",
      "+++++++\r\n"
     ]
    }
   ],
   "source": [
    "n = 7\n",
    "for i in range(0,n):\n",
    "    for j in range(n, 0,-1):\n",
    "        print(\"+\", end = \"\")\n",
    "    print(\"\\r\")"
   ]
  },
  {
   "cell_type": "code",
   "execution_count": 39,
   "id": "983785a5",
   "metadata": {},
   "outputs": [
    {
     "name": "stdout",
     "output_type": "stream",
     "text": [
      "Enter the number of rows u want: 7\n",
      "*************\n",
      " ***********\n",
      "  *********\n",
      "   *******\n",
      "    *****\n",
      "     ***\n",
      "      *\n"
     ]
    }
   ],
   "source": [
    "n = int(input(\"Enter the number of rows u want: \"))\n",
    "for i in range(n,0,-1):\n",
    "    for j in range(n-i):\n",
    "        print(\" \", end = \"\")\n",
    "    for j in range(2*i - 1):\n",
    "        print(\"*\", end = \"\")\n",
    "    print(\"\\r\")"
   ]
  },
  {
   "cell_type": "code",
   "execution_count": 40,
   "id": "24e5af28",
   "metadata": {},
   "outputs": [
    {
     "name": "stdout",
     "output_type": "stream",
     "text": [
      "Enter the number of rows u want: 9\n",
      "*****************\n",
      "\n",
      " ***************\n",
      "\n",
      "  *************\n",
      "\n",
      "   ***********\n",
      "\n",
      "    *********\n",
      "\n",
      "     *******\n",
      "\n",
      "      *****\n",
      "\n",
      "       ***\n",
      "\n",
      "        *\n",
      "\n"
     ]
    }
   ],
   "source": [
    "n = int(input(\"Enter the number of rows u want: \"))\n",
    "for i in range(n,0,-1):\n",
    "    for j in range(n-i):\n",
    "        print(\" \", end = \"\")\n",
    "    for j in range(2*i - 1):\n",
    "        print(\"*\", end = \"\")\n",
    "    print(\"\\n\")"
   ]
  },
  {
   "cell_type": "code",
   "execution_count": 41,
   "id": "24987c23",
   "metadata": {},
   "outputs": [
    {
     "name": "stdout",
     "output_type": "stream",
     "text": [
      "Enter the number of rows u want: 5\n",
      "****\n",
      " ***\n",
      "  **\n",
      "   *\n",
      "    \n"
     ]
    }
   ],
   "source": [
    "n = int(input(\"Enter the number of rows u want: \"))\n",
    "for i in range(n,0,-1):\n",
    "    for j in range(n-i):\n",
    "        print(\" \", end = \"\")\n",
    "    for j in range(i - 1):\n",
    "        print(\"*\", end = \"\")\n",
    "    print(\"\\r\")"
   ]
  },
  {
   "cell_type": "code",
   "execution_count": 42,
   "id": "3327f454",
   "metadata": {},
   "outputs": [
    {
     "name": "stdout",
     "output_type": "stream",
     "text": [
      "Enter the number of rows u want: 5\n",
      "****\n",
      "***\n",
      "**\n",
      "*\n",
      "\n"
     ]
    }
   ],
   "source": [
    "n = int(input(\"Enter the number of rows u want: \"))\n",
    "for i in range(n,0,-1):\n",
    "    for j in range(n-i):\n",
    "        print(\"\", end = \"\")\n",
    "    for j in range(i - 1):\n",
    "        print(\"*\", end = \"\")\n",
    "    print(\"\\r\")"
   ]
  },
  {
   "cell_type": "code",
   "execution_count": 43,
   "id": "01f7159a",
   "metadata": {},
   "outputs": [
    {
     "name": "stdout",
     "output_type": "stream",
     "text": [
      "Enter the number of rows u want: 5\n",
      "****\n",
      "***\n",
      "**\n",
      "*\n",
      "\n"
     ]
    }
   ],
   "source": [
    "n = int(input(\"Enter the number of rows u want: \"))\n",
    "for i in range(n,0,-1):\n",
    "    for j in range(i - 1):\n",
    "        print(\"*\", end = \"\")\n",
    "    print(\"\\r\")"
   ]
  },
  {
   "cell_type": "code",
   "execution_count": 44,
   "id": "471d52b8",
   "metadata": {},
   "outputs": [
    {
     "name": "stdout",
     "output_type": "stream",
     "text": [
      "Enter the number of rows u want: 5\n",
      "****\n",
      "***\n",
      "**\n",
      "*\n",
      "\n"
     ]
    }
   ],
   "source": [
    "n = int(input(\"Enter the number of rows u want: \"))\n",
    "for i in range(n,0,-1):\n",
    "    for j in range(i - 1):\n",
    "        print(\"*\", end = \"\")\n",
    "    print(\"\\r\")"
   ]
  },
  {
   "cell_type": "code",
   "execution_count": 46,
   "id": "8ba73602",
   "metadata": {},
   "outputs": [],
   "source": [
    "a = range(10)"
   ]
  },
  {
   "cell_type": "code",
   "execution_count": 47,
   "id": "84d2b391",
   "metadata": {},
   "outputs": [
    {
     "data": {
      "text/plain": [
       "range(0, 10)"
      ]
     },
     "execution_count": 47,
     "metadata": {},
     "output_type": "execute_result"
    }
   ],
   "source": [
    "a"
   ]
  },
  {
   "cell_type": "code",
   "execution_count": 48,
   "id": "2363dc53",
   "metadata": {},
   "outputs": [
    {
     "data": {
      "text/plain": [
       "range"
      ]
     },
     "execution_count": 48,
     "metadata": {},
     "output_type": "execute_result"
    }
   ],
   "source": [
    "type(a)"
   ]
  },
  {
   "cell_type": "code",
   "execution_count": 49,
   "id": "a92e3040",
   "metadata": {},
   "outputs": [
    {
     "data": {
      "text/plain": [
       "352232198"
      ]
     },
     "execution_count": 49,
     "metadata": {},
     "output_type": "execute_result"
    }
   ],
   "source": [
    "len(range(2334,352234532))"
   ]
  }
 ],
 "metadata": {
  "kernelspec": {
   "display_name": "Python 3 (ipykernel)",
   "language": "python",
   "name": "python3"
  },
  "language_info": {
   "codemirror_mode": {
    "name": "ipython",
    "version": 3
   },
   "file_extension": ".py",
   "mimetype": "text/x-python",
   "name": "python",
   "nbconvert_exporter": "python",
   "pygments_lexer": "ipython3",
   "version": "3.9.7"
  }
 },
 "nbformat": 4,
 "nbformat_minor": 5
}
