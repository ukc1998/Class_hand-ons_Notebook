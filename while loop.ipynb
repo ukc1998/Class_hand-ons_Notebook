{
 "cells": [
  {
   "cell_type": "code",
   "execution_count": 1,
   "id": "af51403c",
   "metadata": {},
   "outputs": [
    {
     "name": "stdout",
     "output_type": "stream",
     "text": [
      "this is a valid statement \n"
     ]
    }
   ],
   "source": [
    "a = 10\n",
    "b = 20\n",
    "\n",
    "if a==10 and b == 20:\n",
    "    print(\"this is a valid statement \")"
   ]
  },
  {
   "cell_type": "code",
   "execution_count": 2,
   "id": "59a2721f",
   "metadata": {},
   "outputs": [
    {
     "data": {
      "text/plain": [
       "True"
      ]
     },
     "execution_count": 2,
     "metadata": {},
     "output_type": "execute_result"
    }
   ],
   "source": [
    "a ==10"
   ]
  },
  {
   "cell_type": "code",
   "execution_count": 3,
   "id": "bda4aca5",
   "metadata": {},
   "outputs": [
    {
     "data": {
      "text/plain": [
       "True"
      ]
     },
     "execution_count": 3,
     "metadata": {},
     "output_type": "execute_result"
    }
   ],
   "source": [
    "a==10 and b>10"
   ]
  },
  {
   "cell_type": "code",
   "execution_count": 4,
   "id": "865c1597",
   "metadata": {},
   "outputs": [
    {
     "data": {
      "text/plain": [
       "False"
      ]
     },
     "execution_count": 4,
     "metadata": {},
     "output_type": "execute_result"
    }
   ],
   "source": [
    "a==10 and b < 10"
   ]
  },
  {
   "cell_type": "code",
   "execution_count": 5,
   "id": "1e7bb0df",
   "metadata": {},
   "outputs": [
    {
     "data": {
      "text/plain": [
       "0"
      ]
     },
     "execution_count": 5,
     "metadata": {},
     "output_type": "execute_result"
    }
   ],
   "source": [
    "False**True"
   ]
  },
  {
   "cell_type": "code",
   "execution_count": 6,
   "id": "55083d84",
   "metadata": {},
   "outputs": [
    {
     "data": {
      "text/plain": [
       "1"
      ]
     },
     "execution_count": 6,
     "metadata": {},
     "output_type": "execute_result"
    }
   ],
   "source": [
    "True**False"
   ]
  },
  {
   "cell_type": "code",
   "execution_count": 7,
   "id": "fb1a98ae",
   "metadata": {},
   "outputs": [
    {
     "name": "stdout",
     "output_type": "stream",
     "text": [
      "chalo ek condition to fulfill hua\n"
     ]
    }
   ],
   "source": [
    "a =10\n",
    "b=20\n",
    "\n",
    "if a < 10 or b <30:\n",
    "    print(\"chalo ek condition to fulfill hua\")"
   ]
  },
  {
   "cell_type": "code",
   "execution_count": 8,
   "id": "9614550d",
   "metadata": {},
   "outputs": [
    {
     "name": "stdout",
     "output_type": "stream",
     "text": [
      "Enter your first name: Utkarsh\n",
      "Enter your last name: Choubey\n",
      "Its great,, you have entered a valid name\n"
     ]
    }
   ],
   "source": [
    "f_name = input(\"Enter your first name: \")\n",
    "l_name = input(\"Enter your last name: \")\n",
    "\n",
    "if f_name == \"Utkarsh\" and l_name == \"Choubey\":\n",
    "    print(\"Its great,, you have entered a valid name\")\n",
    "    \n",
    "else:\n",
    "    print(\"Incorrect name ! \")"
   ]
  },
  {
   "cell_type": "code",
   "execution_count": 14,
   "id": "83021334",
   "metadata": {},
   "outputs": [
    {
     "name": "stdout",
     "output_type": "stream",
     "text": [
      " this is my speed 1\n",
      " this is my speed 2\n",
      " this is my speed 3\n",
      " this is my speed 4\n",
      " this is my speed 5\n",
      " this is my speed 6\n",
      " this is my speed 7\n",
      " this is my speed 8\n",
      " this is my speed 9\n",
      " this is my speed 10\n"
     ]
    }
   ],
   "source": [
    "initial_speed = 0\n",
    "final_speed = 100\n",
    "count = 1\n",
    "\n",
    "while initial_speed <= final_speed:\n",
    "    print(\" this is my speed\", count)\n",
    "    count = count + 1\n",
    "    if count > 10:\n",
    "        break\n",
    "    "
   ]
  },
  {
   "cell_type": "code",
   "execution_count": 16,
   "id": "4aa7c6d1",
   "metadata": {},
   "outputs": [
    {
     "name": "stdout",
     "output_type": "stream",
     "text": [
      " this is my speed 1\n",
      " this is my speed 2\n",
      " this is my speed 3\n",
      " this is my speed 4\n",
      " this is my speed 5\n",
      " this is my speed 6\n",
      " this is my speed 7\n",
      " this is my speed 8\n",
      " this is my speed 9\n",
      " this is my speed 10\n"
     ]
    }
   ],
   "source": [
    "initial_speed = 0\n",
    "final_speed = 100\n",
    "count = 1\n",
    "\n",
    "while initial_speed <= final_speed:\n",
    "    print(\" this is my speed\", count)\n",
    "    count += 1\n",
    "    if count > 10:\n",
    "        break\n",
    "    "
   ]
  },
  {
   "cell_type": "code",
   "execution_count": 17,
   "id": "be171049",
   "metadata": {},
   "outputs": [
    {
     "name": "stdout",
     "output_type": "stream",
     "text": [
      "0\n",
      "1\n",
      "2\n",
      "3\n",
      "4\n",
      "5\n",
      "6\n",
      "7\n",
      "8\n",
      "9\n"
     ]
    }
   ],
   "source": [
    "for i in range(10):\n",
    "    print(i)"
   ]
  },
  {
   "cell_type": "code",
   "execution_count": 18,
   "id": "90c835cf",
   "metadata": {},
   "outputs": [
    {
     "name": "stdout",
     "output_type": "stream",
     "text": [
      "5\n",
      "6\n",
      "7\n",
      "8\n",
      "9\n"
     ]
    }
   ],
   "source": [
    "for i in range(5,10):\n",
    "    print(i)"
   ]
  },
  {
   "cell_type": "code",
   "execution_count": 19,
   "id": "a6063a9c",
   "metadata": {},
   "outputs": [
    {
     "name": "stdout",
     "output_type": "stream",
     "text": [
      "10\n",
      "20\n",
      "30\n",
      "40\n",
      "50\n"
     ]
    }
   ],
   "source": [
    "count = 0\n",
    "for i in range(5,10):\n",
    "    count +=10\n",
    "    print(count)"
   ]
  },
  {
   "cell_type": "code",
   "execution_count": 20,
   "id": "7d3a60e7",
   "metadata": {},
   "outputs": [
    {
     "name": "stdout",
     "output_type": "stream",
     "text": [
      "1\n",
      "2\n",
      "3\n",
      "4\n"
     ]
    }
   ],
   "source": [
    "i = 1\n",
    "j = 5\n",
    "\n",
    "while i < j:\n",
    "    print(i)\n",
    "    i +=1"
   ]
  },
  {
   "cell_type": "code",
   "execution_count": null,
   "id": "2de6e568",
   "metadata": {},
   "outputs": [],
   "source": []
  },
  {
   "cell_type": "code",
   "execution_count": null,
   "id": "956d5fcc",
   "metadata": {},
   "outputs": [],
   "source": []
  }
 ],
 "metadata": {
  "kernelspec": {
   "display_name": "Python 3 (ipykernel)",
   "language": "python",
   "name": "python3"
  },
  "language_info": {
   "codemirror_mode": {
    "name": "ipython",
    "version": 3
   },
   "file_extension": ".py",
   "mimetype": "text/x-python",
   "name": "python",
   "nbconvert_exporter": "python",
   "pygments_lexer": "ipython3",
   "version": "3.9.7"
  }
 },
 "nbformat": 4,
 "nbformat_minor": 5
}
