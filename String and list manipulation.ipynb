{
 "cells": [
  {
   "cell_type": "code",
   "execution_count": 1,
   "id": "c96ea8b3",
   "metadata": {},
   "outputs": [],
   "source": [
    "a = \"sudh\""
   ]
  },
  {
   "cell_type": "code",
   "execution_count": 2,
   "id": "5005fd8b",
   "metadata": {},
   "outputs": [],
   "source": [
    "b = 'sudh'"
   ]
  },
  {
   "cell_type": "code",
   "execution_count": 3,
   "id": "a9257cbd",
   "metadata": {},
   "outputs": [
    {
     "data": {
      "text/plain": [
       "'sudh'"
      ]
     },
     "execution_count": 3,
     "metadata": {},
     "output_type": "execute_result"
    }
   ],
   "source": [
    "a"
   ]
  },
  {
   "cell_type": "code",
   "execution_count": 4,
   "id": "2ae7ac59",
   "metadata": {},
   "outputs": [
    {
     "data": {
      "text/plain": [
       "'sudh'"
      ]
     },
     "execution_count": 4,
     "metadata": {},
     "output_type": "execute_result"
    }
   ],
   "source": [
    "b"
   ]
  },
  {
   "cell_type": "code",
   "execution_count": 5,
   "id": "e6f653b9",
   "metadata": {},
   "outputs": [],
   "source": [
    "c = \"Its's hot, that's why its irritating\""
   ]
  },
  {
   "cell_type": "code",
   "execution_count": 7,
   "id": "7dab2463",
   "metadata": {},
   "outputs": [],
   "source": [
    "d = 'Its\"s hot, that\"s why its irritating'"
   ]
  },
  {
   "cell_type": "code",
   "execution_count": 8,
   "id": "7261883c",
   "metadata": {},
   "outputs": [
    {
     "data": {
      "text/plain": [
       "'Its\"s hot, that\"s why its irritating'"
      ]
     },
     "execution_count": 8,
     "metadata": {},
     "output_type": "execute_result"
    }
   ],
   "source": [
    "c"
   ]
  },
  {
   "cell_type": "code",
   "execution_count": 9,
   "id": "054490fe",
   "metadata": {},
   "outputs": [
    {
     "data": {
      "text/plain": [
       "'Its\"s hot, that\"s why its irritating'"
      ]
     },
     "execution_count": 9,
     "metadata": {},
     "output_type": "execute_result"
    }
   ],
   "source": [
    "d"
   ]
  },
  {
   "cell_type": "code",
   "execution_count": 10,
   "id": "19b2a53d",
   "metadata": {},
   "outputs": [],
   "source": [
    "l = [\"sudh\",  2343, 24563, 64523]"
   ]
  },
  {
   "cell_type": "code",
   "execution_count": 11,
   "id": "9de7f880",
   "metadata": {},
   "outputs": [],
   "source": [
    "l[0] = \"ukc\""
   ]
  },
  {
   "cell_type": "code",
   "execution_count": 12,
   "id": "98934bf2",
   "metadata": {},
   "outputs": [
    {
     "data": {
      "text/plain": [
       "['ukc', 2343, 24563, 64523]"
      ]
     },
     "execution_count": 12,
     "metadata": {},
     "output_type": "execute_result"
    }
   ],
   "source": [
    "l"
   ]
  },
  {
   "cell_type": "code",
   "execution_count": 13,
   "id": "76ffcfb1",
   "metadata": {},
   "outputs": [],
   "source": [
    "# list is mutable object "
   ]
  },
  {
   "cell_type": "code",
   "execution_count": 14,
   "id": "d60ebccf",
   "metadata": {},
   "outputs": [],
   "source": [
    "s = \"kaa ho kaa haal baate\""
   ]
  },
  {
   "cell_type": "code",
   "execution_count": 15,
   "id": "1fa52280",
   "metadata": {},
   "outputs": [
    {
     "ename": "TypeError",
     "evalue": "'str' object does not support item assignment",
     "output_type": "error",
     "traceback": [
      "\u001b[1;31m---------------------------------------------------------------------------\u001b[0m",
      "\u001b[1;31mTypeError\u001b[0m                                 Traceback (most recent call last)",
      "\u001b[1;32m~\\AppData\\Local\\Temp/ipykernel_7884/3898074554.py\u001b[0m in \u001b[0;36m<module>\u001b[1;34m\u001b[0m\n\u001b[1;32m----> 1\u001b[1;33m \u001b[0ms\u001b[0m\u001b[1;33m[\u001b[0m\u001b[1;36m0\u001b[0m\u001b[1;33m]\u001b[0m \u001b[1;33m=\u001b[0m \u001b[1;34m\"bhak\"\u001b[0m\u001b[1;33m\u001b[0m\u001b[1;33m\u001b[0m\u001b[0m\n\u001b[0m",
      "\u001b[1;31mTypeError\u001b[0m: 'str' object does not support item assignment"
     ]
    }
   ],
   "source": [
    "s[0] = \"bhak\""
   ]
  },
  {
   "cell_type": "code",
   "execution_count": 16,
   "id": "971f4bb1",
   "metadata": {},
   "outputs": [],
   "source": [
    "# string object are immutable"
   ]
  },
  {
   "cell_type": "code",
   "execution_count": 17,
   "id": "01571cbd",
   "metadata": {},
   "outputs": [
    {
     "data": {
      "text/plain": [
       "'sudh3'"
      ]
     },
     "execution_count": 17,
     "metadata": {},
     "output_type": "execute_result"
    }
   ],
   "source": [
    "#typecasting : \n",
    "\n",
    "\"sudh\" + \"3\""
   ]
  },
  {
   "cell_type": "code",
   "execution_count": 18,
   "id": "ac964b6f",
   "metadata": {},
   "outputs": [
    {
     "data": {
      "text/plain": [
       "'sudh3'"
      ]
     },
     "execution_count": 18,
     "metadata": {},
     "output_type": "execute_result"
    }
   ],
   "source": [
    "#typecasting : \n",
    "\n",
    "\"sudh\" + str(3)"
   ]
  },
  {
   "cell_type": "code",
   "execution_count": 19,
   "id": "ee368102",
   "metadata": {},
   "outputs": [],
   "source": [
    "s = \"my name is Utkarsh\""
   ]
  },
  {
   "cell_type": "code",
   "execution_count": 20,
   "id": "3c97f415",
   "metadata": {},
   "outputs": [
    {
     "data": {
      "text/plain": [
       "<function str.capitalize()>"
      ]
     },
     "execution_count": 20,
     "metadata": {},
     "output_type": "execute_result"
    }
   ],
   "source": [
    "s.capitalize"
   ]
  },
  {
   "cell_type": "code",
   "execution_count": 21,
   "id": "c636fdf3",
   "metadata": {},
   "outputs": [
    {
     "data": {
      "text/plain": [
       "'My name is utkarsh'"
      ]
     },
     "execution_count": 21,
     "metadata": {},
     "output_type": "execute_result"
    }
   ],
   "source": [
    "s.capitalize()"
   ]
  },
  {
   "cell_type": "code",
   "execution_count": 22,
   "id": "2a13ca93",
   "metadata": {},
   "outputs": [
    {
     "data": {
      "text/plain": [
       "1"
      ]
     },
     "execution_count": 22,
     "metadata": {},
     "output_type": "execute_result"
    }
   ],
   "source": [
    "s.count(s)"
   ]
  },
  {
   "cell_type": "code",
   "execution_count": 23,
   "id": "b75cf996",
   "metadata": {},
   "outputs": [
    {
     "data": {
      "text/plain": [
       "2"
      ]
     },
     "execution_count": 23,
     "metadata": {},
     "output_type": "execute_result"
    }
   ],
   "source": [
    "s.count(\"s\")"
   ]
  },
  {
   "cell_type": "code",
   "execution_count": 24,
   "id": "559003bb",
   "metadata": {},
   "outputs": [
    {
     "data": {
      "text/plain": [
       "<function str.endswith>"
      ]
     },
     "execution_count": 24,
     "metadata": {},
     "output_type": "execute_result"
    }
   ],
   "source": [
    "s.endswith"
   ]
  },
  {
   "cell_type": "code",
   "execution_count": 25,
   "id": "345d30de",
   "metadata": {},
   "outputs": [
    {
     "ename": "TypeError",
     "evalue": "endswith() takes at least 1 argument (0 given)",
     "output_type": "error",
     "traceback": [
      "\u001b[1;31m---------------------------------------------------------------------------\u001b[0m",
      "\u001b[1;31mTypeError\u001b[0m                                 Traceback (most recent call last)",
      "\u001b[1;32m~\\AppData\\Local\\Temp/ipykernel_7884/146069233.py\u001b[0m in \u001b[0;36m<module>\u001b[1;34m\u001b[0m\n\u001b[1;32m----> 1\u001b[1;33m \u001b[0ms\u001b[0m\u001b[1;33m.\u001b[0m\u001b[0mendswith\u001b[0m\u001b[1;33m(\u001b[0m\u001b[1;33m)\u001b[0m\u001b[1;33m\u001b[0m\u001b[1;33m\u001b[0m\u001b[0m\n\u001b[0m",
      "\u001b[1;31mTypeError\u001b[0m: endswith() takes at least 1 argument (0 given)"
     ]
    }
   ],
   "source": [
    "s.endswith()"
   ]
  },
  {
   "cell_type": "code",
   "execution_count": 26,
   "id": "59113a7b",
   "metadata": {},
   "outputs": [
    {
     "data": {
      "text/plain": [
       "True"
      ]
     },
     "execution_count": 26,
     "metadata": {},
     "output_type": "execute_result"
    }
   ],
   "source": [
    "s.endswith(\"h\")"
   ]
  },
  {
   "cell_type": "code",
   "execution_count": 27,
   "id": "bb6a3561",
   "metadata": {},
   "outputs": [
    {
     "data": {
      "text/plain": [
       "False"
      ]
     },
     "execution_count": 27,
     "metadata": {},
     "output_type": "execute_result"
    }
   ],
   "source": [
    "s.endswith(\"M\")"
   ]
  },
  {
   "cell_type": "code",
   "execution_count": 28,
   "id": "73d038ae",
   "metadata": {},
   "outputs": [
    {
     "data": {
      "text/plain": [
       "True"
      ]
     },
     "execution_count": 28,
     "metadata": {},
     "output_type": "execute_result"
    }
   ],
   "source": [
    "s.startswith(\"m\")"
   ]
  },
  {
   "cell_type": "code",
   "execution_count": 29,
   "id": "6d04fda7",
   "metadata": {},
   "outputs": [
    {
     "data": {
      "text/plain": [
       "False"
      ]
     },
     "execution_count": 29,
     "metadata": {},
     "output_type": "execute_result"
    }
   ],
   "source": [
    "s.startswith(\"M\")"
   ]
  },
  {
   "cell_type": "code",
   "execution_count": 30,
   "id": "008aab0e",
   "metadata": {},
   "outputs": [
    {
     "data": {
      "text/plain": [
       "9"
      ]
     },
     "execution_count": 30,
     "metadata": {},
     "output_type": "execute_result"
    }
   ],
   "source": [
    "s.find(\"s\") #it returns lowest index .i.e. first occurence"
   ]
  },
  {
   "cell_type": "code",
   "execution_count": 31,
   "id": "f540c4f9",
   "metadata": {},
   "outputs": [
    {
     "data": {
      "text/plain": [
       "9"
      ]
     },
     "execution_count": 31,
     "metadata": {},
     "output_type": "execute_result"
    }
   ],
   "source": [
    "s.index(\"s\")"
   ]
  },
  {
   "cell_type": "code",
   "execution_count": 32,
   "id": "8bd4083d",
   "metadata": {},
   "outputs": [
    {
     "data": {
      "text/plain": [
       "0"
      ]
     },
     "execution_count": 32,
     "metadata": {},
     "output_type": "execute_result"
    }
   ],
   "source": [
    "s.index(\"my\")"
   ]
  },
  {
   "cell_type": "code",
   "execution_count": 33,
   "id": "58bedb21",
   "metadata": {},
   "outputs": [
    {
     "data": {
      "text/plain": [
       "3"
      ]
     },
     "execution_count": 33,
     "metadata": {},
     "output_type": "execute_result"
    }
   ],
   "source": [
    "s.find(\"name\")"
   ]
  },
  {
   "cell_type": "code",
   "execution_count": 34,
   "id": "c2f8867f",
   "metadata": {},
   "outputs": [],
   "source": [
    "s = \"my name is sudhanshu kumar, name of organisation is Ineuron\""
   ]
  },
  {
   "cell_type": "code",
   "execution_count": 37,
   "id": "6740ccef",
   "metadata": {},
   "outputs": [
    {
     "name": "stdout",
     "output_type": "stream",
     "text": [
      "The index of  n is  3\n",
      "The index of  a is  4\n",
      "The index of  m is  5\n",
      "The index of  e is  6\n"
     ]
    }
   ],
   "source": [
    "n = s.find(\"name\")\n",
    "count = n\n",
    "for i in \"name\":\n",
    "    print(\"The index of \",i, \"is \", count)\n",
    "    count +=1"
   ]
  },
  {
   "cell_type": "code",
   "execution_count": 38,
   "id": "f0e12c75",
   "metadata": {},
   "outputs": [],
   "source": [
    "s = \"my name is sudhanshu kumar, Name of organisation is Ineuron\""
   ]
  },
  {
   "cell_type": "code",
   "execution_count": 39,
   "id": "f37c8a65",
   "metadata": {},
   "outputs": [
    {
     "data": {
      "text/plain": [
       "1"
      ]
     },
     "execution_count": 39,
     "metadata": {},
     "output_type": "execute_result"
    }
   ],
   "source": [
    "s.count(\"name\") #case sensitive"
   ]
  },
  {
   "cell_type": "code",
   "execution_count": 40,
   "id": "d04eedf4",
   "metadata": {},
   "outputs": [
    {
     "data": {
      "text/plain": [
       "['my',\n",
       " 'name',\n",
       " 'is',\n",
       " 'sudhanshu',\n",
       " 'kumar,',\n",
       " 'Name',\n",
       " 'of',\n",
       " 'organisation',\n",
       " 'is',\n",
       " 'Ineuron']"
      ]
     },
     "execution_count": 40,
     "metadata": {},
     "output_type": "execute_result"
    }
   ],
   "source": [
    "s.split()"
   ]
  },
  {
   "cell_type": "code",
   "execution_count": 41,
   "id": "90f03c4f",
   "metadata": {},
   "outputs": [
    {
     "data": {
      "text/plain": [
       "['my name ', ' sudhanshu kumar, Name of organ', 'ation ', ' Ineuron']"
      ]
     },
     "execution_count": 41,
     "metadata": {},
     "output_type": "execute_result"
    }
   ],
   "source": [
    "s.split(\"is\")"
   ]
  },
  {
   "cell_type": "code",
   "execution_count": 42,
   "id": "afaa486a",
   "metadata": {},
   "outputs": [
    {
     "data": {
      "text/plain": [
       "['my name is sudhanshu kumar', ' Name of organisation is Ineuron']"
      ]
     },
     "execution_count": 42,
     "metadata": {},
     "output_type": "execute_result"
    }
   ],
   "source": [
    "s.split(\",\")"
   ]
  },
  {
   "cell_type": "code",
   "execution_count": 43,
   "id": "ccdac8c4",
   "metadata": {},
   "outputs": [
    {
     "data": {
      "text/plain": [
       "'MY NAME IS SUDHANSHU KUMAR, NAME OF ORGANISATION IS INEURON'"
      ]
     },
     "execution_count": 43,
     "metadata": {},
     "output_type": "execute_result"
    }
   ],
   "source": [
    "s.upper()"
   ]
  },
  {
   "cell_type": "code",
   "execution_count": 44,
   "id": "b3ad4ec6",
   "metadata": {},
   "outputs": [
    {
     "data": {
      "text/plain": [
       "'my name is sudhanshu kumar, name of organisation is ineuron'"
      ]
     },
     "execution_count": 44,
     "metadata": {},
     "output_type": "execute_result"
    }
   ],
   "source": [
    "s.lower()"
   ]
  },
  {
   "cell_type": "code",
   "execution_count": 45,
   "id": "0a04b04a",
   "metadata": {},
   "outputs": [
    {
     "data": {
      "text/plain": [
       "'MY NAME IS SUDHANSHU KUMAR, nAME OF ORGANISATION IS iNEURON'"
      ]
     },
     "execution_count": 45,
     "metadata": {},
     "output_type": "execute_result"
    }
   ],
   "source": [
    "s.swapcase()"
   ]
  },
  {
   "cell_type": "code",
   "execution_count": 46,
   "id": "2fbef632",
   "metadata": {},
   "outputs": [
    {
     "data": {
      "text/plain": [
       "False"
      ]
     },
     "execution_count": 46,
     "metadata": {},
     "output_type": "execute_result"
    }
   ],
   "source": [
    "s.isupper()"
   ]
  },
  {
   "cell_type": "code",
   "execution_count": 47,
   "id": "1bde69dd",
   "metadata": {},
   "outputs": [
    {
     "data": {
      "text/plain": [
       "False"
      ]
     },
     "execution_count": 47,
     "metadata": {},
     "output_type": "execute_result"
    }
   ],
   "source": [
    "s.islower()"
   ]
  },
  {
   "cell_type": "code",
   "execution_count": 48,
   "id": "9979b0bd",
   "metadata": {},
   "outputs": [
    {
     "data": {
      "text/plain": [
       "'m*y* *n*a*m*e* *i*s* *s*u*d*h*a*n*s*h*u* *k*u*m*a*r*,* *N*a*m*e* *o*f* *o*r*g*a*n*i*s*a*t*i*o*n* *i*s* *I*n*e*u*r*o*n'"
      ]
     },
     "execution_count": 48,
     "metadata": {},
     "output_type": "execute_result"
    }
   ],
   "source": [
    "\"*\".join(s)"
   ]
  },
  {
   "cell_type": "code",
   "execution_count": 49,
   "id": "04048195",
   "metadata": {},
   "outputs": [
    {
     "data": {
      "text/plain": [
       "<reversed at 0x2487d34e520>"
      ]
     },
     "execution_count": 49,
     "metadata": {},
     "output_type": "execute_result"
    }
   ],
   "source": [
    "reversed(s)"
   ]
  },
  {
   "cell_type": "code",
   "execution_count": 50,
   "id": "176aaa7e",
   "metadata": {},
   "outputs": [
    {
     "data": {
      "text/plain": [
       "<reversed at 0x2487d9420d0>"
      ]
     },
     "execution_count": 50,
     "metadata": {},
     "output_type": "execute_result"
    }
   ],
   "source": [
    "(reversed(s))"
   ]
  },
  {
   "cell_type": "code",
   "execution_count": 51,
   "id": "f8d8c52c",
   "metadata": {},
   "outputs": [
    {
     "data": {
      "text/plain": [
       "['n',\n",
       " 'o',\n",
       " 'r',\n",
       " 'u',\n",
       " 'e',\n",
       " 'n',\n",
       " 'I',\n",
       " ' ',\n",
       " 's',\n",
       " 'i',\n",
       " ' ',\n",
       " 'n',\n",
       " 'o',\n",
       " 'i',\n",
       " 't',\n",
       " 'a',\n",
       " 's',\n",
       " 'i',\n",
       " 'n',\n",
       " 'a',\n",
       " 'g',\n",
       " 'r',\n",
       " 'o',\n",
       " ' ',\n",
       " 'f',\n",
       " 'o',\n",
       " ' ',\n",
       " 'e',\n",
       " 'm',\n",
       " 'a',\n",
       " 'N',\n",
       " ' ',\n",
       " ',',\n",
       " 'r',\n",
       " 'a',\n",
       " 'm',\n",
       " 'u',\n",
       " 'k',\n",
       " ' ',\n",
       " 'u',\n",
       " 'h',\n",
       " 's',\n",
       " 'n',\n",
       " 'a',\n",
       " 'h',\n",
       " 'd',\n",
       " 'u',\n",
       " 's',\n",
       " ' ',\n",
       " 's',\n",
       " 'i',\n",
       " ' ',\n",
       " 'e',\n",
       " 'm',\n",
       " 'a',\n",
       " 'n',\n",
       " ' ',\n",
       " 'y',\n",
       " 'm']"
      ]
     },
     "execution_count": 51,
     "metadata": {},
     "output_type": "execute_result"
    }
   ],
   "source": [
    "list(reversed(s))"
   ]
  },
  {
   "cell_type": "code",
   "execution_count": 52,
   "id": "7b575a85",
   "metadata": {},
   "outputs": [
    {
     "name": "stdout",
     "output_type": "stream",
     "text": [
      "['n', 'o', 'r', 'u', 'e', 'n', 'I', ' ', 's', 'i', ' ', 'n', 'o', 'i', 't', 'a', 's', 'i', 'n', 'a', 'g', 'r', 'o', ' ', 'f', 'o', ' ', 'e', 'm', 'a', 'N', ' ', ',', 'r', 'a', 'm', 'u', 'k', ' ', 'u', 'h', 's', 'n', 'a', 'h', 'd', 'u', 's', ' ', 's', 'i', ' ', 'e', 'm', 'a', 'n', ' ', 'y', 'm']\n"
     ]
    }
   ],
   "source": [
    "empty =[]\n",
    "for i in reversed(s):\n",
    "    empty.append(i)\n",
    "print(empty)"
   ]
  },
  {
   "cell_type": "code",
   "execution_count": 53,
   "id": "3fe2ac85",
   "metadata": {},
   "outputs": [
    {
     "name": "stdout",
     "output_type": "stream",
     "text": [
      "n\n",
      "o\n",
      "r\n",
      "u\n",
      "e\n",
      "n\n",
      "I\n",
      " \n",
      "s\n",
      "i\n",
      " \n",
      "n\n",
      "o\n",
      "i\n",
      "t\n",
      "a\n",
      "s\n",
      "i\n",
      "n\n",
      "a\n",
      "g\n",
      "r\n",
      "o\n",
      " \n",
      "f\n",
      "o\n",
      " \n",
      "e\n",
      "m\n",
      "a\n",
      "N\n",
      " \n",
      ",\n",
      "r\n",
      "a\n",
      "m\n",
      "u\n",
      "k\n",
      " \n",
      "u\n",
      "h\n",
      "s\n",
      "n\n",
      "a\n",
      "h\n",
      "d\n",
      "u\n",
      "s\n",
      " \n",
      "s\n",
      "i\n",
      " \n",
      "e\n",
      "m\n",
      "a\n",
      "n\n",
      " \n",
      "y\n",
      "m\n"
     ]
    }
   ],
   "source": [
    "for i in reversed(s):\n",
    "    print(i)"
   ]
  },
  {
   "cell_type": "code",
   "execution_count": 54,
   "id": "1760ff66",
   "metadata": {},
   "outputs": [],
   "source": [
    "s = \"     asdfghjk vghj   gghjk   \""
   ]
  },
  {
   "cell_type": "code",
   "execution_count": 55,
   "id": "ddaf234c",
   "metadata": {},
   "outputs": [
    {
     "data": {
      "text/plain": [
       "'asdfghjk vghj   gghjk'"
      ]
     },
     "execution_count": 55,
     "metadata": {},
     "output_type": "execute_result"
    }
   ],
   "source": [
    "s.strip()"
   ]
  },
  {
   "cell_type": "code",
   "execution_count": 56,
   "id": "5011c989",
   "metadata": {},
   "outputs": [
    {
     "data": {
      "text/plain": [
       "'asdfghjk vghj   gghjk   '"
      ]
     },
     "execution_count": 56,
     "metadata": {},
     "output_type": "execute_result"
    }
   ],
   "source": [
    "s.lstrip()"
   ]
  },
  {
   "cell_type": "code",
   "execution_count": 57,
   "id": "301cd018",
   "metadata": {},
   "outputs": [
    {
     "data": {
      "text/plain": [
       "'     asdfghjk vghj   gghjk'"
      ]
     },
     "execution_count": 57,
     "metadata": {},
     "output_type": "execute_result"
    }
   ],
   "source": [
    "s.rstrip()"
   ]
  },
  {
   "cell_type": "code",
   "execution_count": 58,
   "id": "61f60915",
   "metadata": {},
   "outputs": [
    {
     "data": {
      "text/plain": [
       "'     asdfghjk vghj   gghjk   '"
      ]
     },
     "execution_count": 58,
     "metadata": {},
     "output_type": "execute_result"
    }
   ],
   "source": [
    "s.strip(\"vghj\")"
   ]
  },
  {
   "cell_type": "code",
   "execution_count": 59,
   "id": "9af3bf5c",
   "metadata": {},
   "outputs": [
    {
     "data": {
      "text/plain": [
       "'     asdfghjk vghj   gghjk   '"
      ]
     },
     "execution_count": 59,
     "metadata": {},
     "output_type": "execute_result"
    }
   ],
   "source": [
    "s.rstrip(\"vghj\")"
   ]
  },
  {
   "cell_type": "code",
   "execution_count": 60,
   "id": "d6503be9",
   "metadata": {},
   "outputs": [],
   "source": [
    "s = \"greetings from ineuron\""
   ]
  },
  {
   "cell_type": "code",
   "execution_count": 61,
   "id": "4eb81648",
   "metadata": {},
   "outputs": [
    {
     "data": {
      "text/plain": [
       "'bhakreetinbhaks from ineuron'"
      ]
     },
     "execution_count": 61,
     "metadata": {},
     "output_type": "execute_result"
    }
   ],
   "source": [
    "s.replace(\"g\", \"bhak\")"
   ]
  },
  {
   "cell_type": "code",
   "execution_count": 62,
   "id": "52c99dfc",
   "metadata": {},
   "outputs": [
    {
     "data": {
      "text/plain": [
       "'greetings from ineuron'"
      ]
     },
     "execution_count": 62,
     "metadata": {},
     "output_type": "execute_result"
    }
   ],
   "source": [
    "s"
   ]
  },
  {
   "cell_type": "code",
   "execution_count": 63,
   "id": "c4999457",
   "metadata": {},
   "outputs": [],
   "source": [
    "#string is immutable "
   ]
  },
  {
   "cell_type": "code",
   "execution_count": 64,
   "id": "fd185ebb",
   "metadata": {},
   "outputs": [],
   "source": [
    "assigned = s.replace(\"g\", \"bhak\")"
   ]
  },
  {
   "cell_type": "code",
   "execution_count": 65,
   "id": "a1b886f1",
   "metadata": {},
   "outputs": [
    {
     "data": {
      "text/plain": [
       "'bhakreetinbhaks from ineuron'"
      ]
     },
     "execution_count": 65,
     "metadata": {},
     "output_type": "execute_result"
    }
   ],
   "source": [
    "assigned"
   ]
  },
  {
   "cell_type": "code",
   "execution_count": 66,
   "id": "71aabc71",
   "metadata": {},
   "outputs": [
    {
     "data": {
      "text/plain": [
       "'greetings from ineuron'"
      ]
     },
     "execution_count": 66,
     "metadata": {},
     "output_type": "execute_result"
    }
   ],
   "source": [
    "s"
   ]
  },
  {
   "cell_type": "code",
   "execution_count": 67,
   "id": "f83aa024",
   "metadata": {},
   "outputs": [
    {
     "ename": "AttributeError",
     "evalue": "'str' object has no attribute 'centre'",
     "output_type": "error",
     "traceback": [
      "\u001b[1;31m---------------------------------------------------------------------------\u001b[0m",
      "\u001b[1;31mAttributeError\u001b[0m                            Traceback (most recent call last)",
      "\u001b[1;32m~\\AppData\\Local\\Temp/ipykernel_7884/413782914.py\u001b[0m in \u001b[0;36m<module>\u001b[1;34m\u001b[0m\n\u001b[1;32m----> 1\u001b[1;33m \u001b[0ms\u001b[0m\u001b[1;33m.\u001b[0m\u001b[0mcentre\u001b[0m\u001b[1;33m(\u001b[0m\u001b[1;36m100\u001b[0m\u001b[1;33m,\u001b[0m \u001b[1;34m\"*\"\u001b[0m\u001b[1;33m)\u001b[0m\u001b[1;33m\u001b[0m\u001b[1;33m\u001b[0m\u001b[0m\n\u001b[0m",
      "\u001b[1;31mAttributeError\u001b[0m: 'str' object has no attribute 'centre'"
     ]
    }
   ],
   "source": [
    "s.centre(100, \"*\")"
   ]
  },
  {
   "cell_type": "code",
   "execution_count": 68,
   "id": "ba510566",
   "metadata": {},
   "outputs": [
    {
     "data": {
      "text/plain": [
       "'***************************************greetings from ineuron***************************************'"
      ]
     },
     "execution_count": 68,
     "metadata": {},
     "output_type": "execute_result"
    }
   ],
   "source": [
    "s.center(100, \"*\")"
   ]
  },
  {
   "cell_type": "code",
   "execution_count": 69,
   "id": "01f4a4c6",
   "metadata": {},
   "outputs": [
    {
     "data": {
      "text/plain": [
       "'greetings from ineuron'"
      ]
     },
     "execution_count": 69,
     "metadata": {},
     "output_type": "execute_result"
    }
   ],
   "source": [
    "s.center(10, \"*\")"
   ]
  },
  {
   "cell_type": "code",
   "execution_count": 70,
   "id": "a8acd562",
   "metadata": {},
   "outputs": [
    {
     "data": {
      "text/plain": [
       "'****greetings from ineuron****'"
      ]
     },
     "execution_count": 70,
     "metadata": {},
     "output_type": "execute_result"
    }
   ],
   "source": [
    "s.center(30, \"*\")"
   ]
  },
  {
   "cell_type": "code",
   "execution_count": 71,
   "id": "d46c6e6e",
   "metadata": {},
   "outputs": [],
   "source": [
    "s = \"sudh\\tkumar\""
   ]
  },
  {
   "cell_type": "code",
   "execution_count": 72,
   "id": "d8544b63",
   "metadata": {},
   "outputs": [
    {
     "data": {
      "text/plain": [
       "'sudh\\tkumar'"
      ]
     },
     "execution_count": 72,
     "metadata": {},
     "output_type": "execute_result"
    }
   ],
   "source": [
    "s"
   ]
  },
  {
   "cell_type": "code",
   "execution_count": 73,
   "id": "40104fe7",
   "metadata": {},
   "outputs": [
    {
     "data": {
      "text/plain": [
       "'sudh    kumar'"
      ]
     },
     "execution_count": 73,
     "metadata": {},
     "output_type": "execute_result"
    }
   ],
   "source": [
    "s.expandtabs()"
   ]
  },
  {
   "cell_type": "code",
   "execution_count": 74,
   "id": "c2971a21",
   "metadata": {},
   "outputs": [],
   "source": [
    "s = \"we all are a part of Full Stack\""
   ]
  },
  {
   "cell_type": "code",
   "execution_count": 75,
   "id": "19534fd8",
   "metadata": {},
   "outputs": [
    {
     "data": {
      "text/plain": [
       "False"
      ]
     },
     "execution_count": 75,
     "metadata": {},
     "output_type": "execute_result"
    }
   ],
   "source": [
    "s.isalnum()"
   ]
  },
  {
   "cell_type": "code",
   "execution_count": 76,
   "id": "9bda6950",
   "metadata": {},
   "outputs": [
    {
     "data": {
      "text/plain": [
       "False"
      ]
     },
     "execution_count": 76,
     "metadata": {},
     "output_type": "execute_result"
    }
   ],
   "source": [
    "s.isalpha()"
   ]
  },
  {
   "cell_type": "code",
   "execution_count": 77,
   "id": "dba1eaae",
   "metadata": {},
   "outputs": [
    {
     "data": {
      "text/plain": [
       "False"
      ]
     },
     "execution_count": 77,
     "metadata": {},
     "output_type": "execute_result"
    }
   ],
   "source": [
    "s.istitle()"
   ]
  },
  {
   "cell_type": "code",
   "execution_count": 78,
   "id": "1df5de4e",
   "metadata": {},
   "outputs": [
    {
     "data": {
      "text/plain": [
       "False"
      ]
     },
     "execution_count": 78,
     "metadata": {},
     "output_type": "execute_result"
    }
   ],
   "source": [
    "s.isdigit()"
   ]
  },
  {
   "cell_type": "code",
   "execution_count": 79,
   "id": "dfef5686",
   "metadata": {},
   "outputs": [],
   "source": [
    "s = \"this is a full stack batch\""
   ]
  },
  {
   "cell_type": "code",
   "execution_count": 81,
   "id": "7af2b0fb",
   "metadata": {},
   "outputs": [
    {
     "name": "stdout",
     "output_type": "stream",
     "text": [
      "26\n"
     ]
    }
   ],
   "source": [
    "count = 0\n",
    "for i in s:\n",
    "    count += 1\n",
    "print(count)"
   ]
  },
  {
   "cell_type": "code",
   "execution_count": 82,
   "id": "d355004d",
   "metadata": {},
   "outputs": [
    {
     "name": "stdout",
     "output_type": "stream",
     "text": [
      "t\n",
      "h\n",
      "i\n",
      "s\n",
      " \n",
      "i\n",
      "s\n",
      " \n",
      "a\n",
      " \n",
      "f\n",
      "u\n",
      "l\n",
      "l\n",
      " \n",
      "s\n",
      "t\n",
      "a\n",
      "c\n",
      "k\n",
      " \n",
      "b\n",
      "a\n",
      "t\n",
      "c\n",
      "h\n"
     ]
    }
   ],
   "source": [
    "for i in range(len(s)):\n",
    "    print(s[i])"
   ]
  },
  {
   "cell_type": "code",
   "execution_count": 83,
   "id": "95e39315",
   "metadata": {},
   "outputs": [
    {
     "name": "stdout",
     "output_type": "stream",
     "text": [
      "t\n",
      "h\n",
      "i\n",
      "s\n",
      " \n",
      "i\n",
      "s\n",
      " \n",
      "a\n",
      " \n",
      "f\n",
      "u\n",
      "l\n",
      "l\n",
      " \n",
      "s\n",
      "t\n",
      "a\n",
      "c\n",
      "k\n",
      " \n",
      "b\n",
      "a\n",
      "t\n",
      "c\n",
      "h\n"
     ]
    }
   ],
   "source": [
    "for i in s:\n",
    "    print(i)"
   ]
  },
  {
   "cell_type": "code",
   "execution_count": 84,
   "id": "2655fb85",
   "metadata": {},
   "outputs": [
    {
     "name": "stdout",
     "output_type": "stream",
     "text": [
      "h\n",
      "d\n",
      "u\n",
      "s\n"
     ]
    }
   ],
   "source": [
    "s = \"sudh\"\n",
    "\n",
    "ch = len(s) - 1\n",
    "while ch >= 0:\n",
    "    print(s[ch])\n",
    "    ch -= 1"
   ]
  },
  {
   "cell_type": "code",
   "execution_count": 85,
   "id": "d74e94b9",
   "metadata": {},
   "outputs": [],
   "source": [
    "#upar waala another method of reversing a string without using for loop or any other mtd"
   ]
  },
  {
   "cell_type": "code",
   "execution_count": 86,
   "id": "d2f84c90",
   "metadata": {},
   "outputs": [
    {
     "name": "stdout",
     "output_type": "stream",
     "text": [
      "i is a vowel\n",
      "n is not a vowel\n",
      "e is a vowel\n",
      "u is a vowel\n",
      "r is not a vowel\n",
      "o is a vowel\n",
      "n is not a vowel\n"
     ]
    }
   ],
   "source": [
    "name = \"ineuron\"\n",
    "vowels = \"AaEeIiOoUu\"\n",
    "\n",
    "for i in name:\n",
    "    if i in vowels:\n",
    "        print(\"{} is a vowel\".format(i))\n",
    "    else:\n",
    "        print(\"{} is not a vowel\".format(i))"
   ]
  },
  {
   "cell_type": "code",
   "execution_count": 87,
   "id": "9807efb3",
   "metadata": {},
   "outputs": [
    {
     "data": {
      "text/plain": [
       "'My name is sudh'"
      ]
     },
     "execution_count": 87,
     "metadata": {},
     "output_type": "execute_result"
    }
   ],
   "source": [
    "#formatting\n",
    "\n",
    "\"{} name is sudh\".format(\"My\")"
   ]
  },
  {
   "cell_type": "code",
   "execution_count": 88,
   "id": "6fa2dc65",
   "metadata": {},
   "outputs": [
    {
     "data": {
      "text/plain": [
       "'My name is Utkarsh'"
      ]
     },
     "execution_count": 88,
     "metadata": {},
     "output_type": "execute_result"
    }
   ],
   "source": [
    "#formatting\n",
    "\n",
    "\"{} name is {}\".format(\"My\", \"Utkarsh\")"
   ]
  },
  {
   "cell_type": "code",
   "execution_count": 90,
   "id": "736a96f1",
   "metadata": {},
   "outputs": [
    {
     "name": "stdout",
     "output_type": "stream",
     "text": [
      "Enter your name: Utkarsh\n"
     ]
    },
    {
     "data": {
      "text/plain": [
       "'My name is Utkarsh'"
      ]
     },
     "execution_count": 90,
     "metadata": {},
     "output_type": "execute_result"
    }
   ],
   "source": [
    "#formatting\n",
    "a = input(\"Enter your name: \")\n",
    "\"My name is {}\".format(a)"
   ]
  },
  {
   "cell_type": "code",
   "execution_count": 92,
   "id": "b13c67dd",
   "metadata": {},
   "outputs": [],
   "source": [
    "l = [\"sudh\", 3345,345,456,456,[34534,56567]]"
   ]
  },
  {
   "cell_type": "code",
   "execution_count": 93,
   "id": "84e288ec",
   "metadata": {},
   "outputs": [
    {
     "data": {
      "text/plain": [
       "['sudh', 3345, 345, 456, 456, [34534, 56567]]"
      ]
     },
     "execution_count": 93,
     "metadata": {},
     "output_type": "execute_result"
    }
   ],
   "source": [
    "l"
   ]
  },
  {
   "cell_type": "code",
   "execution_count": 94,
   "id": "269fcadb",
   "metadata": {},
   "outputs": [
    {
     "data": {
      "text/plain": [
       "[[34534, 56567], 456, 456, 345, 3345, 'sudh']"
      ]
     },
     "execution_count": 94,
     "metadata": {},
     "output_type": "execute_result"
    }
   ],
   "source": [
    "l[::-1]"
   ]
  },
  {
   "cell_type": "code",
   "execution_count": 95,
   "id": "29483d58",
   "metadata": {},
   "outputs": [
    {
     "data": {
      "text/plain": [
       "[456, 345, 3345]"
      ]
     },
     "execution_count": 95,
     "metadata": {},
     "output_type": "execute_result"
    }
   ],
   "source": [
    "l[3:0:-1]"
   ]
  },
  {
   "cell_type": "code",
   "execution_count": 96,
   "id": "5d545f5d",
   "metadata": {},
   "outputs": [
    {
     "data": {
      "text/plain": [
       "['sudh', 3345, 345]"
      ]
     },
     "execution_count": 96,
     "metadata": {},
     "output_type": "execute_result"
    }
   ],
   "source": [
    "l[0:3]"
   ]
  },
  {
   "cell_type": "code",
   "execution_count": 97,
   "id": "0a4ac08d",
   "metadata": {},
   "outputs": [],
   "source": [
    "s = \"sudh\""
   ]
  },
  {
   "cell_type": "code",
   "execution_count": 98,
   "id": "9e6bcd9b",
   "metadata": {},
   "outputs": [],
   "source": [
    "s= list(s)"
   ]
  },
  {
   "cell_type": "code",
   "execution_count": 99,
   "id": "f4c61557",
   "metadata": {},
   "outputs": [
    {
     "data": {
      "text/plain": [
       "['sudh', 3345, 345, 456, 456, [34534, 56567], 's', 'u', 'd', 'h']"
      ]
     },
     "execution_count": 99,
     "metadata": {},
     "output_type": "execute_result"
    }
   ],
   "source": [
    "l + s"
   ]
  },
  {
   "cell_type": "code",
   "execution_count": 100,
   "id": "fbbb7caa",
   "metadata": {},
   "outputs": [],
   "source": [
    "s = \"sudh\""
   ]
  },
  {
   "cell_type": "code",
   "execution_count": 101,
   "id": "57139148",
   "metadata": {},
   "outputs": [],
   "source": [
    "l.append(s)"
   ]
  },
  {
   "cell_type": "code",
   "execution_count": 102,
   "id": "152f9e34",
   "metadata": {},
   "outputs": [
    {
     "data": {
      "text/plain": [
       "['sudh', 3345, 345, 456, 456, [34534, 56567], 'sudh']"
      ]
     },
     "execution_count": 102,
     "metadata": {},
     "output_type": "execute_result"
    }
   ],
   "source": [
    "l"
   ]
  },
  {
   "cell_type": "code",
   "execution_count": 103,
   "id": "b443f4ee",
   "metadata": {},
   "outputs": [
    {
     "data": {
      "text/plain": [
       "['sudh',\n",
       " 3345,\n",
       " 345,\n",
       " 456,\n",
       " 456,\n",
       " [34534, 56567],\n",
       " 'sudh',\n",
       " 'sudh',\n",
       " 3345,\n",
       " 345,\n",
       " 456,\n",
       " 456,\n",
       " [34534, 56567],\n",
       " 'sudh']"
      ]
     },
     "execution_count": 103,
     "metadata": {},
     "output_type": "execute_result"
    }
   ],
   "source": [
    "l*2"
   ]
  },
  {
   "cell_type": "code",
   "execution_count": 104,
   "id": "38a54716",
   "metadata": {},
   "outputs": [
    {
     "data": {
      "text/plain": [
       "7"
      ]
     },
     "execution_count": 104,
     "metadata": {},
     "output_type": "execute_result"
    }
   ],
   "source": [
    "len(l)"
   ]
  },
  {
   "cell_type": "code",
   "execution_count": 105,
   "id": "e453e0d2",
   "metadata": {},
   "outputs": [
    {
     "data": {
      "text/plain": [
       "True"
      ]
     },
     "execution_count": 105,
     "metadata": {},
     "output_type": "execute_result"
    }
   ],
   "source": [
    " \"sudh\" in l"
   ]
  },
  {
   "cell_type": "code",
   "execution_count": 106,
   "id": "4733328d",
   "metadata": {},
   "outputs": [
    {
     "data": {
      "text/plain": [
       "False"
      ]
     },
     "execution_count": 106,
     "metadata": {},
     "output_type": "execute_result"
    }
   ],
   "source": [
    "\"ukc\" in l"
   ]
  }
 ],
 "metadata": {
  "kernelspec": {
   "display_name": "Python 3 (ipykernel)",
   "language": "python",
   "name": "python3"
  },
  "language_info": {
   "codemirror_mode": {
    "name": "ipython",
    "version": 3
   },
   "file_extension": ".py",
   "mimetype": "text/x-python",
   "name": "python",
   "nbconvert_exporter": "python",
   "pygments_lexer": "ipython3",
   "version": "3.9.7"
  }
 },
 "nbformat": 4,
 "nbformat_minor": 5
}
