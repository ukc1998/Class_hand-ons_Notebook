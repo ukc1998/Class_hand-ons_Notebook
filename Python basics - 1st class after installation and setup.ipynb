{
 "cells": [
  {
   "cell_type": "code",
   "execution_count": 1,
   "id": "d828ef2c",
   "metadata": {},
   "outputs": [
    {
     "name": "stdout",
     "output_type": "stream",
     "text": [
      "This is my first program\n"
     ]
    }
   ],
   "source": [
    "print(\"This is my first program\")"
   ]
  },
  {
   "cell_type": "code",
   "execution_count": 2,
   "id": "83ae6904",
   "metadata": {},
   "outputs": [
    {
     "name": "stdout",
     "output_type": "stream",
     "text": [
      "the thing we want to print can also be enclosed within single quote\n"
     ]
    }
   ],
   "source": [
    "print('the thing we want to print can also be enclosed within single quote')"
   ]
  },
  {
   "cell_type": "code",
   "execution_count": 3,
   "id": "fa174057",
   "metadata": {},
   "outputs": [
    {
     "ename": "SyntaxError",
     "evalue": "invalid syntax (Temp/ipykernel_5124/2102998218.py, line 1)",
     "output_type": "error",
     "traceback": [
      "\u001b[1;36m  File \u001b[1;32m\"C:\\Users\\Utkarsh\\AppData\\Local\\Temp/ipykernel_5124/2102998218.py\"\u001b[1;36m, line \u001b[1;32m1\u001b[0m\n\u001b[1;33m    print(the thing we want to print must be enclosed within single/double quote')\u001b[0m\n\u001b[1;37m              ^\u001b[0m\n\u001b[1;31mSyntaxError\u001b[0m\u001b[1;31m:\u001b[0m invalid syntax\n"
     ]
    }
   ],
   "source": [
    "print(the thing we want to print must be enclosed within single/double quote')"
   ]
  },
  {
   "cell_type": "code",
   "execution_count": 4,
   "id": "cd65d08b",
   "metadata": {},
   "outputs": [
    {
     "ename": "SyntaxError",
     "evalue": "invalid syntax (Temp/ipykernel_5124/2042792789.py, line 1)",
     "output_type": "error",
     "traceback": [
      "\u001b[1;36m  File \u001b[1;32m\"C:\\Users\\Utkarsh\\AppData\\Local\\Temp/ipykernel_5124/2042792789.py\"\u001b[1;36m, line \u001b[1;32m1\u001b[0m\n\u001b[1;33m    print\"print is a function and it is missing parenthesis on calling it\"\u001b[0m\n\u001b[1;37m         ^\u001b[0m\n\u001b[1;31mSyntaxError\u001b[0m\u001b[1;31m:\u001b[0m invalid syntax\n"
     ]
    }
   ],
   "source": [
    "print\"print is a function and it is missing parenthesis on calling it\""
   ]
  },
  {
   "cell_type": "code",
   "execution_count": 5,
   "id": "85649935",
   "metadata": {},
   "outputs": [
    {
     "ename": "SyntaxError",
     "evalue": "invalid syntax (Temp/ipykernel_5124/2002496131.py, line 1)",
     "output_type": "error",
     "traceback": [
      "\u001b[1;36m  File \u001b[1;32m\"C:\\Users\\Utkarsh\\AppData\\Local\\Temp/ipykernel_5124/2002496131.py\"\u001b[1;36m, line \u001b[1;32m1\u001b[0m\n\u001b[1;33m    my name is utkarsh\u001b[0m\n\u001b[1;37m       ^\u001b[0m\n\u001b[1;31mSyntaxError\u001b[0m\u001b[1;31m:\u001b[0m invalid syntax\n"
     ]
    }
   ],
   "source": [
    "my name is utkarsh"
   ]
  },
  {
   "cell_type": "code",
   "execution_count": 6,
   "id": "2fb8ea05",
   "metadata": {},
   "outputs": [],
   "source": [
    "#my name is utkarsh ---- single line comment"
   ]
  },
  {
   "cell_type": "code",
   "execution_count": 7,
   "id": "36d88f84",
   "metadata": {},
   "outputs": [
    {
     "data": {
      "text/plain": [
       "'in this way, we can do multiline comment\\n\\nits 2nd line\\n\\n'"
      ]
     },
     "execution_count": 7,
     "metadata": {},
     "output_type": "execute_result"
    }
   ],
   "source": [
    "\"\"\"in this way, we can do multiline comment\n",
    "\n",
    "its 2nd line\n",
    "\n",
    "\"\"\""
   ]
  },
  {
   "cell_type": "code",
   "execution_count": 8,
   "id": "ee5b7174",
   "metadata": {},
   "outputs": [
    {
     "name": "stdout",
     "output_type": "stream",
     "text": [
      "1\n",
      "a\n",
      "b\n"
     ]
    }
   ],
   "source": [
    "print(1)\n",
    "print(\"a\")\n",
    "print(\"b\")"
   ]
  },
  {
   "cell_type": "code",
   "execution_count": 9,
   "id": "3a1d453e",
   "metadata": {},
   "outputs": [],
   "source": [
    "a=10"
   ]
  },
  {
   "cell_type": "code",
   "execution_count": 10,
   "id": "39fe26f3",
   "metadata": {},
   "outputs": [
    {
     "data": {
      "text/plain": [
       "10"
      ]
     },
     "execution_count": 10,
     "metadata": {},
     "output_type": "execute_result"
    }
   ],
   "source": [
    "a"
   ]
  },
  {
   "cell_type": "code",
   "execution_count": 11,
   "id": "4b293e3e",
   "metadata": {},
   "outputs": [
    {
     "data": {
      "text/plain": [
       "int"
      ]
     },
     "execution_count": 11,
     "metadata": {},
     "output_type": "execute_result"
    }
   ],
   "source": [
    "type(a)"
   ]
  },
  {
   "cell_type": "code",
   "execution_count": 12,
   "id": "0108e9fa",
   "metadata": {},
   "outputs": [],
   "source": [
    "b = \"ukc\""
   ]
  },
  {
   "cell_type": "code",
   "execution_count": 13,
   "id": "ab347685",
   "metadata": {},
   "outputs": [
    {
     "data": {
      "text/plain": [
       "str"
      ]
     },
     "execution_count": 13,
     "metadata": {},
     "output_type": "execute_result"
    }
   ],
   "source": [
    "type(b)"
   ]
  },
  {
   "cell_type": "code",
   "execution_count": 14,
   "id": "f65c17b2",
   "metadata": {},
   "outputs": [
    {
     "data": {
      "text/plain": [
       "'ukc'"
      ]
     },
     "execution_count": 14,
     "metadata": {},
     "output_type": "execute_result"
    }
   ],
   "source": [
    "b"
   ]
  },
  {
   "cell_type": "code",
   "execution_count": 15,
   "id": "0b5d6092",
   "metadata": {},
   "outputs": [],
   "source": [
    "b = \"5678nm45yu.v/vet.,mvtnuevivtwer\""
   ]
  },
  {
   "cell_type": "code",
   "execution_count": 16,
   "id": "4f484e0d",
   "metadata": {},
   "outputs": [
    {
     "data": {
      "text/plain": [
       "str"
      ]
     },
     "execution_count": 16,
     "metadata": {},
     "output_type": "execute_result"
    }
   ],
   "source": [
    "type(b)"
   ]
  },
  {
   "cell_type": "code",
   "execution_count": 17,
   "id": "194a8265",
   "metadata": {},
   "outputs": [
    {
     "data": {
      "text/plain": [
       "'5678nm45yu.v/vet.,mvtnuevivtwer'"
      ]
     },
     "execution_count": 17,
     "metadata": {},
     "output_type": "execute_result"
    }
   ],
   "source": [
    "b"
   ]
  },
  {
   "cell_type": "code",
   "execution_count": 18,
   "id": "6267fa3f",
   "metadata": {},
   "outputs": [],
   "source": [
    "a = 35\n",
    "b = \"dfghj\""
   ]
  },
  {
   "cell_type": "code",
   "execution_count": 19,
   "id": "315b3b70",
   "metadata": {},
   "outputs": [
    {
     "data": {
      "text/plain": [
       "35"
      ]
     },
     "execution_count": 19,
     "metadata": {},
     "output_type": "execute_result"
    }
   ],
   "source": [
    "a"
   ]
  },
  {
   "cell_type": "code",
   "execution_count": 20,
   "id": "4cdb3bf5",
   "metadata": {},
   "outputs": [
    {
     "data": {
      "text/plain": [
       "'dfghj'"
      ]
     },
     "execution_count": 20,
     "metadata": {},
     "output_type": "execute_result"
    }
   ],
   "source": [
    "b"
   ]
  },
  {
   "cell_type": "code",
   "execution_count": 21,
   "id": "9751716c",
   "metadata": {},
   "outputs": [],
   "source": [
    "a, b, s = \"dfghf\", \"dfdgv\", 432 #mapping"
   ]
  },
  {
   "cell_type": "code",
   "execution_count": 22,
   "id": "1cdffda3",
   "metadata": {},
   "outputs": [
    {
     "data": {
      "text/plain": [
       "'dfghf'"
      ]
     },
     "execution_count": 22,
     "metadata": {},
     "output_type": "execute_result"
    }
   ],
   "source": [
    "a"
   ]
  },
  {
   "cell_type": "code",
   "execution_count": 23,
   "id": "8268e96d",
   "metadata": {},
   "outputs": [
    {
     "data": {
      "text/plain": [
       "'dfdgv'"
      ]
     },
     "execution_count": 23,
     "metadata": {},
     "output_type": "execute_result"
    }
   ],
   "source": [
    "b"
   ]
  },
  {
   "cell_type": "code",
   "execution_count": 24,
   "id": "4d528a1d",
   "metadata": {},
   "outputs": [
    {
     "data": {
      "text/plain": [
       "432"
      ]
     },
     "execution_count": 24,
     "metadata": {},
     "output_type": "execute_result"
    }
   ],
   "source": [
    "s"
   ]
  },
  {
   "cell_type": "code",
   "execution_count": 25,
   "id": "09e56338",
   "metadata": {},
   "outputs": [
    {
     "ename": "TypeError",
     "evalue": "type.__new__() argument 2 must be tuple, not str",
     "output_type": "error",
     "traceback": [
      "\u001b[1;31m---------------------------------------------------------------------------\u001b[0m",
      "\u001b[1;31mTypeError\u001b[0m                                 Traceback (most recent call last)",
      "\u001b[1;32m~\\AppData\\Local\\Temp/ipykernel_5124/51196983.py\u001b[0m in \u001b[0;36m<module>\u001b[1;34m\u001b[0m\n\u001b[1;32m----> 1\u001b[1;33m \u001b[0mtype\u001b[0m\u001b[1;33m(\u001b[0m\u001b[0ma\u001b[0m\u001b[1;33m,\u001b[0m\u001b[0mb\u001b[0m\u001b[1;33m,\u001b[0m\u001b[0ms\u001b[0m\u001b[1;33m)\u001b[0m\u001b[1;33m\u001b[0m\u001b[1;33m\u001b[0m\u001b[0m\n\u001b[0m",
      "\u001b[1;31mTypeError\u001b[0m: type.__new__() argument 2 must be tuple, not str"
     ]
    }
   ],
   "source": [
    "type(a,b,s)"
   ]
  },
  {
   "cell_type": "code",
   "execution_count": 26,
   "id": "9853d0e0",
   "metadata": {},
   "outputs": [
    {
     "data": {
      "text/plain": [
       "str"
      ]
     },
     "execution_count": 26,
     "metadata": {},
     "output_type": "execute_result"
    }
   ],
   "source": [
    "type(a)"
   ]
  },
  {
   "cell_type": "code",
   "execution_count": 27,
   "id": "6ea31d3a",
   "metadata": {},
   "outputs": [
    {
     "data": {
      "text/plain": [
       "int"
      ]
     },
     "execution_count": 27,
     "metadata": {},
     "output_type": "execute_result"
    }
   ],
   "source": [
    "type(s)"
   ]
  },
  {
   "cell_type": "code",
   "execution_count": 28,
   "id": "39160f46",
   "metadata": {},
   "outputs": [
    {
     "data": {
      "text/plain": [
       "('dfghf', 'dfdgv', 432)"
      ]
     },
     "execution_count": 28,
     "metadata": {},
     "output_type": "execute_result"
    }
   ],
   "source": [
    "a,b,s"
   ]
  },
  {
   "cell_type": "code",
   "execution_count": 29,
   "id": "0a2d32b7",
   "metadata": {},
   "outputs": [],
   "source": [
    "b = '\"ergh\"'"
   ]
  },
  {
   "cell_type": "code",
   "execution_count": 30,
   "id": "cdd93a49",
   "metadata": {},
   "outputs": [
    {
     "data": {
      "text/plain": [
       "'\"ergh\"'"
      ]
     },
     "execution_count": 30,
     "metadata": {},
     "output_type": "execute_result"
    }
   ],
   "source": [
    "b"
   ]
  },
  {
   "cell_type": "code",
   "execution_count": 31,
   "id": "ab26e82f",
   "metadata": {},
   "outputs": [],
   "source": [
    "#variable name cannot be started with an integer"
   ]
  },
  {
   "cell_type": "code",
   "execution_count": 32,
   "id": "7b217286",
   "metadata": {},
   "outputs": [
    {
     "ename": "SyntaxError",
     "evalue": "invalid syntax (Temp/ipykernel_5124/1741350762.py, line 1)",
     "output_type": "error",
     "traceback": [
      "\u001b[1;36m  File \u001b[1;32m\"C:\\Users\\Utkarsh\\AppData\\Local\\Temp/ipykernel_5124/1741350762.py\"\u001b[1;36m, line \u001b[1;32m1\u001b[0m\n\u001b[1;33m    2b = \"fghj\"\u001b[0m\n\u001b[1;37m     ^\u001b[0m\n\u001b[1;31mSyntaxError\u001b[0m\u001b[1;31m:\u001b[0m invalid syntax\n"
     ]
    }
   ],
   "source": [
    "2b = \"fghj\""
   ]
  },
  {
   "cell_type": "code",
   "execution_count": 33,
   "id": "05d54603",
   "metadata": {},
   "outputs": [],
   "source": [
    "_b = 457"
   ]
  },
  {
   "cell_type": "code",
   "execution_count": 34,
   "id": "5644e2f6",
   "metadata": {},
   "outputs": [
    {
     "data": {
      "text/plain": [
       "'\"ergh\"'"
      ]
     },
     "execution_count": 34,
     "metadata": {},
     "output_type": "execute_result"
    }
   ],
   "source": [
    "b"
   ]
  },
  {
   "cell_type": "code",
   "execution_count": 35,
   "id": "de2a215a",
   "metadata": {},
   "outputs": [
    {
     "data": {
      "text/plain": [
       "457"
      ]
     },
     "execution_count": 35,
     "metadata": {},
     "output_type": "execute_result"
    }
   ],
   "source": [
    "_b"
   ]
  },
  {
   "cell_type": "code",
   "execution_count": 36,
   "id": "aac248de",
   "metadata": {},
   "outputs": [],
   "source": [
    "__b = \"dfghj\""
   ]
  },
  {
   "cell_type": "code",
   "execution_count": 37,
   "id": "f8a87816",
   "metadata": {},
   "outputs": [
    {
     "data": {
      "text/plain": [
       "'dfghj'"
      ]
     },
     "execution_count": 37,
     "metadata": {},
     "output_type": "execute_result"
    }
   ],
   "source": [
    "__b"
   ]
  },
  {
   "cell_type": "code",
   "execution_count": 38,
   "id": "478bc042",
   "metadata": {},
   "outputs": [],
   "source": [
    "a = 1.6"
   ]
  },
  {
   "cell_type": "code",
   "execution_count": 39,
   "id": "ce6858b8",
   "metadata": {},
   "outputs": [
    {
     "data": {
      "text/plain": [
       "float"
      ]
     },
     "execution_count": 39,
     "metadata": {},
     "output_type": "execute_result"
    }
   ],
   "source": [
    "type(a)"
   ]
  },
  {
   "cell_type": "code",
   "execution_count": 40,
   "id": "8fd3fbde",
   "metadata": {},
   "outputs": [],
   "source": [
    "dfgr= True"
   ]
  },
  {
   "cell_type": "code",
   "execution_count": 41,
   "id": "d767b003",
   "metadata": {},
   "outputs": [
    {
     "data": {
      "text/plain": [
       "bool"
      ]
     },
     "execution_count": 41,
     "metadata": {},
     "output_type": "execute_result"
    }
   ],
   "source": [
    "type (dfgr)"
   ]
  },
  {
   "cell_type": "code",
   "execution_count": 42,
   "id": "e9b4f12a",
   "metadata": {},
   "outputs": [
    {
     "ename": "SyntaxError",
     "evalue": "cannot assign to literal (Temp/ipykernel_5124/3545269216.py, line 1)",
     "output_type": "error",
     "traceback": [
      "\u001b[1;36m  File \u001b[1;32m\"C:\\Users\\Utkarsh\\AppData\\Local\\Temp/ipykernel_5124/3545269216.py\"\u001b[1;36m, line \u001b[1;32m1\u001b[0m\n\u001b[1;33m    1 = 0\u001b[0m\n\u001b[1;37m    ^\u001b[0m\n\u001b[1;31mSyntaxError\u001b[0m\u001b[1;31m:\u001b[0m cannot assign to literal\n"
     ]
    }
   ],
   "source": [
    "1 = 0"
   ]
  },
  {
   "cell_type": "code",
   "execution_count": 43,
   "id": "61e45fa5",
   "metadata": {},
   "outputs": [
    {
     "data": {
      "text/plain": [
       "2"
      ]
     },
     "execution_count": 43,
     "metadata": {},
     "output_type": "execute_result"
    }
   ],
   "source": [
    "True + True"
   ]
  },
  {
   "cell_type": "code",
   "execution_count": 44,
   "id": "e5df1a1a",
   "metadata": {},
   "outputs": [
    {
     "data": {
      "text/plain": [
       "False"
      ]
     },
     "execution_count": 44,
     "metadata": {},
     "output_type": "execute_result"
    }
   ],
   "source": [
    "False"
   ]
  },
  {
   "cell_type": "code",
   "execution_count": 45,
   "id": "033e1d68",
   "metadata": {},
   "outputs": [
    {
     "data": {
      "text/plain": [
       "0"
      ]
     },
     "execution_count": 45,
     "metadata": {},
     "output_type": "execute_result"
    }
   ],
   "source": [
    "False + False"
   ]
  },
  {
   "cell_type": "code",
   "execution_count": 46,
   "id": "e116838b",
   "metadata": {},
   "outputs": [
    {
     "data": {
      "text/plain": [
       "1"
      ]
     },
     "execution_count": 46,
     "metadata": {},
     "output_type": "execute_result"
    }
   ],
   "source": [
    "False + True"
   ]
  },
  {
   "cell_type": "code",
   "execution_count": 47,
   "id": "4ecdd3fd",
   "metadata": {},
   "outputs": [
    {
     "data": {
      "text/plain": [
       "0"
      ]
     },
     "execution_count": 47,
     "metadata": {},
     "output_type": "execute_result"
    }
   ],
   "source": [
    "True*False"
   ]
  },
  {
   "cell_type": "code",
   "execution_count": 48,
   "id": "4ebe275b",
   "metadata": {},
   "outputs": [
    {
     "ename": "ZeroDivisionError",
     "evalue": "division by zero",
     "output_type": "error",
     "traceback": [
      "\u001b[1;31m---------------------------------------------------------------------------\u001b[0m",
      "\u001b[1;31mZeroDivisionError\u001b[0m                         Traceback (most recent call last)",
      "\u001b[1;32m~\\AppData\\Local\\Temp/ipykernel_5124/2794436645.py\u001b[0m in \u001b[0;36m<module>\u001b[1;34m\u001b[0m\n\u001b[1;32m----> 1\u001b[1;33m \u001b[1;32mTrue\u001b[0m\u001b[1;33m/\u001b[0m\u001b[1;32mFalse\u001b[0m\u001b[1;33m\u001b[0m\u001b[1;33m\u001b[0m\u001b[0m\n\u001b[0m",
      "\u001b[1;31mZeroDivisionError\u001b[0m: division by zero"
     ]
    }
   ],
   "source": [
    "True/False"
   ]
  },
  {
   "cell_type": "code",
   "execution_count": 49,
   "id": "c35d5c7a",
   "metadata": {},
   "outputs": [],
   "source": [
    "a = 3 + 4j"
   ]
  },
  {
   "cell_type": "code",
   "execution_count": 50,
   "id": "9a5dac07",
   "metadata": {},
   "outputs": [
    {
     "data": {
      "text/plain": [
       "complex"
      ]
     },
     "execution_count": 50,
     "metadata": {},
     "output_type": "execute_result"
    }
   ],
   "source": [
    "type(a)"
   ]
  },
  {
   "cell_type": "code",
   "execution_count": 51,
   "id": "ace02877",
   "metadata": {},
   "outputs": [
    {
     "data": {
      "text/plain": [
       "3.0"
      ]
     },
     "execution_count": 51,
     "metadata": {},
     "output_type": "execute_result"
    }
   ],
   "source": [
    "a.real"
   ]
  },
  {
   "cell_type": "code",
   "execution_count": 52,
   "id": "c2ae017c",
   "metadata": {},
   "outputs": [
    {
     "data": {
      "text/plain": [
       "4.0"
      ]
     },
     "execution_count": 52,
     "metadata": {},
     "output_type": "execute_result"
    }
   ],
   "source": [
    "a.imag"
   ]
  },
  {
   "cell_type": "code",
   "execution_count": 53,
   "id": "034ba854",
   "metadata": {},
   "outputs": [
    {
     "data": {
      "text/plain": [
       "2.2342"
      ]
     },
     "execution_count": 53,
     "metadata": {},
     "output_type": "execute_result"
    }
   ],
   "source": [
    "1 + 1.2342"
   ]
  },
  {
   "cell_type": "code",
   "execution_count": 54,
   "id": "ea988306",
   "metadata": {},
   "outputs": [
    {
     "ename": "SyntaxError",
     "evalue": "cannot assign to literal (Temp/ipykernel_5124/3895695119.py, line 1)",
     "output_type": "error",
     "traceback": [
      "\u001b[1;36m  File \u001b[1;32m\"C:\\Users\\Utkarsh\\AppData\\Local\\Temp/ipykernel_5124/3895695119.py\"\u001b[1;36m, line \u001b[1;32m1\u001b[0m\n\u001b[1;33m    1=1.0\u001b[0m\n\u001b[1;37m    ^\u001b[0m\n\u001b[1;31mSyntaxError\u001b[0m\u001b[1;31m:\u001b[0m cannot assign to literal\n"
     ]
    }
   ],
   "source": [
    "1=1.0"
   ]
  },
  {
   "cell_type": "code",
   "execution_count": 55,
   "id": "7d3c9164",
   "metadata": {},
   "outputs": [
    {
     "data": {
      "text/plain": [
       "2.0"
      ]
     },
     "execution_count": 55,
     "metadata": {},
     "output_type": "execute_result"
    }
   ],
   "source": [
    "1+1.0  #upcasting...float jyaade space lega...isliye output float me hi hai"
   ]
  },
  {
   "cell_type": "code",
   "execution_count": 56,
   "id": "6a336f6a",
   "metadata": {},
   "outputs": [
    {
     "data": {
      "text/plain": [
       "12332"
      ]
     },
     "execution_count": 56,
     "metadata": {},
     "output_type": "execute_result"
    }
   ],
   "source": [
    "int(\"12332\")"
   ]
  },
  {
   "cell_type": "code",
   "execution_count": 57,
   "id": "67292878",
   "metadata": {},
   "outputs": [
    {
     "ename": "ValueError",
     "evalue": "invalid literal for int() with base 10: 'bh23gy82343tr3'",
     "output_type": "error",
     "traceback": [
      "\u001b[1;31m---------------------------------------------------------------------------\u001b[0m",
      "\u001b[1;31mValueError\u001b[0m                                Traceback (most recent call last)",
      "\u001b[1;32m~\\AppData\\Local\\Temp/ipykernel_5124/1027127735.py\u001b[0m in \u001b[0;36m<module>\u001b[1;34m\u001b[0m\n\u001b[1;32m----> 1\u001b[1;33m \u001b[0mint\u001b[0m\u001b[1;33m(\u001b[0m\u001b[1;34m\"bh23gy82343tr3\"\u001b[0m\u001b[1;33m)\u001b[0m\u001b[1;33m\u001b[0m\u001b[1;33m\u001b[0m\u001b[0m\n\u001b[0m",
      "\u001b[1;31mValueError\u001b[0m: invalid literal for int() with base 10: 'bh23gy82343tr3'"
     ]
    }
   ],
   "source": [
    "int(\"bh23gy82343tr3\")"
   ]
  },
  {
   "cell_type": "code",
   "execution_count": 58,
   "id": "1cffa64a",
   "metadata": {},
   "outputs": [
    {
     "name": "stdout",
     "output_type": "stream",
     "text": [
      "sdsdf\n"
     ]
    }
   ],
   "source": [
    "a = input()"
   ]
  },
  {
   "cell_type": "code",
   "execution_count": 59,
   "id": "ca5b1282",
   "metadata": {},
   "outputs": [
    {
     "name": "stdout",
     "output_type": "stream",
     "text": [
      "asdsdffgdf\n"
     ]
    },
    {
     "ename": "TypeError",
     "evalue": "unsupported operand type(s) for -: 'str' and 'str'",
     "output_type": "error",
     "traceback": [
      "\u001b[1;31m---------------------------------------------------------------------------\u001b[0m",
      "\u001b[1;31mTypeError\u001b[0m                                 Traceback (most recent call last)",
      "\u001b[1;32m~\\AppData\\Local\\Temp/ipykernel_5124/3265990733.py\u001b[0m in \u001b[0;36m<module>\u001b[1;34m\u001b[0m\n\u001b[1;32m----> 1\u001b[1;33m \u001b[0ma\u001b[0m \u001b[1;33m-\u001b[0m \u001b[0minput\u001b[0m\u001b[1;33m(\u001b[0m\u001b[1;34m\"asdsdf\"\u001b[0m\u001b[1;33m)\u001b[0m\u001b[1;33m\u001b[0m\u001b[1;33m\u001b[0m\u001b[0m\n\u001b[0m",
      "\u001b[1;31mTypeError\u001b[0m: unsupported operand type(s) for -: 'str' and 'str'"
     ]
    }
   ],
   "source": [
    "a - input(\"asdsdf\")"
   ]
  },
  {
   "cell_type": "code",
   "execution_count": 60,
   "id": "340c0bca",
   "metadata": {},
   "outputs": [
    {
     "data": {
      "text/plain": [
       "'sdsdf'"
      ]
     },
     "execution_count": 60,
     "metadata": {},
     "output_type": "execute_result"
    }
   ],
   "source": [
    "a"
   ]
  },
  {
   "cell_type": "code",
   "execution_count": 61,
   "id": "ddb2e5b2",
   "metadata": {},
   "outputs": [
    {
     "name": "stdout",
     "output_type": "stream",
     "text": [
      "enter an integer4\n"
     ]
    }
   ],
   "source": [
    "a = input(\"enter an integer\")"
   ]
  },
  {
   "cell_type": "code",
   "execution_count": 62,
   "id": "875c519f",
   "metadata": {},
   "outputs": [
    {
     "data": {
      "text/plain": [
       "str"
      ]
     },
     "execution_count": 62,
     "metadata": {},
     "output_type": "execute_result"
    }
   ],
   "source": [
    "type(a)"
   ]
  },
  {
   "cell_type": "code",
   "execution_count": 63,
   "id": "39aa1380",
   "metadata": {},
   "outputs": [
    {
     "name": "stdout",
     "output_type": "stream",
     "text": [
      "345\n",
      "3465\n",
      "36\n",
      "(56561.833333333336+5677j)\n"
     ]
    }
   ],
   "source": [
    "a = int(input())\n",
    "b = int(input())\n",
    "c = int(input())\n",
    "\n",
    "d = (a+b)/c\n",
    "\n",
    "output = d + (56456+5677j)\n",
    "print(output)"
   ]
  },
  {
   "cell_type": "code",
   "execution_count": 64,
   "id": "5d479a4d",
   "metadata": {},
   "outputs": [],
   "source": [
    "output_2 = str(output) + \" Utkarsh\""
   ]
  },
  {
   "cell_type": "code",
   "execution_count": 65,
   "id": "f8325882",
   "metadata": {},
   "outputs": [
    {
     "data": {
      "text/plain": [
       "'(56561.833333333336+5677j) Utkarsh'"
      ]
     },
     "execution_count": 65,
     "metadata": {},
     "output_type": "execute_result"
    }
   ],
   "source": [
    "output_2"
   ]
  },
  {
   "cell_type": "code",
   "execution_count": 66,
   "id": "37399d92",
   "metadata": {},
   "outputs": [
    {
     "name": "stdout",
     "output_type": "stream",
     "text": [
      "Enter a negative number: -234\n",
      "-234\n"
     ]
    }
   ],
   "source": [
    "a = int(input(\"Enter a negative number: \"))\n",
    "if a<0:\n",
    "    print(a)"
   ]
  },
  {
   "cell_type": "code",
   "execution_count": 67,
   "id": "beae734f",
   "metadata": {},
   "outputs": [
    {
     "ename": "IndentationError",
     "evalue": "expected an indented block (Temp/ipykernel_5124/952804081.py, line 2)",
     "output_type": "error",
     "traceback": [
      "\u001b[1;36m  File \u001b[1;32m\"C:\\Users\\Utkarsh\\AppData\\Local\\Temp/ipykernel_5124/952804081.py\"\u001b[1;36m, line \u001b[1;32m2\u001b[0m\n\u001b[1;33m    \u001b[0m\n\u001b[1;37m    ^\u001b[0m\n\u001b[1;31mIndentationError\u001b[0m\u001b[1;31m:\u001b[0m expected an indented block\n"
     ]
    }
   ],
   "source": [
    "if a<0:\n",
    "    "
   ]
  },
  {
   "cell_type": "code",
   "execution_count": 68,
   "id": "aa4e567c",
   "metadata": {},
   "outputs": [
    {
     "name": "stdout",
     "output_type": "stream",
     "text": [
      "Enter a negative number: -345\n",
      "-345\n"
     ]
    }
   ],
   "source": [
    "a = int(input(\"Enter a negative number: \"))\n",
    "if a<0:\n",
    "    print(a)\n",
    "else:\n",
    "    a = int(input(\"Enter a negative number: \"))"
   ]
  },
  {
   "cell_type": "code",
   "execution_count": 70,
   "id": "6c47fd34",
   "metadata": {},
   "outputs": [
    {
     "name": "stdout",
     "output_type": "stream",
     "text": [
      "Enter a negative number: -234\n",
      "-234\n"
     ]
    }
   ],
   "source": [
    "a = int(input(\"Enter a negative number: \"))\n",
    "if a<0:\n",
    "    print(a)\n",
    "else:\n",
    "    \"padho likho\""
   ]
  },
  {
   "cell_type": "code",
   "execution_count": 72,
   "id": "01fffd40",
   "metadata": {},
   "outputs": [
    {
     "name": "stdout",
     "output_type": "stream",
     "text": [
      "Enter a negative number: 2345\n",
      "padho likho\n"
     ]
    }
   ],
   "source": [
    "a = int(input(\"Enter a negative number: \"))\n",
    "if a<0:\n",
    "    print(a)\n",
    "else:\n",
    "    print(\"padho likho\")"
   ]
  },
  {
   "cell_type": "code",
   "execution_count": 74,
   "id": "f352ccc5",
   "metadata": {},
   "outputs": [
    {
     "name": "stdout",
     "output_type": "stream",
     "text": [
      "Enter a negative number: -100\n",
      "-100\n"
     ]
    }
   ],
   "source": [
    "a = int(input(\"Enter a negative number: \"))\n",
    "if a<0:\n",
    "    print(a)\n",
    "elif a == -100:\n",
    "    print(\"Wahh bede mauj kar di \")\n",
    "else:\n",
    "    print(\"padho likho\")"
   ]
  },
  {
   "cell_type": "code",
   "execution_count": 75,
   "id": "26c58b74",
   "metadata": {},
   "outputs": [
    {
     "name": "stdout",
     "output_type": "stream",
     "text": [
      "Enter a negative number: -100\n",
      "Wahh bede mauj kar di \n"
     ]
    }
   ],
   "source": [
    "a = int(input(\"Enter a negative number: \"))\n",
    "if a==0:\n",
    "    print(a)\n",
    "elif a == -100:\n",
    "    print(\"Wahh bede mauj kar di \")\n",
    "else:\n",
    "    print(\"padho likho\")"
   ]
  },
  {
   "cell_type": "code",
   "execution_count": 76,
   "id": "cf140964",
   "metadata": {},
   "outputs": [],
   "source": [
    "salary = 5000"
   ]
  },
  {
   "cell_type": "code",
   "execution_count": 77,
   "id": "07a854f6",
   "metadata": {},
   "outputs": [
    {
     "data": {
      "text/plain": [
       "False"
      ]
     },
     "execution_count": 77,
     "metadata": {},
     "output_type": "execute_result"
    }
   ],
   "source": [
    "salary > 5000"
   ]
  },
  {
   "cell_type": "code",
   "execution_count": 78,
   "id": "147323dd",
   "metadata": {},
   "outputs": [
    {
     "data": {
      "text/plain": [
       "True"
      ]
     },
     "execution_count": 78,
     "metadata": {},
     "output_type": "execute_result"
    }
   ],
   "source": [
    "salary == 5000"
   ]
  },
  {
   "cell_type": "code",
   "execution_count": null,
   "id": "7512e80b",
   "metadata": {},
   "outputs": [],
   "source": []
  }
 ],
 "metadata": {
  "kernelspec": {
   "display_name": "Python 3 (ipykernel)",
   "language": "python",
   "name": "python3"
  },
  "language_info": {
   "codemirror_mode": {
    "name": "ipython",
    "version": 3
   },
   "file_extension": ".py",
   "mimetype": "text/x-python",
   "name": "python",
   "nbconvert_exporter": "python",
   "pygments_lexer": "ipython3",
   "version": "3.9.7"
  }
 },
 "nbformat": 4,
 "nbformat_minor": 5
}
