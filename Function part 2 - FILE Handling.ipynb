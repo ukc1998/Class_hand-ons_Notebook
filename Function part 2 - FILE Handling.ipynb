{
 "cells": [
  {
   "cell_type": "code",
   "execution_count": 1,
   "id": "e9ecc53a",
   "metadata": {},
   "outputs": [
    {
     "ename": "FileNotFoundError",
     "evalue": "[Errno 2] No such file or directory: 'test.txt'",
     "output_type": "error",
     "traceback": [
      "\u001b[1;31m---------------------------------------------------------------------------\u001b[0m",
      "\u001b[1;31mFileNotFoundError\u001b[0m                         Traceback (most recent call last)",
      "\u001b[1;32m~\\AppData\\Local\\Temp/ipykernel_13540/2159030510.py\u001b[0m in \u001b[0;36m<module>\u001b[1;34m\u001b[0m\n\u001b[1;32m----> 1\u001b[1;33m \u001b[0mf\u001b[0m \u001b[1;33m=\u001b[0m \u001b[0mopen\u001b[0m\u001b[1;33m(\u001b[0m\u001b[1;34m\"test.txt\"\u001b[0m\u001b[1;33m)\u001b[0m\u001b[1;33m\u001b[0m\u001b[1;33m\u001b[0m\u001b[0m\n\u001b[0m",
      "\u001b[1;31mFileNotFoundError\u001b[0m: [Errno 2] No such file or directory: 'test.txt'"
     ]
    }
   ],
   "source": [
    "f = open(\"test.txt\")"
   ]
  },
  {
   "cell_type": "code",
   "execution_count": 2,
   "id": "457e60ed",
   "metadata": {},
   "outputs": [],
   "source": [
    "f = open(\"test.txt\", \"wb\")"
   ]
  },
  {
   "cell_type": "code",
   "execution_count": 3,
   "id": "6ffa0bc5",
   "metadata": {},
   "outputs": [
    {
     "ename": "TypeError",
     "evalue": "a bytes-like object is required, not 'str'",
     "output_type": "error",
     "traceback": [
      "\u001b[1;31m---------------------------------------------------------------------------\u001b[0m",
      "\u001b[1;31mTypeError\u001b[0m                                 Traceback (most recent call last)",
      "\u001b[1;32m~\\AppData\\Local\\Temp/ipykernel_13540/3729939158.py\u001b[0m in \u001b[0;36m<module>\u001b[1;34m\u001b[0m\n\u001b[1;32m----> 1\u001b[1;33m \u001b[0mf\u001b[0m\u001b[1;33m.\u001b[0m\u001b[0mwrite\u001b[0m\u001b[1;33m(\u001b[0m\u001b[1;34m\"it is my first text writing operation\"\u001b[0m\u001b[1;33m)\u001b[0m\u001b[1;33m\u001b[0m\u001b[1;33m\u001b[0m\u001b[0m\n\u001b[0m",
      "\u001b[1;31mTypeError\u001b[0m: a bytes-like object is required, not 'str'"
     ]
    }
   ],
   "source": [
    "f.write(\"it is my first text writing operation\")"
   ]
  },
  {
   "cell_type": "code",
   "execution_count": 4,
   "id": "62360e16",
   "metadata": {},
   "outputs": [],
   "source": [
    "f = open(\"test.txt\", \"w\")"
   ]
  },
  {
   "cell_type": "code",
   "execution_count": 5,
   "id": "7a7ce76c",
   "metadata": {},
   "outputs": [
    {
     "data": {
      "text/plain": [
       "37"
      ]
     },
     "execution_count": 5,
     "metadata": {},
     "output_type": "execute_result"
    }
   ],
   "source": [
    "f.write(\"it is my first text writing operation\")"
   ]
  },
  {
   "cell_type": "code",
   "execution_count": 6,
   "id": "969fae36",
   "metadata": {},
   "outputs": [],
   "source": [
    "f.close()"
   ]
  },
  {
   "cell_type": "code",
   "execution_count": 7,
   "id": "1106326e",
   "metadata": {},
   "outputs": [],
   "source": [
    "f = open(\"test.txt\")"
   ]
  },
  {
   "cell_type": "code",
   "execution_count": 8,
   "id": "8574535a",
   "metadata": {},
   "outputs": [
    {
     "data": {
      "text/plain": [
       "'it is my first text writing operation'"
      ]
     },
     "execution_count": 8,
     "metadata": {},
     "output_type": "execute_result"
    }
   ],
   "source": [
    "f.read()"
   ]
  },
  {
   "cell_type": "code",
   "execution_count": 9,
   "id": "e6a94193",
   "metadata": {},
   "outputs": [
    {
     "data": {
      "text/plain": [
       "'\\n\\nappending and adding some new data\\ndata1 \\ndata2\\n'"
      ]
     },
     "execution_count": 9,
     "metadata": {},
     "output_type": "execute_result"
    }
   ],
   "source": [
    "f.read()"
   ]
  },
  {
   "cell_type": "code",
   "execution_count": 10,
   "id": "0d253732",
   "metadata": {},
   "outputs": [
    {
     "data": {
      "text/plain": [
       "''"
      ]
     },
     "execution_count": 10,
     "metadata": {},
     "output_type": "execute_result"
    }
   ],
   "source": [
    "f.read()"
   ]
  },
  {
   "cell_type": "code",
   "execution_count": 11,
   "id": "e57e477d",
   "metadata": {},
   "outputs": [
    {
     "data": {
      "text/plain": [
       "''"
      ]
     },
     "execution_count": 11,
     "metadata": {},
     "output_type": "execute_result"
    }
   ],
   "source": [
    "f.read()"
   ]
  },
  {
   "cell_type": "code",
   "execution_count": 12,
   "id": "da9c0d8a",
   "metadata": {},
   "outputs": [
    {
     "ename": "TypeError",
     "evalue": "seek expected at least 1 argument, got 0",
     "output_type": "error",
     "traceback": [
      "\u001b[1;31m---------------------------------------------------------------------------\u001b[0m",
      "\u001b[1;31mTypeError\u001b[0m                                 Traceback (most recent call last)",
      "\u001b[1;32m~\\AppData\\Local\\Temp/ipykernel_13540/439553891.py\u001b[0m in \u001b[0;36m<module>\u001b[1;34m\u001b[0m\n\u001b[1;32m----> 1\u001b[1;33m \u001b[0mf\u001b[0m\u001b[1;33m.\u001b[0m\u001b[0mseek\u001b[0m\u001b[1;33m(\u001b[0m\u001b[1;33m)\u001b[0m\u001b[1;33m\u001b[0m\u001b[1;33m\u001b[0m\u001b[0m\n\u001b[0m",
      "\u001b[1;31mTypeError\u001b[0m: seek expected at least 1 argument, got 0"
     ]
    }
   ],
   "source": [
    "f.seek()"
   ]
  },
  {
   "cell_type": "code",
   "execution_count": 13,
   "id": "a14a296e",
   "metadata": {},
   "outputs": [
    {
     "data": {
      "text/plain": [
       "0"
      ]
     },
     "execution_count": 13,
     "metadata": {},
     "output_type": "execute_result"
    }
   ],
   "source": [
    "f.seek(0)"
   ]
  },
  {
   "cell_type": "code",
   "execution_count": 14,
   "id": "64a9aa1b",
   "metadata": {},
   "outputs": [
    {
     "data": {
      "text/plain": [
       "'it is my first text writing operation\\n\\nappending and adding some new data\\ndata1 \\ndata2\\n'"
      ]
     },
     "execution_count": 14,
     "metadata": {},
     "output_type": "execute_result"
    }
   ],
   "source": [
    "f.read()"
   ]
  },
  {
   "cell_type": "code",
   "execution_count": 15,
   "id": "76cac84b",
   "metadata": {},
   "outputs": [
    {
     "data": {
      "text/plain": [
       "10"
      ]
     },
     "execution_count": 15,
     "metadata": {},
     "output_type": "execute_result"
    }
   ],
   "source": [
    "f.seek(10)"
   ]
  },
  {
   "cell_type": "code",
   "execution_count": 16,
   "id": "300ab777",
   "metadata": {},
   "outputs": [
    {
     "data": {
      "text/plain": [
       "'irst text writing operation\\n\\nappending and adding some new data\\ndata1 \\ndata2\\n'"
      ]
     },
     "execution_count": 16,
     "metadata": {},
     "output_type": "execute_result"
    }
   ],
   "source": [
    "f.read()"
   ]
  },
  {
   "cell_type": "code",
   "execution_count": 17,
   "id": "c2a61b2b",
   "metadata": {},
   "outputs": [
    {
     "ename": "TypeError",
     "evalue": "'str' object is not callable",
     "output_type": "error",
     "traceback": [
      "\u001b[1;31m---------------------------------------------------------------------------\u001b[0m",
      "\u001b[1;31mTypeError\u001b[0m                                 Traceback (most recent call last)",
      "\u001b[1;32m~\\AppData\\Local\\Temp/ipykernel_13540/4174263361.py\u001b[0m in \u001b[0;36m<module>\u001b[1;34m\u001b[0m\n\u001b[1;32m----> 1\u001b[1;33m \u001b[0mf\u001b[0m\u001b[1;33m.\u001b[0m\u001b[0mmode\u001b[0m\u001b[1;33m(\u001b[0m\u001b[1;33m)\u001b[0m\u001b[1;33m\u001b[0m\u001b[1;33m\u001b[0m\u001b[0m\n\u001b[0m",
      "\u001b[1;31mTypeError\u001b[0m: 'str' object is not callable"
     ]
    }
   ],
   "source": [
    "f.mode()"
   ]
  },
  {
   "cell_type": "code",
   "execution_count": 18,
   "id": "90a77b1a",
   "metadata": {},
   "outputs": [],
   "source": [
    "f = open(\"test.txt\", \"r\")"
   ]
  },
  {
   "cell_type": "code",
   "execution_count": 19,
   "id": "0f92493b",
   "metadata": {},
   "outputs": [
    {
     "ename": "UnsupportedOperation",
     "evalue": "not writable",
     "output_type": "error",
     "traceback": [
      "\u001b[1;31m---------------------------------------------------------------------------\u001b[0m",
      "\u001b[1;31mUnsupportedOperation\u001b[0m                      Traceback (most recent call last)",
      "\u001b[1;32m~\\AppData\\Local\\Temp/ipykernel_13540/3275201061.py\u001b[0m in \u001b[0;36m<module>\u001b[1;34m\u001b[0m\n\u001b[1;32m----> 1\u001b[1;33m \u001b[0mf\u001b[0m\u001b[1;33m.\u001b[0m\u001b[0mwrite\u001b[0m\u001b[1;33m(\u001b[0m\u001b[1;34m\"asdddsasdf\"\u001b[0m\u001b[1;33m)\u001b[0m\u001b[1;33m\u001b[0m\u001b[1;33m\u001b[0m\u001b[0m\n\u001b[0m",
      "\u001b[1;31mUnsupportedOperation\u001b[0m: not writable"
     ]
    }
   ],
   "source": [
    "f.write(\"asdddsasdf\")"
   ]
  },
  {
   "cell_type": "code",
   "execution_count": 20,
   "id": "6687a4a9",
   "metadata": {},
   "outputs": [
    {
     "data": {
      "text/plain": [
       "'it is my first text writing operation\\n\\nappending and adding some new data\\ndata1 \\ndata2\\n'"
      ]
     },
     "execution_count": 20,
     "metadata": {},
     "output_type": "execute_result"
    }
   ],
   "source": [
    "f.read()"
   ]
  },
  {
   "cell_type": "code",
   "execution_count": 21,
   "id": "a625c778",
   "metadata": {},
   "outputs": [
    {
     "data": {
      "text/plain": [
       "''"
      ]
     },
     "execution_count": 21,
     "metadata": {},
     "output_type": "execute_result"
    }
   ],
   "source": [
    "f.read()"
   ]
  },
  {
   "cell_type": "code",
   "execution_count": 22,
   "id": "a97f55ba",
   "metadata": {},
   "outputs": [
    {
     "data": {
      "text/plain": [
       "0"
      ]
     },
     "execution_count": 22,
     "metadata": {},
     "output_type": "execute_result"
    }
   ],
   "source": [
    "f.seek(0)"
   ]
  },
  {
   "cell_type": "code",
   "execution_count": 23,
   "id": "6a85febb",
   "metadata": {},
   "outputs": [
    {
     "data": {
      "text/plain": [
       "'it '"
      ]
     },
     "execution_count": 23,
     "metadata": {},
     "output_type": "execute_result"
    }
   ],
   "source": [
    "f.read(3)"
   ]
  },
  {
   "cell_type": "code",
   "execution_count": 24,
   "id": "c43ad904",
   "metadata": {},
   "outputs": [],
   "source": [
    "f.close()"
   ]
  },
  {
   "cell_type": "code",
   "execution_count": 25,
   "id": "244fbfb0",
   "metadata": {},
   "outputs": [
    {
     "ename": "ValueError",
     "evalue": "I/O operation on closed file.",
     "output_type": "error",
     "traceback": [
      "\u001b[1;31m---------------------------------------------------------------------------\u001b[0m",
      "\u001b[1;31mValueError\u001b[0m                                Traceback (most recent call last)",
      "\u001b[1;32m~\\AppData\\Local\\Temp/ipykernel_13540/3059900045.py\u001b[0m in \u001b[0;36m<module>\u001b[1;34m\u001b[0m\n\u001b[1;32m----> 1\u001b[1;33m \u001b[0mf\u001b[0m\u001b[1;33m.\u001b[0m\u001b[0mread\u001b[0m\u001b[1;33m(\u001b[0m\u001b[1;33m)\u001b[0m\u001b[1;33m\u001b[0m\u001b[1;33m\u001b[0m\u001b[0m\n\u001b[0m",
      "\u001b[1;31mValueError\u001b[0m: I/O operation on closed file."
     ]
    }
   ],
   "source": [
    "f.read()"
   ]
  },
  {
   "cell_type": "code",
   "execution_count": 27,
   "id": "10efc8f5",
   "metadata": {},
   "outputs": [],
   "source": [
    "f=open(\"test.txt\", \"w\")"
   ]
  },
  {
   "cell_type": "code",
   "execution_count": 28,
   "id": "1ef30621",
   "metadata": {},
   "outputs": [
    {
     "ename": "UnsupportedOperation",
     "evalue": "not readable",
     "output_type": "error",
     "traceback": [
      "\u001b[1;31m---------------------------------------------------------------------------\u001b[0m",
      "\u001b[1;31mUnsupportedOperation\u001b[0m                      Traceback (most recent call last)",
      "\u001b[1;32m~\\AppData\\Local\\Temp/ipykernel_13540/3059900045.py\u001b[0m in \u001b[0;36m<module>\u001b[1;34m\u001b[0m\n\u001b[1;32m----> 1\u001b[1;33m \u001b[0mf\u001b[0m\u001b[1;33m.\u001b[0m\u001b[0mread\u001b[0m\u001b[1;33m(\u001b[0m\u001b[1;33m)\u001b[0m\u001b[1;33m\u001b[0m\u001b[1;33m\u001b[0m\u001b[0m\n\u001b[0m",
      "\u001b[1;31mUnsupportedOperation\u001b[0m: not readable"
     ]
    }
   ],
   "source": [
    "f.read()"
   ]
  },
  {
   "cell_type": "code",
   "execution_count": 29,
   "id": "0a7056c1",
   "metadata": {},
   "outputs": [],
   "source": [
    "f = open(\"test.txt\", \"a\")"
   ]
  },
  {
   "cell_type": "code",
   "execution_count": 30,
   "id": "0c7e74e7",
   "metadata": {},
   "outputs": [
    {
     "data": {
      "text/plain": [
       "40"
      ]
     },
     "execution_count": 30,
     "metadata": {},
     "output_type": "execute_result"
    }
   ],
   "source": [
    "f.write(\"this is the first fsds batch of nov 2021\")"
   ]
  },
  {
   "cell_type": "code",
   "execution_count": 31,
   "id": "d76e7629",
   "metadata": {},
   "outputs": [],
   "source": [
    "f.close()"
   ]
  },
  {
   "cell_type": "code",
   "execution_count": 32,
   "id": "bd71e08b",
   "metadata": {},
   "outputs": [],
   "source": [
    "f = open(\"test1.txt\", \"wb\")"
   ]
  },
  {
   "cell_type": "code",
   "execution_count": 33,
   "id": "da10f321",
   "metadata": {},
   "outputs": [
    {
     "ename": "TypeError",
     "evalue": "a bytes-like object is required, not 'str'",
     "output_type": "error",
     "traceback": [
      "\u001b[1;31m---------------------------------------------------------------------------\u001b[0m",
      "\u001b[1;31mTypeError\u001b[0m                                 Traceback (most recent call last)",
      "\u001b[1;32m~\\AppData\\Local\\Temp/ipykernel_13540/2417788321.py\u001b[0m in \u001b[0;36m<module>\u001b[1;34m\u001b[0m\n\u001b[1;32m----> 1\u001b[1;33m \u001b[0mf\u001b[0m\u001b[1;33m.\u001b[0m\u001b[0mwrite\u001b[0m\u001b[1;33m(\u001b[0m\u001b[1;34m\"le betaah\"\u001b[0m\u001b[1;33m)\u001b[0m\u001b[1;33m\u001b[0m\u001b[1;33m\u001b[0m\u001b[0m\n\u001b[0m",
      "\u001b[1;31mTypeError\u001b[0m: a bytes-like object is required, not 'str'"
     ]
    }
   ],
   "source": [
    "f.write(\"le betaah\")"
   ]
  },
  {
   "cell_type": "code",
   "execution_count": 34,
   "id": "4340deed",
   "metadata": {},
   "outputs": [
    {
     "data": {
      "text/plain": [
       "9"
      ]
     },
     "execution_count": 34,
     "metadata": {},
     "output_type": "execute_result"
    }
   ],
   "source": [
    "f.write(b\"le betaah\")"
   ]
  },
  {
   "cell_type": "code",
   "execution_count": 35,
   "id": "ab12f4ec",
   "metadata": {},
   "outputs": [],
   "source": [
    "f.close()"
   ]
  },
  {
   "cell_type": "code",
   "execution_count": 36,
   "id": "33c19821",
   "metadata": {},
   "outputs": [],
   "source": [
    "f = open(\"test1.txt\", \"r\")"
   ]
  },
  {
   "cell_type": "code",
   "execution_count": 37,
   "id": "5d751581",
   "metadata": {},
   "outputs": [
    {
     "data": {
      "text/plain": [
       "'le betaah'"
      ]
     },
     "execution_count": 37,
     "metadata": {},
     "output_type": "execute_result"
    }
   ],
   "source": [
    "f.read()"
   ]
  },
  {
   "cell_type": "code",
   "execution_count": 38,
   "id": "64d08d72",
   "metadata": {},
   "outputs": [
    {
     "data": {
      "text/plain": [
       "2"
      ]
     },
     "execution_count": 38,
     "metadata": {},
     "output_type": "execute_result"
    }
   ],
   "source": [
    "f.seek(2)"
   ]
  },
  {
   "cell_type": "code",
   "execution_count": 39,
   "id": "578d12d0",
   "metadata": {},
   "outputs": [
    {
     "data": {
      "text/plain": [
       "' be'"
      ]
     },
     "execution_count": 39,
     "metadata": {},
     "output_type": "execute_result"
    }
   ],
   "source": [
    "f.read(3)"
   ]
  },
  {
   "cell_type": "code",
   "execution_count": 40,
   "id": "39bcc385",
   "metadata": {},
   "outputs": [
    {
     "ename": "ValueError",
     "evalue": "invalid whence (4, should be 0, 1 or 2)",
     "output_type": "error",
     "traceback": [
      "\u001b[1;31m---------------------------------------------------------------------------\u001b[0m",
      "\u001b[1;31mValueError\u001b[0m                                Traceback (most recent call last)",
      "\u001b[1;32m~\\AppData\\Local\\Temp/ipykernel_13540/1435124932.py\u001b[0m in \u001b[0;36m<module>\u001b[1;34m\u001b[0m\n\u001b[1;32m----> 1\u001b[1;33m \u001b[0mf\u001b[0m\u001b[1;33m.\u001b[0m\u001b[0mseek\u001b[0m\u001b[1;33m(\u001b[0m\u001b[1;36m0\u001b[0m\u001b[1;33m,\u001b[0m\u001b[1;36m4\u001b[0m\u001b[1;33m)\u001b[0m\u001b[1;33m\u001b[0m\u001b[1;33m\u001b[0m\u001b[0m\n\u001b[0m",
      "\u001b[1;31mValueError\u001b[0m: invalid whence (4, should be 0, 1 or 2)"
     ]
    }
   ],
   "source": [
    "f.seek(0,4)"
   ]
  },
  {
   "cell_type": "code",
   "execution_count": 41,
   "id": "69fa7bcf",
   "metadata": {},
   "outputs": [
    {
     "ename": "ValueError",
     "evalue": "invalid whence (4, should be 0, 1 or 2)",
     "output_type": "error",
     "traceback": [
      "\u001b[1;31m---------------------------------------------------------------------------\u001b[0m",
      "\u001b[1;31mValueError\u001b[0m                                Traceback (most recent call last)",
      "\u001b[1;32m~\\AppData\\Local\\Temp/ipykernel_13540/1543959486.py\u001b[0m in \u001b[0;36m<module>\u001b[1;34m\u001b[0m\n\u001b[1;32m----> 1\u001b[1;33m \u001b[0mf\u001b[0m\u001b[1;33m.\u001b[0m\u001b[0mseek\u001b[0m\u001b[1;33m(\u001b[0m\u001b[1;33m-\u001b[0m\u001b[1;36m3\u001b[0m\u001b[1;33m,\u001b[0m\u001b[1;36m4\u001b[0m\u001b[1;33m)\u001b[0m\u001b[1;33m\u001b[0m\u001b[1;33m\u001b[0m\u001b[0m\n\u001b[0m",
      "\u001b[1;31mValueError\u001b[0m: invalid whence (4, should be 0, 1 or 2)"
     ]
    }
   ],
   "source": [
    "f.seek(-3,4)"
   ]
  },
  {
   "cell_type": "code",
   "execution_count": 42,
   "id": "e9925071",
   "metadata": {},
   "outputs": [],
   "source": [
    "f = open(\"test1.txt\", \"rb\")"
   ]
  },
  {
   "cell_type": "code",
   "execution_count": 43,
   "id": "3eae81fb",
   "metadata": {},
   "outputs": [
    {
     "data": {
      "text/plain": [
       "<function BufferedReader.read(size=-1, /)>"
      ]
     },
     "execution_count": 43,
     "metadata": {},
     "output_type": "execute_result"
    }
   ],
   "source": [
    "f.read"
   ]
  },
  {
   "cell_type": "code",
   "execution_count": 44,
   "id": "2cd152a4",
   "metadata": {},
   "outputs": [
    {
     "data": {
      "text/plain": [
       "b'le betaah'"
      ]
     },
     "execution_count": 44,
     "metadata": {},
     "output_type": "execute_result"
    }
   ],
   "source": [
    "f.read()"
   ]
  },
  {
   "cell_type": "code",
   "execution_count": 45,
   "id": "13b744d2",
   "metadata": {},
   "outputs": [
    {
     "data": {
      "text/plain": [
       "5"
      ]
     },
     "execution_count": 45,
     "metadata": {},
     "output_type": "execute_result"
    }
   ],
   "source": [
    "f.seek(-4,2)"
   ]
  },
  {
   "cell_type": "code",
   "execution_count": 46,
   "id": "0b9c54d5",
   "metadata": {},
   "outputs": [],
   "source": [
    "f = open(\"test2.txt\",\"w\")"
   ]
  },
  {
   "cell_type": "code",
   "execution_count": 47,
   "id": "a6597a3e",
   "metadata": {},
   "outputs": [
    {
     "data": {
      "text/plain": [
       "33"
      ]
     },
     "execution_count": 47,
     "metadata": {},
     "output_type": "execute_result"
    }
   ],
   "source": [
    "f.write(\"let us write something in my file\")"
   ]
  },
  {
   "cell_type": "code",
   "execution_count": 48,
   "id": "7a578054",
   "metadata": {},
   "outputs": [],
   "source": [
    "f.close()"
   ]
  },
  {
   "cell_type": "code",
   "execution_count": 49,
   "id": "acf1a238",
   "metadata": {},
   "outputs": [],
   "source": [
    "f = open(\"test2.txt\", \"r\")"
   ]
  },
  {
   "cell_type": "code",
   "execution_count": 50,
   "id": "e7e3c76c",
   "metadata": {},
   "outputs": [
    {
     "data": {
      "text/plain": [
       "'let us write something in my file'"
      ]
     },
     "execution_count": 50,
     "metadata": {},
     "output_type": "execute_result"
    }
   ],
   "source": [
    "f.read()"
   ]
  },
  {
   "cell_type": "code",
   "execution_count": 51,
   "id": "5d3ff945",
   "metadata": {},
   "outputs": [
    {
     "data": {
      "text/plain": [
       "0"
      ]
     },
     "execution_count": 51,
     "metadata": {},
     "output_type": "execute_result"
    }
   ],
   "source": [
    "f.seek(0)"
   ]
  },
  {
   "cell_type": "code",
   "execution_count": 52,
   "id": "c40c850c",
   "metadata": {},
   "outputs": [
    {
     "data": {
      "text/plain": [
       "'let us write something in my file\\n'"
      ]
     },
     "execution_count": 52,
     "metadata": {},
     "output_type": "execute_result"
    }
   ],
   "source": [
    "f.readline()"
   ]
  },
  {
   "cell_type": "code",
   "execution_count": 53,
   "id": "e46581d5",
   "metadata": {},
   "outputs": [
    {
     "data": {
      "text/plain": [
       "'dfdfg\\n'"
      ]
     },
     "execution_count": 53,
     "metadata": {},
     "output_type": "execute_result"
    }
   ],
   "source": [
    "f.readline()"
   ]
  },
  {
   "cell_type": "code",
   "execution_count": 54,
   "id": "8ffb2edf",
   "metadata": {},
   "outputs": [
    {
     "data": {
      "text/plain": [
       "'dg\\n'"
      ]
     },
     "execution_count": 54,
     "metadata": {},
     "output_type": "execute_result"
    }
   ],
   "source": [
    "f.readline()"
   ]
  },
  {
   "cell_type": "code",
   "execution_count": 55,
   "id": "60ff2bb8",
   "metadata": {},
   "outputs": [
    {
     "data": {
      "text/plain": [
       "'dfg\\n'"
      ]
     },
     "execution_count": 55,
     "metadata": {},
     "output_type": "execute_result"
    }
   ],
   "source": [
    "f.readline()"
   ]
  },
  {
   "cell_type": "code",
   "execution_count": 56,
   "id": "1ba9d155",
   "metadata": {},
   "outputs": [
    {
     "data": {
      "text/plain": [
       "'vb\\n'"
      ]
     },
     "execution_count": 56,
     "metadata": {},
     "output_type": "execute_result"
    }
   ],
   "source": [
    "f.readline()"
   ]
  },
  {
   "cell_type": "code",
   "execution_count": 57,
   "id": "a07c205d",
   "metadata": {},
   "outputs": [
    {
     "data": {
      "text/plain": [
       "'b\\n'"
      ]
     },
     "execution_count": 57,
     "metadata": {},
     "output_type": "execute_result"
    }
   ],
   "source": [
    "f.readline()"
   ]
  },
  {
   "cell_type": "code",
   "execution_count": 58,
   "id": "ffb7cf31",
   "metadata": {},
   "outputs": [
    {
     "data": {
      "text/plain": [
       "'esd'"
      ]
     },
     "execution_count": 58,
     "metadata": {},
     "output_type": "execute_result"
    }
   ],
   "source": [
    "f.readline(3)"
   ]
  },
  {
   "cell_type": "code",
   "execution_count": 59,
   "id": "fc15c700",
   "metadata": {},
   "outputs": [],
   "source": [
    "f.close()"
   ]
  },
  {
   "cell_type": "code",
   "execution_count": 60,
   "id": "e35343ef",
   "metadata": {},
   "outputs": [],
   "source": [
    "f = open(\"test2.txt\", \"r\")"
   ]
  },
  {
   "cell_type": "code",
   "execution_count": 61,
   "id": "0dc00e7f",
   "metadata": {},
   "outputs": [
    {
     "name": "stdout",
     "output_type": "stream",
     "text": [
      "let us write something in my file\n",
      "\n",
      "dfdfg\n",
      "\n",
      "dg\n",
      "\n",
      "dfg\n",
      "\n",
      "vb\n",
      "\n",
      "b\n",
      "\n",
      "esd\n",
      "\n",
      "fdfg\n",
      "\n",
      "er\n",
      "\n",
      "efg\n",
      "\n",
      "fgb\n",
      "\n",
      "dcsd\n"
     ]
    }
   ],
   "source": [
    "for i in f :\n",
    "    print(i)"
   ]
  },
  {
   "cell_type": "code",
   "execution_count": 64,
   "id": "83defb9c",
   "metadata": {},
   "outputs": [],
   "source": [
    "f.close()"
   ]
  },
  {
   "cell_type": "code",
   "execution_count": 65,
   "id": "ac29c0c5",
   "metadata": {},
   "outputs": [],
   "source": [
    "f = open(\"test2.txt\", \"r\")"
   ]
  },
  {
   "cell_type": "code",
   "execution_count": 66,
   "id": "516f90c9",
   "metadata": {},
   "outputs": [
    {
     "name": "stdout",
     "output_type": "stream",
     "text": [
      "let us write something in my file\n",
      " dfdfg\n",
      " dg\n",
      " dfg\n",
      " vb\n",
      " b\n",
      " esd\n",
      " fdfg\n",
      " er\n",
      " efg\n",
      " fgb\n",
      " dcsd "
     ]
    }
   ],
   "source": [
    "for i in f:\n",
    "    print(i, end = \" \")"
   ]
  },
  {
   "cell_type": "code",
   "execution_count": 67,
   "id": "7a5f60ff",
   "metadata": {},
   "outputs": [],
   "source": [
    "f.close()"
   ]
  },
  {
   "cell_type": "code",
   "execution_count": 68,
   "id": "750b3f85",
   "metadata": {},
   "outputs": [],
   "source": [
    "f = open(\"test2.txt\", \"r\")"
   ]
  },
  {
   "cell_type": "code",
   "execution_count": 69,
   "id": "7b7b1701",
   "metadata": {},
   "outputs": [
    {
     "data": {
      "text/plain": [
       "['let us write something in my file\\n',\n",
       " 'dfdfg\\n',\n",
       " 'dg\\n',\n",
       " 'dfg\\n',\n",
       " 'vb\\n',\n",
       " 'b\\n',\n",
       " 'esd\\n',\n",
       " 'fdfg\\n',\n",
       " 'er\\n',\n",
       " 'efg\\n',\n",
       " 'fgb\\n',\n",
       " 'dcsd']"
      ]
     },
     "execution_count": 69,
     "metadata": {},
     "output_type": "execute_result"
    }
   ],
   "source": [
    "list(f)"
   ]
  },
  {
   "cell_type": "code",
   "execution_count": 70,
   "id": "fe058b9a",
   "metadata": {},
   "outputs": [],
   "source": [
    "f.close()"
   ]
  },
  {
   "cell_type": "code",
   "execution_count": 71,
   "id": "66f892cd",
   "metadata": {},
   "outputs": [],
   "source": [
    "f = open(\"test2.txt\", \"r\")"
   ]
  },
  {
   "cell_type": "code",
   "execution_count": 72,
   "id": "05ef80f8",
   "metadata": {},
   "outputs": [
    {
     "data": {
      "text/plain": [
       "['let us write something in my file\\n',\n",
       " 'dfdfg\\n',\n",
       " 'dg\\n',\n",
       " 'dfg\\n',\n",
       " 'vb\\n',\n",
       " 'b\\n',\n",
       " 'esd\\n',\n",
       " 'fdfg\\n',\n",
       " 'er\\n',\n",
       " 'efg\\n',\n",
       " 'fgb\\n',\n",
       " 'dcsd']"
      ]
     },
     "execution_count": 72,
     "metadata": {},
     "output_type": "execute_result"
    }
   ],
   "source": [
    "f.readlines()"
   ]
  },
  {
   "cell_type": "code",
   "execution_count": 73,
   "id": "df471257",
   "metadata": {},
   "outputs": [],
   "source": [
    "f.close()"
   ]
  },
  {
   "cell_type": "code",
   "execution_count": 74,
   "id": "a95b07b1",
   "metadata": {},
   "outputs": [],
   "source": [
    "f = open(\"test2.txt\", \"r+\")"
   ]
  },
  {
   "cell_type": "code",
   "execution_count": 75,
   "id": "2bd426a5",
   "metadata": {},
   "outputs": [
    {
     "data": {
      "text/plain": [
       "18"
      ]
     },
     "execution_count": 75,
     "metadata": {},
     "output_type": "execute_result"
    }
   ],
   "source": [
    "f.write(\"kemon aacho dada ?\")"
   ]
  },
  {
   "cell_type": "code",
   "execution_count": 76,
   "id": "c6f7327a",
   "metadata": {},
   "outputs": [
    {
     "data": {
      "text/plain": [
       "'hing in my file\\ndfdfg\\ndg\\ndfg\\nvb\\nb\\nesd\\nfdfg\\ner\\nefg\\nfgb\\ndcsd'"
      ]
     },
     "execution_count": 76,
     "metadata": {},
     "output_type": "execute_result"
    }
   ],
   "source": [
    "f.read()"
   ]
  },
  {
   "cell_type": "code",
   "execution_count": 77,
   "id": "39b5879d",
   "metadata": {},
   "outputs": [],
   "source": [
    "f.close()"
   ]
  },
  {
   "cell_type": "code",
   "execution_count": 78,
   "id": "4034e7a2",
   "metadata": {},
   "outputs": [],
   "source": [
    "f = open(\"test2.txt\", \"r+\")"
   ]
  },
  {
   "cell_type": "code",
   "execution_count": 79,
   "id": "d297795d",
   "metadata": {},
   "outputs": [],
   "source": [
    "f.writelines(\"This is hillarious bruh\")"
   ]
  },
  {
   "cell_type": "code",
   "execution_count": 80,
   "id": "3fd4fb80",
   "metadata": {},
   "outputs": [],
   "source": [
    "f.close()"
   ]
  },
  {
   "cell_type": "code",
   "execution_count": 81,
   "id": "893bb8ed",
   "metadata": {},
   "outputs": [
    {
     "ename": "ValueError",
     "evalue": "I/O operation on closed file.",
     "output_type": "error",
     "traceback": [
      "\u001b[1;31m---------------------------------------------------------------------------\u001b[0m",
      "\u001b[1;31mValueError\u001b[0m                                Traceback (most recent call last)",
      "\u001b[1;32m~\\AppData\\Local\\Temp/ipykernel_13540/4122812935.py\u001b[0m in \u001b[0;36m<module>\u001b[1;34m\u001b[0m\n\u001b[1;32m----> 1\u001b[1;33m \u001b[0mf\u001b[0m\u001b[1;33m.\u001b[0m\u001b[0mseek\u001b[0m\u001b[1;33m(\u001b[0m\u001b[1;36m889\u001b[0m\u001b[1;33m)\u001b[0m\u001b[1;33m\u001b[0m\u001b[1;33m\u001b[0m\u001b[0m\n\u001b[0m",
      "\u001b[1;31mValueError\u001b[0m: I/O operation on closed file."
     ]
    }
   ],
   "source": [
    "f.seek(889)"
   ]
  },
  {
   "cell_type": "code",
   "execution_count": 82,
   "id": "30c3faa9",
   "metadata": {},
   "outputs": [],
   "source": [
    "f = open(\"test2.txt\", \"r+\")"
   ]
  },
  {
   "cell_type": "code",
   "execution_count": 83,
   "id": "8f85302f",
   "metadata": {},
   "outputs": [
    {
     "data": {
      "text/plain": [
       "230"
      ]
     },
     "execution_count": 83,
     "metadata": {},
     "output_type": "execute_result"
    }
   ],
   "source": [
    "f.seek(230)"
   ]
  },
  {
   "cell_type": "code",
   "execution_count": 84,
   "id": "de212492",
   "metadata": {},
   "outputs": [],
   "source": [
    "f.writelines(\"Baah bede !\")"
   ]
  },
  {
   "cell_type": "code",
   "execution_count": 85,
   "id": "d495e3b3",
   "metadata": {},
   "outputs": [
    {
     "data": {
      "text/plain": [
       "''"
      ]
     },
     "execution_count": 85,
     "metadata": {},
     "output_type": "execute_result"
    }
   ],
   "source": [
    "f.read()"
   ]
  },
  {
   "cell_type": "code",
   "execution_count": 86,
   "id": "a7f52e80",
   "metadata": {},
   "outputs": [
    {
     "data": {
      "text/plain": [
       "0"
      ]
     },
     "execution_count": 86,
     "metadata": {},
     "output_type": "execute_result"
    }
   ],
   "source": [
    "f.seek(0)"
   ]
  },
  {
   "cell_type": "code",
   "execution_count": 87,
   "id": "b48cc472",
   "metadata": {},
   "outputs": [
    {
     "data": {
      "text/plain": [
       "'This is hillarious bruhin my file\\ndfdfg\\ndg\\ndfg\\nvb\\nb\\nesd\\nfdfg\\ner\\nefg\\nfgb\\ndcsd\\x00\\x00\\x00\\x00\\x00\\x00\\x00\\x00\\x00\\x00\\x00\\x00\\x00\\x00\\x00\\x00\\x00\\x00\\x00\\x00\\x00\\x00\\x00\\x00\\x00\\x00\\x00\\x00\\x00\\x00\\x00\\x00\\x00\\x00\\x00\\x00\\x00\\x00\\x00\\x00\\x00\\x00\\x00\\x00\\x00\\x00\\x00\\x00\\x00\\x00\\x00\\x00\\x00\\x00\\x00\\x00\\x00\\x00\\x00\\x00\\x00\\x00\\x00\\x00\\x00\\x00\\x00\\x00\\x00\\x00\\x00\\x00\\x00\\x00\\x00\\x00\\x00\\x00\\x00\\x00\\x00\\x00\\x00\\x00\\x00\\x00\\x00\\x00\\x00\\x00\\x00\\x00\\x00\\x00\\x00\\x00\\x00\\x00\\x00\\x00\\x00\\x00\\x00\\x00\\x00\\x00\\x00\\x00\\x00\\x00\\x00\\x00\\x00\\x00\\x00\\x00\\x00\\x00\\x00\\x00\\x00\\x00\\x00\\x00\\x00\\x00\\x00\\x00\\x00\\x00\\x00\\x00\\x00\\x00\\x00\\x00\\x00\\x00\\x00\\x00\\x00\\x00\\x00\\x00\\x00\\x00\\x00\\x00\\x00\\x00\\x00\\x00\\x00\\x00Baah bede !'"
      ]
     },
     "execution_count": 87,
     "metadata": {},
     "output_type": "execute_result"
    }
   ],
   "source": [
    "f.read()"
   ]
  },
  {
   "cell_type": "code",
   "execution_count": 88,
   "id": "8936049c",
   "metadata": {},
   "outputs": [],
   "source": [
    "f = open(\"test2.txt\", \"r+\")"
   ]
  },
  {
   "cell_type": "code",
   "execution_count": 89,
   "id": "e3ed90d2",
   "metadata": {},
   "outputs": [
    {
     "data": {
      "text/plain": [
       "6"
      ]
     },
     "execution_count": 89,
     "metadata": {},
     "output_type": "execute_result"
    }
   ],
   "source": [
    "f.fileno()"
   ]
  },
  {
   "cell_type": "code",
   "execution_count": 90,
   "id": "3b5fe66a",
   "metadata": {},
   "outputs": [
    {
     "data": {
      "text/plain": [
       "6"
      ]
     },
     "execution_count": 90,
     "metadata": {},
     "output_type": "execute_result"
    }
   ],
   "source": [
    "f.fileno()"
   ]
  },
  {
   "cell_type": "code",
   "execution_count": 91,
   "id": "58b2192d",
   "metadata": {},
   "outputs": [],
   "source": [
    "f = open(\"test.txt\", \"r+\")"
   ]
  },
  {
   "cell_type": "code",
   "execution_count": 92,
   "id": "9fa96902",
   "metadata": {},
   "outputs": [
    {
     "data": {
      "text/plain": [
       "7"
      ]
     },
     "execution_count": 92,
     "metadata": {},
     "output_type": "execute_result"
    }
   ],
   "source": [
    "f.fileno()"
   ]
  },
  {
   "cell_type": "code",
   "execution_count": 93,
   "id": "93775720",
   "metadata": {},
   "outputs": [],
   "source": [
    "f = open(\"test1.txt\", \"r+\")"
   ]
  },
  {
   "cell_type": "code",
   "execution_count": 94,
   "id": "ee7c878f",
   "metadata": {},
   "outputs": [
    {
     "data": {
      "text/plain": [
       "9"
      ]
     },
     "execution_count": 94,
     "metadata": {},
     "output_type": "execute_result"
    }
   ],
   "source": [
    "f.fileno()"
   ]
  },
  {
   "cell_type": "code",
   "execution_count": 95,
   "id": "8925f4ed",
   "metadata": {},
   "outputs": [
    {
     "name": "stdout",
     "output_type": "stream",
     "text": [
      "Writing test5.txt\n"
     ]
    }
   ],
   "source": [
    "%%writefile test5.txt\n",
    "\"my name is sudh\""
   ]
  },
  {
   "cell_type": "code",
   "execution_count": 96,
   "id": "1722f438",
   "metadata": {},
   "outputs": [],
   "source": [
    "import os"
   ]
  },
  {
   "cell_type": "code",
   "execution_count": 97,
   "id": "d714eb47",
   "metadata": {},
   "outputs": [
    {
     "data": {
      "text/plain": [
       "'C:\\\\Users\\\\Utkarsh\\\\Fresh Start'"
      ]
     },
     "execution_count": 97,
     "metadata": {},
     "output_type": "execute_result"
    }
   ],
   "source": [
    "pwd()"
   ]
  },
  {
   "cell_type": "code",
   "execution_count": 98,
   "id": "1452f103",
   "metadata": {},
   "outputs": [
    {
     "data": {
      "text/plain": [
       "'C:\\\\Users\\\\Utkarsh\\\\Fresh Start'"
      ]
     },
     "execution_count": 98,
     "metadata": {},
     "output_type": "execute_result"
    }
   ],
   "source": [
    "os.getcwd()"
   ]
  },
  {
   "cell_type": "code",
   "execution_count": 99,
   "id": "042679b1",
   "metadata": {},
   "outputs": [
    {
     "data": {
      "text/plain": [
       "['.ipynb_checkpoints',\n",
       " 'For Loop.ipynb',\n",
       " 'Function part 2 - FILE Handling.ipynb',\n",
       " 'Function Part 2.ipynb',\n",
       " 'Function.ipynb',\n",
       " 'list manipulation.ipynb',\n",
       " 'Python basics - 1st class after installation and setup.ipynb',\n",
       " 'String and list manipulation.ipynb',\n",
       " 'test.txt',\n",
       " 'test1.txt',\n",
       " 'test2.txt',\n",
       " 'test5.txt',\n",
       " 'tuple, set, dictionary.ipynb',\n",
       " 'while loop.ipynb']"
      ]
     },
     "execution_count": 99,
     "metadata": {},
     "output_type": "execute_result"
    }
   ],
   "source": [
    "os.listdir()"
   ]
  },
  {
   "cell_type": "code",
   "execution_count": 103,
   "id": "62f61aac",
   "metadata": {},
   "outputs": [
    {
     "ename": "FileNotFoundError",
     "evalue": "[WinError 3] The system cannot find the path specified: 'C:\\\\Downloads'",
     "output_type": "error",
     "traceback": [
      "\u001b[1;31m---------------------------------------------------------------------------\u001b[0m",
      "\u001b[1;31mFileNotFoundError\u001b[0m                         Traceback (most recent call last)",
      "\u001b[1;32m~\\AppData\\Local\\Temp/ipykernel_13540/3089914553.py\u001b[0m in \u001b[0;36m<module>\u001b[1;34m\u001b[0m\n\u001b[1;32m----> 1\u001b[1;33m \u001b[0mos\u001b[0m\u001b[1;33m.\u001b[0m\u001b[0mlistdir\u001b[0m\u001b[1;33m(\u001b[0m\u001b[1;34m\"C:\\\\Downloads\"\u001b[0m\u001b[1;33m)\u001b[0m\u001b[1;33m\u001b[0m\u001b[1;33m\u001b[0m\u001b[0m\n\u001b[0m",
      "\u001b[1;31mFileNotFoundError\u001b[0m: [WinError 3] The system cannot find the path specified: 'C:\\\\Downloads'"
     ]
    }
   ],
   "source": [
    "os.listdir(\"Downloads\")"
   ]
  },
  {
   "cell_type": "code",
   "execution_count": 104,
   "id": "9a8d244b",
   "metadata": {},
   "outputs": [
    {
     "ename": "SyntaxError",
     "evalue": "(unicode error) 'unicodeescape' codec can't decode bytes in position 2-3: truncated \\UXXXXXXXX escape (Temp/ipykernel_13540/1005031065.py, line 1)",
     "output_type": "error",
     "traceback": [
      "\u001b[1;36m  File \u001b[1;32m\"C:\\Users\\Utkarsh\\AppData\\Local\\Temp/ipykernel_13540/1005031065.py\"\u001b[1;36m, line \u001b[1;32m1\u001b[0m\n\u001b[1;33m    os.listdir(\"C:\\Users\\Utkarsh\\Downloads\")\u001b[0m\n\u001b[1;37m                                           ^\u001b[0m\n\u001b[1;31mSyntaxError\u001b[0m\u001b[1;31m:\u001b[0m (unicode error) 'unicodeescape' codec can't decode bytes in position 2-3: truncated \\UXXXXXXXX escape\n"
     ]
    }
   ],
   "source": [
    "os.listdir(\"C:\\Users\\Utkarsh\\Downloads\")"
   ]
  },
  {
   "cell_type": "code",
   "execution_count": 105,
   "id": "5017f562",
   "metadata": {},
   "outputs": [
    {
     "data": {
      "text/plain": [
       "['03.11,+TST+Prep+Test+11,+The+Speaking+Section,+TEC.pdf',\n",
       " '042022.pdf.pdf',\n",
       " '101 ESSAY Disha Publication (www.Pavithran.Net).pdf',\n",
       " '15AWA.pdf',\n",
       " '15Mcr.pdf',\n",
       " '15Mds.pdf',\n",
       " '15Mps.pdf',\n",
       " '15Mrc.pdf',\n",
       " '15Msc.pdf',\n",
       " '15Qds.pdf',\n",
       " '15Qps.pdf',\n",
       " '15Vcr.pdf',\n",
       " '15Vrc.pdf',\n",
       " '15Vsc.pdf',\n",
       " '17Qds.pdf',\n",
       " '17Qps.pdf',\n",
       " '18AWA.pdf',\n",
       " '18Mcr.pdf',\n",
       " '18Mds.pdf',\n",
       " '18Mps.pdf',\n",
       " '18Mrc.pdf',\n",
       " '18Msc.pdf',\n",
       " '18Qds.pdf',\n",
       " '18Qps.pdf',\n",
       " '19AWA.pdf',\n",
       " '19Mcr.pdf',\n",
       " '19Mds.pdf',\n",
       " '19Mps.pdf',\n",
       " '19Mrc.pdf',\n",
       " '19Msc.pdf',\n",
       " '19Qds.pdf',\n",
       " '19Qps.pdf',\n",
       " '19Vcr.pdf',\n",
       " '19Vrc.pdf',\n",
       " '19Vsc.pdf',\n",
       " '2.0 ASHIS_SANJEEV_OMPRAKASH_SHEKHAR (1).pdf',\n",
       " '2.0 ASHIS_SANJEEV_OMPRAKASH_SHEKHAR.docx',\n",
       " '2.0 ASHIS_SANJEEV_OMPRAKASH_SHEKHAR.pdf',\n",
       " '20211013_190204_002.mp4',\n",
       " '20AWA.pdf',\n",
       " '20Mcr.pdf',\n",
       " '20Mds.pdf',\n",
       " '20Mps.pdf',\n",
       " '20Mrc.pdf',\n",
       " '20Msc.pdf',\n",
       " '20Qds.pdf',\n",
       " '20Qps.pdf',\n",
       " '20Vcr.pdf',\n",
       " '20Vrc.pdf',\n",
       " '20Vsc.pdf',\n",
       " '215330 (1).pdf',\n",
       " '215330.pdf',\n",
       " '218203841650.pdf',\n",
       " '26 Years UPSC Prelims_Disha.pdf',\n",
       " '2BCONV.pdf',\n",
       " '3013702494.html',\n",
       " '317325225_ESR-1.pdf',\n",
       " '3206102023.html',\n",
       " '50 COOL STORIES 3000 HOT WORDS @Aj_ebooks.pdf',\n",
       " '881034282346046_encrypt_signedFinal.pdf',\n",
       " '881034282346046_PreviewApplicationForm.pdf',\n",
       " 'Anaconda3-2021.11-Windows-x86_64.exe',\n",
       " 'apache-cassandra-3.11.11-bin.tar.gz',\n",
       " 'app.log',\n",
       " 'arg.docx',\n",
       " 'Assignment1.docx',\n",
       " 'Assignment10.docx',\n",
       " 'Assignment11.docx',\n",
       " 'Assignment12.docx',\n",
       " 'Assignment13.docx',\n",
       " 'Assignment14.docx',\n",
       " 'Assignment15.docx',\n",
       " 'Assignment16.docx',\n",
       " 'Assignment17.docx',\n",
       " 'Assignment18.docx',\n",
       " 'Assignment19.docx',\n",
       " 'Assignment2.docx',\n",
       " 'Assignment20.docx',\n",
       " 'Assignment21.docx',\n",
       " 'Assignment22.docx',\n",
       " 'Assignment23.docx',\n",
       " 'Assignment24.docx',\n",
       " 'Assignment25.docx',\n",
       " 'Assignment3.docx',\n",
       " 'Assignment4.docx',\n",
       " 'Assignment5.docx',\n",
       " 'Assignment6.docx',\n",
       " 'Assignment7.docx',\n",
       " 'Assignment8.docx',\n",
       " 'Assignment9.docx',\n",
       " 'Assignment_1 (1).docx',\n",
       " 'Assignment_1.docx',\n",
       " 'Assignment_10 (1).docx',\n",
       " 'Assignment_10.docx',\n",
       " 'Assignment_11 (1).docx',\n",
       " 'Assignment_11.docx',\n",
       " 'Assignment_12 (1).docx',\n",
       " 'Assignment_12.docx',\n",
       " 'Assignment_13 (1).docx',\n",
       " 'Assignment_13.docx',\n",
       " 'Assignment_14 (1).docx',\n",
       " 'Assignment_14.docx',\n",
       " 'Assignment_15 (1).docx',\n",
       " 'Assignment_15.docx',\n",
       " 'Assignment_16 (1).docx',\n",
       " 'Assignment_16.docx',\n",
       " 'Assignment_17 (1).docx',\n",
       " 'Assignment_17.docx',\n",
       " 'Assignment_18 (1).docx',\n",
       " 'Assignment_18.docx',\n",
       " 'Assignment_19 (1).docx',\n",
       " 'Assignment_19.docx',\n",
       " 'Assignment_2 (1).docx',\n",
       " 'Assignment_2.docx',\n",
       " 'Assignment_20 (1).docx',\n",
       " 'Assignment_20.docx',\n",
       " 'Assignment_21 (1).docx',\n",
       " 'Assignment_21.docx',\n",
       " 'Assignment_22 (1).docx',\n",
       " 'Assignment_22.docx',\n",
       " 'Assignment_23 (1).docx',\n",
       " 'Assignment_23.docx',\n",
       " 'Assignment_24 (1).docx',\n",
       " 'Assignment_24.docx',\n",
       " 'Assignment_25 (1).docx',\n",
       " 'Assignment_25.docx',\n",
       " 'Assignment_3 (1).docx',\n",
       " 'Assignment_3.docx',\n",
       " 'Assignment_4 (1).docx',\n",
       " 'Assignment_4.docx',\n",
       " 'Assignment_5 (1).docx',\n",
       " 'Assignment_5.docx',\n",
       " 'Assignment_6 (1).docx',\n",
       " 'Assignment_6.docx',\n",
       " 'Assignment_7 (1).docx',\n",
       " 'Assignment_7.docx',\n",
       " 'Assignment_8 (1).docx',\n",
       " 'Assignment_8.docx',\n",
       " 'Assignment_9 (1).docx',\n",
       " 'Assignment_9.docx',\n",
       " 'ATM_WITHDRAW.py',\n",
       " 'Avrodh.S02.720p.SONY.WEB-DL.AAC2.0.ESub.H.264-themoviesboss',\n",
       " 'Avrodh.S02.720p.SONY.WEB-DL.AAC2.0.ESub.H.264-Vegamovies.NL',\n",
       " 'Avrodh.S02.720p.SONY.WEB-DL.AAC2.0.ESub.H.264-Vegamovies.NL.zip',\n",
       " 'AVS Video Editor 9.7.1.396 incl patch [CrackingPatching]',\n",
       " 'AWA.pdf',\n",
       " 'B433E62ApplicationForm.pdf',\n",
       " 'B433E62PhotoId (1).pdf',\n",
       " 'B433E62PhotoId.pdf',\n",
       " 'BH_FLN_07_प्राथमिक कक्षाओं में बहुभाषी शिक्षण.pdf',\n",
       " 'BH_FLN_08_सीखने का आकलन.pdf',\n",
       " 'CandidateHallTicket.pdf',\n",
       " 'car.names',\n",
       " 'CE20S73028733scoreCard-page-001.jpg',\n",
       " 'CGPSC Assistant Engineer Jobs Notification.PDF',\n",
       " 'Chap-7-6.pdf',\n",
       " 'Chegg.jpg',\n",
       " 'Code M S01 EP.01-08 2020 Hindi 720p WEBRip x264 AAC - MoviePirate - Telly',\n",
       " 'Code M S02 (2022) Voot Hindi 720p WEBRip x264 AAC ESub',\n",
       " 'ConfirmationPage-210410336027 (1).pdf',\n",
       " 'ConfirmationPage-210410336027.pdf',\n",
       " 'covid 19 compensation.tiff',\n",
       " 'Critical Reasoning.pdf',\n",
       " 'D267S13ApplicationForm.pdf',\n",
       " 'D267S13EligibilityCert.pdf',\n",
       " 'Daniel Goleman - Emotional Intelligence_ Why it Can Matter More Than IQ (2009, Bloomsbury) - libgen.lc.pdf',\n",
       " 'Data Sufficiency.pdf',\n",
       " 'Decision tree practical with random forest .ipynb',\n",
       " 'desktop.ini',\n",
       " 'DiscordSetup.exe',\n",
       " 'Drishyam 2 (2021) South Hindi Dubbed.mp4',\n",
       " 'dry weight densities of different soils.jpg',\n",
       " 'EAadhaar_1429801120343720141014173614_22122021124935.pdf',\n",
       " 'EAadhaar_xxxxxxxx0533_12022021170002_368359.pdf',\n",
       " 'EAadhaar_xxxxxxxx8016_27032021204036_399930.pdf',\n",
       " 'Employee (1).pdf',\n",
       " 'Employee.pdf',\n",
       " 'Engineering Internship.pdf',\n",
       " 'English Vedic Report.pdf',\n",
       " 'EP.15.v2.1653753191.720p.mp4',\n",
       " 'EP.16.v1.720p.mp4',\n",
       " 'EWSCO_2020_102195.pdf',\n",
       " 'Firefox Installer.exe',\n",
       " 'floating pv Presentation2 (1).pptx',\n",
       " 'floating pv Presentation2.pptx',\n",
       " 'free-gmat-flashcards.pdf',\n",
       " 'Git-2.35.1.2-64-bit.exe',\n",
       " 'GMAT Quantitative Sample Paper 1.pdf',\n",
       " 'GMATClub_Tests_Test_31_quantitative_questions_attempted_2021_07_04_downloaded_2021_07_04.pdf',\n",
       " 'GMATPrep 2.doc',\n",
       " 'Google Passwords.csv',\n",
       " 'Heaven.Is.for.Real.2014.720p.BRRip.Hindi.DualAudio.MoviesFlixPro.In.mkv',\n",
       " 'Heavenly.Forest.2006.PROPER.DVDRip.XviD-WRD',\n",
       " 'heroku-x64.exe',\n",
       " 'Hindi Vedic Report.pdf',\n",
       " 'IMG_20200905_091915.jpg',\n",
       " 'IMG_20201205_190835.jpg',\n",
       " 'IMG_20220119_185207_815.jpg',\n",
       " 'jdk-8u202-windows-x64.exe',\n",
       " 'JEE, NEET & OTHER EXAMS.png',\n",
       " 'Judaa Hoke Bhi (2022) Hindi 720p HQ PreDVD Rip x264 AAC - CineVood.mkv',\n",
       " 'Khuda Haafiz Chapter 2 Agni Pariksha (2022) 1080p Hindi HDTS NEW x264 AAC - QRips.mkv',\n",
       " 'Kiss.Sixth.Sense.S01.COMPLETE.KOREAN.720p.DSNP.WEBRip.x264-GalaxyTV[TGx]',\n",
       " 'Mindset+Questionnaire,+TEC (1).pdf',\n",
       " 'Mindset+Questionnaire,+TEC.pdf',\n",
       " 'mongodb-windows-x86_64-5.0.6-signed.msi',\n",
       " 'msgfile (1).pdf',\n",
       " 'msgfile.pdf',\n",
       " 'my strange friend',\n",
       " 'mysql-installer-community-8.0.28.0.msi',\n",
       " 'mysql-workbench-community-8.0.28-winx64.msi',\n",
       " 'mysqlsampledatabase',\n",
       " 'mysqlsampledatabase.zip',\n",
       " 'New Doc 2019-09-16 13.25.54_1.jpg',\n",
       " 'New Doc 2019-09-16 13.25.54_2.jpg',\n",
       " 'npp.8.2.Installer.x64.exe',\n",
       " 'null.pdf',\n",
       " 'Number System - Solution.pdf',\n",
       " 'Number System Practice Questions.pdf',\n",
       " 'OBS-Studio-27.1.3-Full-Installer-x64.exe',\n",
       " 'ORG.pdf',\n",
       " 'outbyte-pc-repair.exe',\n",
       " 'pandoc-2.17.1.1-windows-x86_64.msi',\n",
       " 'PG Admission Notice 03122020.pdf',\n",
       " 'Postman-win64-9.12.2-Setup.exe',\n",
       " 'Presentation2.pptx',\n",
       " 'Print Mains.pdf',\n",
       " 'Print Optional English.pdf',\n",
       " 'Print Optional Philosophy.pdf',\n",
       " 'Print Optional PSIR.pdf',\n",
       " 'Print Optional Sociology.pdf',\n",
       " 'Print Prelims.pdf',\n",
       " 'Problem Solving.pdf',\n",
       " 'Programming_Assingment1.docx',\n",
       " 'Programming_Assingment10.docx',\n",
       " 'Programming_Assingment11.docx',\n",
       " 'Programming_Assingment12.docx',\n",
       " 'Programming_Assingment13.docx',\n",
       " 'Programming_Assingment14.docx',\n",
       " 'Programming_Assingment15.docx',\n",
       " 'Programming_Assingment16.docx',\n",
       " 'Programming_Assingment17.docx',\n",
       " 'Programming_Assingment18.docx',\n",
       " 'Programming_Assingment19.docx',\n",
       " 'Programming_Assingment2.docx',\n",
       " 'Programming_Assingment20.docx',\n",
       " 'Programming_Assingment21.docx',\n",
       " 'Programming_Assingment22.docx',\n",
       " 'Programming_Assingment23.docx',\n",
       " 'Programming_Assingment24.docx',\n",
       " 'Programming_Assingment25.docx',\n",
       " 'Programming_Assingment3.docx',\n",
       " 'Programming_Assingment4.docx',\n",
       " 'Programming_Assingment5.docx',\n",
       " 'Programming_Assingment6.docx',\n",
       " 'Programming_Assingment7.docx',\n",
       " 'Programming_Assingment8.docx',\n",
       " 'Programming_Assingment9.docx',\n",
       " 'PSIR_optional_Topic_wise.pdf',\n",
       " 'pycharm-community-2021.3.1.exe',\n",
       " 'Python Programming Advance Assignment - 22.ipynb',\n",
       " 'radeon-software-adrenalin-2020-20.1.1-minimalsetup-200109_64bit.exe',\n",
       " 'Reading Comprehension.pdf',\n",
       " 'Redis-x64-3.2.100',\n",
       " 'Redis-x64-3.2.100.zip',\n",
       " 'rescue_and_smart_assistant_v5.7.0.16_prod_setup.exe',\n",
       " 'Result of BE 8th Semester (Regular) Examination 2018-2019.pdf',\n",
       " 'RSPCB Application.pdf',\n",
       " 'Sample-Questions-MGNF-Exam.pdf',\n",
       " 'Screenshot_20210528-200131.png',\n",
       " 'SecureExamBrowserInstaller_1.4.2.msi',\n",
       " 'Sentence Correction.pdf',\n",
       " 'slope and the maximum deflection 1.jpg',\n",
       " 'slope and the maximum deflection.jpg',\n",
       " 'SnapDownloader-Setup-1.13.1.exe',\n",
       " 'Speaking+and+Writing+Grading+Rubric+TEC (1).pdf',\n",
       " 'Speaking+and+Writing+Grading+Rubric+TEC.pdf',\n",
       " 'Sublime Text Build 3211 x64 Setup.exe',\n",
       " 'Swara Bhaskar Sanjay Mishra Pankaj Tripathi ki Jabardast movie_01_47_34-01_48_04 - oDownloader.mp4',\n",
       " 'TeamsSetupx64_s_8DA2A64AB909E52-7-0_c_w_.exe',\n",
       " 'Telegram Desktop',\n",
       " 'thrift-0.15.0.exe',\n",
       " 'Ticket Numbers.jpg',\n",
       " 'TIPS & TECHNIQUES IN ENGLISH DISHA @Aj_ebooks.pdf',\n",
       " 'TOEFL+Quick+Guide,+TEC.pdf',\n",
       " 'tsetup.2.5.1.exe',\n",
       " 'two-force members.jpg',\n",
       " 'UKC 10TH ADMIT CARD.jpg',\n",
       " 'UKC 12th marksheet.pdf',\n",
       " 'ukc_Resume.pdf',\n",
       " 'Untitled-1.jpg',\n",
       " 'UPSC Mains 2003-2019 topic wise GS Solved.pdf',\n",
       " 'UPSC Mains topic wise GS unolved.pdf',\n",
       " 'uTorrent.exe',\n",
       " 'VC_redist.x64.exe',\n",
       " 'video-keeper.exe',\n",
       " 'WhatsApp Image 2020-06-08 at 3.45.38 PM.jpeg',\n",
       " 'winrar-x64-521.exe',\n",
       " 'Word Power Made Easy Norman Lewis (1).PDF',\n",
       " 'Word Power Made Easy Norman Lewis.PDF',\n",
       " 'Zoom_cm_fo42anktZ9vvrZo4_m9Ls8nVrW3Sc++uFtecDAqku88PXkrIiFiK+Q@8LoHOIvfKepL4hkH_k4dfb1d7287145ee4_.exe']"
      ]
     },
     "execution_count": 105,
     "metadata": {},
     "output_type": "execute_result"
    }
   ],
   "source": [
    "os.listdir(\"C:\\\\Users\\\\Utkarsh\\\\Downloads\")"
   ]
  },
  {
   "cell_type": "code",
   "execution_count": 106,
   "id": "fafaacdf",
   "metadata": {},
   "outputs": [
    {
     "data": {
      "text/plain": [
       "['03.11,+TST+Prep+Test+11,+The+Speaking+Section,+TEC.pdf',\n",
       " '042022.pdf.pdf',\n",
       " '101 ESSAY Disha Publication (www.Pavithran.Net).pdf',\n",
       " '15AWA.pdf',\n",
       " '15Mcr.pdf',\n",
       " '15Mds.pdf',\n",
       " '15Mps.pdf',\n",
       " '15Mrc.pdf',\n",
       " '15Msc.pdf',\n",
       " '15Qds.pdf',\n",
       " '15Qps.pdf',\n",
       " '15Vcr.pdf',\n",
       " '15Vrc.pdf',\n",
       " '15Vsc.pdf',\n",
       " '17Qds.pdf',\n",
       " '17Qps.pdf',\n",
       " '18AWA.pdf',\n",
       " '18Mcr.pdf',\n",
       " '18Mds.pdf',\n",
       " '18Mps.pdf',\n",
       " '18Mrc.pdf',\n",
       " '18Msc.pdf',\n",
       " '18Qds.pdf',\n",
       " '18Qps.pdf',\n",
       " '19AWA.pdf',\n",
       " '19Mcr.pdf',\n",
       " '19Mds.pdf',\n",
       " '19Mps.pdf',\n",
       " '19Mrc.pdf',\n",
       " '19Msc.pdf',\n",
       " '19Qds.pdf',\n",
       " '19Qps.pdf',\n",
       " '19Vcr.pdf',\n",
       " '19Vrc.pdf',\n",
       " '19Vsc.pdf',\n",
       " '2.0 ASHIS_SANJEEV_OMPRAKASH_SHEKHAR (1).pdf',\n",
       " '2.0 ASHIS_SANJEEV_OMPRAKASH_SHEKHAR.docx',\n",
       " '2.0 ASHIS_SANJEEV_OMPRAKASH_SHEKHAR.pdf',\n",
       " '20211013_190204_002.mp4',\n",
       " '20AWA.pdf',\n",
       " '20Mcr.pdf',\n",
       " '20Mds.pdf',\n",
       " '20Mps.pdf',\n",
       " '20Mrc.pdf',\n",
       " '20Msc.pdf',\n",
       " '20Qds.pdf',\n",
       " '20Qps.pdf',\n",
       " '20Vcr.pdf',\n",
       " '20Vrc.pdf',\n",
       " '20Vsc.pdf',\n",
       " '215330 (1).pdf',\n",
       " '215330.pdf',\n",
       " '218203841650.pdf',\n",
       " '26 Years UPSC Prelims_Disha.pdf',\n",
       " '2BCONV.pdf',\n",
       " '3013702494.html',\n",
       " '317325225_ESR-1.pdf',\n",
       " '3206102023.html',\n",
       " '50 COOL STORIES 3000 HOT WORDS @Aj_ebooks.pdf',\n",
       " '881034282346046_encrypt_signedFinal.pdf',\n",
       " '881034282346046_PreviewApplicationForm.pdf',\n",
       " 'Anaconda3-2021.11-Windows-x86_64.exe',\n",
       " 'apache-cassandra-3.11.11-bin.tar.gz',\n",
       " 'app.log',\n",
       " 'arg.docx',\n",
       " 'Assignment1.docx',\n",
       " 'Assignment10.docx',\n",
       " 'Assignment11.docx',\n",
       " 'Assignment12.docx',\n",
       " 'Assignment13.docx',\n",
       " 'Assignment14.docx',\n",
       " 'Assignment15.docx',\n",
       " 'Assignment16.docx',\n",
       " 'Assignment17.docx',\n",
       " 'Assignment18.docx',\n",
       " 'Assignment19.docx',\n",
       " 'Assignment2.docx',\n",
       " 'Assignment20.docx',\n",
       " 'Assignment21.docx',\n",
       " 'Assignment22.docx',\n",
       " 'Assignment23.docx',\n",
       " 'Assignment24.docx',\n",
       " 'Assignment25.docx',\n",
       " 'Assignment3.docx',\n",
       " 'Assignment4.docx',\n",
       " 'Assignment5.docx',\n",
       " 'Assignment6.docx',\n",
       " 'Assignment7.docx',\n",
       " 'Assignment8.docx',\n",
       " 'Assignment9.docx',\n",
       " 'Assignment_1 (1).docx',\n",
       " 'Assignment_1.docx',\n",
       " 'Assignment_10 (1).docx',\n",
       " 'Assignment_10.docx',\n",
       " 'Assignment_11 (1).docx',\n",
       " 'Assignment_11.docx',\n",
       " 'Assignment_12 (1).docx',\n",
       " 'Assignment_12.docx',\n",
       " 'Assignment_13 (1).docx',\n",
       " 'Assignment_13.docx',\n",
       " 'Assignment_14 (1).docx',\n",
       " 'Assignment_14.docx',\n",
       " 'Assignment_15 (1).docx',\n",
       " 'Assignment_15.docx',\n",
       " 'Assignment_16 (1).docx',\n",
       " 'Assignment_16.docx',\n",
       " 'Assignment_17 (1).docx',\n",
       " 'Assignment_17.docx',\n",
       " 'Assignment_18 (1).docx',\n",
       " 'Assignment_18.docx',\n",
       " 'Assignment_19 (1).docx',\n",
       " 'Assignment_19.docx',\n",
       " 'Assignment_2 (1).docx',\n",
       " 'Assignment_2.docx',\n",
       " 'Assignment_20 (1).docx',\n",
       " 'Assignment_20.docx',\n",
       " 'Assignment_21 (1).docx',\n",
       " 'Assignment_21.docx',\n",
       " 'Assignment_22 (1).docx',\n",
       " 'Assignment_22.docx',\n",
       " 'Assignment_23 (1).docx',\n",
       " 'Assignment_23.docx',\n",
       " 'Assignment_24 (1).docx',\n",
       " 'Assignment_24.docx',\n",
       " 'Assignment_25 (1).docx',\n",
       " 'Assignment_25.docx',\n",
       " 'Assignment_3 (1).docx',\n",
       " 'Assignment_3.docx',\n",
       " 'Assignment_4 (1).docx',\n",
       " 'Assignment_4.docx',\n",
       " 'Assignment_5 (1).docx',\n",
       " 'Assignment_5.docx',\n",
       " 'Assignment_6 (1).docx',\n",
       " 'Assignment_6.docx',\n",
       " 'Assignment_7 (1).docx',\n",
       " 'Assignment_7.docx',\n",
       " 'Assignment_8 (1).docx',\n",
       " 'Assignment_8.docx',\n",
       " 'Assignment_9 (1).docx',\n",
       " 'Assignment_9.docx',\n",
       " 'ATM_WITHDRAW.py',\n",
       " 'Avrodh.S02.720p.SONY.WEB-DL.AAC2.0.ESub.H.264-themoviesboss',\n",
       " 'Avrodh.S02.720p.SONY.WEB-DL.AAC2.0.ESub.H.264-Vegamovies.NL',\n",
       " 'Avrodh.S02.720p.SONY.WEB-DL.AAC2.0.ESub.H.264-Vegamovies.NL.zip',\n",
       " 'AVS Video Editor 9.7.1.396 incl patch [CrackingPatching]',\n",
       " 'AWA.pdf',\n",
       " 'B433E62ApplicationForm.pdf',\n",
       " 'B433E62PhotoId (1).pdf',\n",
       " 'B433E62PhotoId.pdf',\n",
       " 'BH_FLN_07_प्राथमिक कक्षाओं में बहुभाषी शिक्षण.pdf',\n",
       " 'BH_FLN_08_सीखने का आकलन.pdf',\n",
       " 'CandidateHallTicket.pdf',\n",
       " 'car.names',\n",
       " 'CE20S73028733scoreCard-page-001.jpg',\n",
       " 'CGPSC Assistant Engineer Jobs Notification.PDF',\n",
       " 'Chap-7-6.pdf',\n",
       " 'Chegg.jpg',\n",
       " 'Code M S01 EP.01-08 2020 Hindi 720p WEBRip x264 AAC - MoviePirate - Telly',\n",
       " 'Code M S02 (2022) Voot Hindi 720p WEBRip x264 AAC ESub',\n",
       " 'ConfirmationPage-210410336027 (1).pdf',\n",
       " 'ConfirmationPage-210410336027.pdf',\n",
       " 'covid 19 compensation.tiff',\n",
       " 'Critical Reasoning.pdf',\n",
       " 'D267S13ApplicationForm.pdf',\n",
       " 'D267S13EligibilityCert.pdf',\n",
       " 'Daniel Goleman - Emotional Intelligence_ Why it Can Matter More Than IQ (2009, Bloomsbury) - libgen.lc.pdf',\n",
       " 'Data Sufficiency.pdf',\n",
       " 'Decision tree practical with random forest .ipynb',\n",
       " 'desktop.ini',\n",
       " 'DiscordSetup.exe',\n",
       " 'Drishyam 2 (2021) South Hindi Dubbed.mp4',\n",
       " 'dry weight densities of different soils.jpg',\n",
       " 'EAadhaar_1429801120343720141014173614_22122021124935.pdf',\n",
       " 'EAadhaar_xxxxxxxx0533_12022021170002_368359.pdf',\n",
       " 'EAadhaar_xxxxxxxx8016_27032021204036_399930.pdf',\n",
       " 'Employee (1).pdf',\n",
       " 'Employee.pdf',\n",
       " 'Engineering Internship.pdf',\n",
       " 'English Vedic Report.pdf',\n",
       " 'EP.15.v2.1653753191.720p.mp4',\n",
       " 'EP.16.v1.720p.mp4',\n",
       " 'EWSCO_2020_102195.pdf',\n",
       " 'Firefox Installer.exe',\n",
       " 'floating pv Presentation2 (1).pptx',\n",
       " 'floating pv Presentation2.pptx',\n",
       " 'free-gmat-flashcards.pdf',\n",
       " 'Git-2.35.1.2-64-bit.exe',\n",
       " 'GMAT Quantitative Sample Paper 1.pdf',\n",
       " 'GMATClub_Tests_Test_31_quantitative_questions_attempted_2021_07_04_downloaded_2021_07_04.pdf',\n",
       " 'GMATPrep 2.doc',\n",
       " 'Google Passwords.csv',\n",
       " 'Heaven.Is.for.Real.2014.720p.BRRip.Hindi.DualAudio.MoviesFlixPro.In.mkv',\n",
       " 'Heavenly.Forest.2006.PROPER.DVDRip.XviD-WRD',\n",
       " 'heroku-x64.exe',\n",
       " 'Hindi Vedic Report.pdf',\n",
       " 'IMG_20200905_091915.jpg',\n",
       " 'IMG_20201205_190835.jpg',\n",
       " 'IMG_20220119_185207_815.jpg',\n",
       " 'jdk-8u202-windows-x64.exe',\n",
       " 'JEE, NEET & OTHER EXAMS.png',\n",
       " 'Judaa Hoke Bhi (2022) Hindi 720p HQ PreDVD Rip x264 AAC - CineVood.mkv',\n",
       " 'Khuda Haafiz Chapter 2 Agni Pariksha (2022) 1080p Hindi HDTS NEW x264 AAC - QRips.mkv',\n",
       " 'Kiss.Sixth.Sense.S01.COMPLETE.KOREAN.720p.DSNP.WEBRip.x264-GalaxyTV[TGx]',\n",
       " 'Mindset+Questionnaire,+TEC (1).pdf',\n",
       " 'Mindset+Questionnaire,+TEC.pdf',\n",
       " 'mongodb-windows-x86_64-5.0.6-signed.msi',\n",
       " 'msgfile (1).pdf',\n",
       " 'msgfile.pdf',\n",
       " 'my strange friend',\n",
       " 'mysql-installer-community-8.0.28.0.msi',\n",
       " 'mysql-workbench-community-8.0.28-winx64.msi',\n",
       " 'mysqlsampledatabase',\n",
       " 'mysqlsampledatabase.zip',\n",
       " 'New Doc 2019-09-16 13.25.54_1.jpg',\n",
       " 'New Doc 2019-09-16 13.25.54_2.jpg',\n",
       " 'npp.8.2.Installer.x64.exe',\n",
       " 'null.pdf',\n",
       " 'Number System - Solution.pdf',\n",
       " 'Number System Practice Questions.pdf',\n",
       " 'OBS-Studio-27.1.3-Full-Installer-x64.exe',\n",
       " 'ORG.pdf',\n",
       " 'outbyte-pc-repair.exe',\n",
       " 'pandoc-2.17.1.1-windows-x86_64.msi',\n",
       " 'PG Admission Notice 03122020.pdf',\n",
       " 'Postman-win64-9.12.2-Setup.exe',\n",
       " 'Presentation2.pptx',\n",
       " 'Print Mains.pdf',\n",
       " 'Print Optional English.pdf',\n",
       " 'Print Optional Philosophy.pdf',\n",
       " 'Print Optional PSIR.pdf',\n",
       " 'Print Optional Sociology.pdf',\n",
       " 'Print Prelims.pdf',\n",
       " 'Problem Solving.pdf',\n",
       " 'Programming_Assingment1.docx',\n",
       " 'Programming_Assingment10.docx',\n",
       " 'Programming_Assingment11.docx',\n",
       " 'Programming_Assingment12.docx',\n",
       " 'Programming_Assingment13.docx',\n",
       " 'Programming_Assingment14.docx',\n",
       " 'Programming_Assingment15.docx',\n",
       " 'Programming_Assingment16.docx',\n",
       " 'Programming_Assingment17.docx',\n",
       " 'Programming_Assingment18.docx',\n",
       " 'Programming_Assingment19.docx',\n",
       " 'Programming_Assingment2.docx',\n",
       " 'Programming_Assingment20.docx',\n",
       " 'Programming_Assingment21.docx',\n",
       " 'Programming_Assingment22.docx',\n",
       " 'Programming_Assingment23.docx',\n",
       " 'Programming_Assingment24.docx',\n",
       " 'Programming_Assingment25.docx',\n",
       " 'Programming_Assingment3.docx',\n",
       " 'Programming_Assingment4.docx',\n",
       " 'Programming_Assingment5.docx',\n",
       " 'Programming_Assingment6.docx',\n",
       " 'Programming_Assingment7.docx',\n",
       " 'Programming_Assingment8.docx',\n",
       " 'Programming_Assingment9.docx',\n",
       " 'PSIR_optional_Topic_wise.pdf',\n",
       " 'pycharm-community-2021.3.1.exe',\n",
       " 'Python Programming Advance Assignment - 22.ipynb',\n",
       " 'radeon-software-adrenalin-2020-20.1.1-minimalsetup-200109_64bit.exe',\n",
       " 'Reading Comprehension.pdf',\n",
       " 'Redis-x64-3.2.100',\n",
       " 'Redis-x64-3.2.100.zip',\n",
       " 'rescue_and_smart_assistant_v5.7.0.16_prod_setup.exe',\n",
       " 'Result of BE 8th Semester (Regular) Examination 2018-2019.pdf',\n",
       " 'RSPCB Application.pdf',\n",
       " 'Sample-Questions-MGNF-Exam.pdf',\n",
       " 'Screenshot_20210528-200131.png',\n",
       " 'SecureExamBrowserInstaller_1.4.2.msi',\n",
       " 'Sentence Correction.pdf',\n",
       " 'slope and the maximum deflection 1.jpg',\n",
       " 'slope and the maximum deflection.jpg',\n",
       " 'SnapDownloader-Setup-1.13.1.exe',\n",
       " 'Speaking+and+Writing+Grading+Rubric+TEC (1).pdf',\n",
       " 'Speaking+and+Writing+Grading+Rubric+TEC.pdf',\n",
       " 'Sublime Text Build 3211 x64 Setup.exe',\n",
       " 'Swara Bhaskar Sanjay Mishra Pankaj Tripathi ki Jabardast movie_01_47_34-01_48_04 - oDownloader.mp4',\n",
       " 'TeamsSetupx64_s_8DA2A64AB909E52-7-0_c_w_.exe',\n",
       " 'Telegram Desktop',\n",
       " 'thrift-0.15.0.exe',\n",
       " 'Ticket Numbers.jpg',\n",
       " 'TIPS & TECHNIQUES IN ENGLISH DISHA @Aj_ebooks.pdf',\n",
       " 'TOEFL+Quick+Guide,+TEC.pdf',\n",
       " 'tsetup.2.5.1.exe',\n",
       " 'two-force members.jpg',\n",
       " 'UKC 10TH ADMIT CARD.jpg',\n",
       " 'UKC 12th marksheet.pdf',\n",
       " 'ukc_Resume.pdf',\n",
       " 'Untitled-1.jpg',\n",
       " 'UPSC Mains 2003-2019 topic wise GS Solved.pdf',\n",
       " 'UPSC Mains topic wise GS unolved.pdf',\n",
       " 'uTorrent.exe',\n",
       " 'VC_redist.x64.exe',\n",
       " 'video-keeper.exe',\n",
       " 'WhatsApp Image 2020-06-08 at 3.45.38 PM.jpeg',\n",
       " 'winrar-x64-521.exe',\n",
       " 'Word Power Made Easy Norman Lewis (1).PDF',\n",
       " 'Word Power Made Easy Norman Lewis.PDF',\n",
       " 'Zoom_cm_fo42anktZ9vvrZo4_m9Ls8nVrW3Sc++uFtecDAqku88PXkrIiFiK+Q@8LoHOIvfKepL4hkH_k4dfb1d7287145ee4_.exe']"
      ]
     },
     "execution_count": 106,
     "metadata": {},
     "output_type": "execute_result"
    }
   ],
   "source": [
    "os.listdir(\"C:/Users/Utkarsh/Downloads\")"
   ]
  },
  {
   "cell_type": "code",
   "execution_count": 107,
   "id": "dc7f8c25",
   "metadata": {},
   "outputs": [
    {
     "data": {
      "text/plain": [
       "'C:\\\\Users\\\\Utkarsh\\\\Fresh Start'"
      ]
     },
     "execution_count": 107,
     "metadata": {},
     "output_type": "execute_result"
    }
   ],
   "source": [
    "pwd()"
   ]
  },
  {
   "cell_type": "code",
   "execution_count": 108,
   "id": "53295f8a",
   "metadata": {},
   "outputs": [
    {
     "data": {
      "text/plain": [
       "'C:\\\\Users\\\\Utkarsh\\\\Fresh Start'"
      ]
     },
     "execution_count": 108,
     "metadata": {},
     "output_type": "execute_result"
    }
   ],
   "source": [
    "os.getcwd()"
   ]
  },
  {
   "cell_type": "code",
   "execution_count": 109,
   "id": "d688c428",
   "metadata": {},
   "outputs": [],
   "source": [
    "os.chdir(\"C:\\\\Users\\\\Utkarsh\")"
   ]
  },
  {
   "cell_type": "code",
   "execution_count": 110,
   "id": "2357fdb0",
   "metadata": {},
   "outputs": [
    {
     "data": {
      "text/plain": [
       "'C:\\\\Users\\\\Utkarsh'"
      ]
     },
     "execution_count": 110,
     "metadata": {},
     "output_type": "execute_result"
    }
   ],
   "source": [
    "pwd()"
   ]
  },
  {
   "cell_type": "code",
   "execution_count": 111,
   "id": "ffa44d31",
   "metadata": {},
   "outputs": [],
   "source": [
    "os.chdir(\"C:\\\\Users\\\\Utkarsh\")"
   ]
  },
  {
   "cell_type": "code",
   "execution_count": 112,
   "id": "93d3b9a3",
   "metadata": {},
   "outputs": [
    {
     "data": {
      "text/plain": [
       "'C:\\\\Users\\\\Utkarsh'"
      ]
     },
     "execution_count": 112,
     "metadata": {},
     "output_type": "execute_result"
    }
   ],
   "source": [
    "pwd()"
   ]
  },
  {
   "cell_type": "code",
   "execution_count": 113,
   "id": "c787ea7d",
   "metadata": {},
   "outputs": [],
   "source": [
    "os.mkdir(\"sudh\")"
   ]
  },
  {
   "cell_type": "code",
   "execution_count": 114,
   "id": "8c87aed3",
   "metadata": {},
   "outputs": [
    {
     "data": {
      "text/plain": [
       "'C:\\\\Users\\\\Utkarsh'"
      ]
     },
     "execution_count": 114,
     "metadata": {},
     "output_type": "execute_result"
    }
   ],
   "source": [
    "pwd()"
   ]
  },
  {
   "cell_type": "code",
   "execution_count": 115,
   "id": "689f0e89",
   "metadata": {},
   "outputs": [
    {
     "ename": "FileExistsError",
     "evalue": "[WinError 183] Cannot create a file when that file already exists: 'sudh'",
     "output_type": "error",
     "traceback": [
      "\u001b[1;31m---------------------------------------------------------------------------\u001b[0m",
      "\u001b[1;31mFileExistsError\u001b[0m                           Traceback (most recent call last)",
      "\u001b[1;32m~\\AppData\\Local\\Temp/ipykernel_13540/3189008667.py\u001b[0m in \u001b[0;36m<module>\u001b[1;34m\u001b[0m\n\u001b[1;32m----> 1\u001b[1;33m \u001b[0mos\u001b[0m\u001b[1;33m.\u001b[0m\u001b[0mmkdir\u001b[0m\u001b[1;33m(\u001b[0m\u001b[1;34m\"sudh\"\u001b[0m\u001b[1;33m)\u001b[0m\u001b[1;33m\u001b[0m\u001b[1;33m\u001b[0m\u001b[0m\n\u001b[0m",
      "\u001b[1;31mFileExistsError\u001b[0m: [WinError 183] Cannot create a file when that file already exists: 'sudh'"
     ]
    }
   ],
   "source": [
    "os.mkdir(\"sudh\")"
   ]
  },
  {
   "cell_type": "code",
   "execution_count": 116,
   "id": "48c8742b",
   "metadata": {},
   "outputs": [
    {
     "data": {
      "text/plain": [
       "['.android',\n",
       " '.astropy',\n",
       " '.bash_history',\n",
       " '.cache',\n",
       " '.cassandra',\n",
       " '.conda',\n",
       " '.condarc',\n",
       " '.continuum',\n",
       " '.cufflinks',\n",
       " '.dbshell',\n",
       " '.gitconfig',\n",
       " '.ipynb_checkpoints',\n",
       " '.ipython',\n",
       " '.jupyter',\n",
       " '.kivy',\n",
       " '.lesshst',\n",
       " '.matplotlib',\n",
       " '.mongorc.js',\n",
       " '.python_history',\n",
       " '.wdm',\n",
       " '3D Objects',\n",
       " 'addition.py',\n",
       " 'anaconda3',\n",
       " 'AppData',\n",
       " 'Application Data',\n",
       " 'Assignments',\n",
       " 'Classes',\n",
       " 'classquestion1.log',\n",
       " 'Contacts',\n",
       " 'Cookies',\n",
       " 'CreatedDirectory',\n",
       " 'debugging',\n",
       " 'Desktop',\n",
       " 'Django Tutorial for Beginners  Full Course.mp4',\n",
       " 'Documents',\n",
       " 'Downloads',\n",
       " 'Favorites',\n",
       " 'Fresh Start',\n",
       " 'GMT20210814 092925 Recording 1920x1080fs.mp4',\n",
       " 'GMT20211010 093100 Recording 1920x1080fs.mp4',\n",
       " 'GMT20211023 093006 Recording 1920x1080fs.mp4',\n",
       " 'GMT20211024 093033 Recording 1920x1080fs.mp4',\n",
       " 'google.txt',\n",
       " 'GUI learning and practice',\n",
       " 'HomeWork _Holiday_Christmas_NewYear.ipynb',\n",
       " 'HomeWork _Holiday_Christmas_NewYear_FUNCTION.ipynb',\n",
       " 'how to download youtube videos from python.ipynb',\n",
       " 'Links',\n",
       " 'Local Settings',\n",
       " 'logging',\n",
       " 'Manage',\n",
       " 'MicrosoftEdgeBackups',\n",
       " 'Music',\n",
       " 'My Documents',\n",
       " 'NetHood',\n",
       " 'NewDirectory',\n",
       " 'Non_Stop',\n",
       " 'NTUSER.DAT',\n",
       " 'ntuser.dat.LOG1',\n",
       " 'ntuser.dat.LOG2',\n",
       " 'NTUSER.DAT{53b39e88-18c4-11ea-a811-000d3aa4692b}.TM.blf',\n",
       " 'NTUSER.DAT{53b39e88-18c4-11ea-a811-000d3aa4692b}.TMContainer00000000000000000001.regtrans-ms',\n",
       " 'NTUSER.DAT{53b39e88-18c4-11ea-a811-000d3aa4692b}.TMContainer00000000000000000002.regtrans-ms',\n",
       " 'ntuser.ini',\n",
       " 'OneDrive',\n",
       " 'OOPS.log',\n",
       " 'Pictures',\n",
       " 'Postman',\n",
       " 'Practice folder for data science',\n",
       " 'Practice.txt',\n",
       " 'PrintHood',\n",
       " 'Programming_Assingment1.docx',\n",
       " 'Projects',\n",
       " 'PycharmProjects',\n",
       " 'Recent',\n",
       " 'Revision 1.ipynb',\n",
       " 'Saved Games',\n",
       " 'seaborn-data',\n",
       " 'Searches',\n",
       " 'SendTo',\n",
       " 'set',\n",
       " 'Start Menu',\n",
       " 'sudh',\n",
       " 'Templates',\n",
       " 'TEST 17 JAN',\n",
       " 'test.py',\n",
       " 'test1.txt',\n",
       " 'test2.txt',\n",
       " 'test5.py',\n",
       " 'test6.py',\n",
       " 'TESTTTT.log',\n",
       " 'TESTTTT2.log',\n",
       " 'TESTTTT3.log',\n",
       " 'TEST_DIRECTORY',\n",
       " 'Tracing',\n",
       " 'tutorialDjango',\n",
       " 'ukcimage.jpg',\n",
       " 'Untitled Folder',\n",
       " 'Videos',\n",
       " '_netrc',\n",
       " '__pycache__']"
      ]
     },
     "execution_count": 116,
     "metadata": {},
     "output_type": "execute_result"
    }
   ],
   "source": [
    "os.listdir()"
   ]
  },
  {
   "cell_type": "code",
   "execution_count": 117,
   "id": "eb9bda8b",
   "metadata": {},
   "outputs": [
    {
     "data": {
      "text/plain": [
       "'C:\\\\Users\\\\Utkarsh'"
      ]
     },
     "execution_count": 117,
     "metadata": {},
     "output_type": "execute_result"
    }
   ],
   "source": [
    "pwd()"
   ]
  },
  {
   "cell_type": "code",
   "execution_count": 118,
   "id": "bc6dc9b5",
   "metadata": {},
   "outputs": [],
   "source": [
    "os.chdir(\"C:\\\\Users\\\\Utkarsh\\\\Fresh Start\")"
   ]
  },
  {
   "cell_type": "code",
   "execution_count": 119,
   "id": "12c5d2cc",
   "metadata": {},
   "outputs": [
    {
     "data": {
      "text/plain": [
       "'C:\\\\Users\\\\Utkarsh\\\\Fresh Start'"
      ]
     },
     "execution_count": 119,
     "metadata": {},
     "output_type": "execute_result"
    }
   ],
   "source": [
    "pwd()"
   ]
  },
  {
   "cell_type": "code",
   "execution_count": 120,
   "id": "e25b1272",
   "metadata": {},
   "outputs": [
    {
     "data": {
      "text/plain": [
       "['.ipynb_checkpoints',\n",
       " 'For Loop.ipynb',\n",
       " 'Function part 2 - FILE Handling.ipynb',\n",
       " 'Function Part 2.ipynb',\n",
       " 'Function.ipynb',\n",
       " 'list manipulation.ipynb',\n",
       " 'Python basics - 1st class after installation and setup.ipynb',\n",
       " 'String and list manipulation.ipynb',\n",
       " 'test.txt',\n",
       " 'test1.txt',\n",
       " 'test2.txt',\n",
       " 'test5.txt',\n",
       " 'tuple, set, dictionary.ipynb',\n",
       " 'while loop.ipynb']"
      ]
     },
     "execution_count": 120,
     "metadata": {},
     "output_type": "execute_result"
    }
   ],
   "source": [
    "os.listdir()"
   ]
  },
  {
   "cell_type": "code",
   "execution_count": 121,
   "id": "617f00ec",
   "metadata": {},
   "outputs": [
    {
     "name": "stdout",
     "output_type": "stream",
     "text": [
      "The file i'm searching for is available in this directory\n",
      "<_io.TextIOWrapper name='test1.txt' mode='r+' encoding='cp1252'>\n"
     ]
    }
   ],
   "source": [
    "if \"test1.txt\" in os.listdir():\n",
    "    print(\"The file i'm searching for is available in this directory\")\n",
    "    f = open(\"test1.txt\", \"r+\")\n",
    "    print(f)\n",
    "else:\n",
    "    print(\"The file i'm searching for is not available in this directory\")"
   ]
  },
  {
   "cell_type": "code",
   "execution_count": 122,
   "id": "4a4ab92a",
   "metadata": {},
   "outputs": [
    {
     "name": "stdout",
     "output_type": "stream",
     "text": [
      "The file i'm searching for is available in this directory\n",
      "['le betaah']\n"
     ]
    }
   ],
   "source": [
    "if \"test1.txt\" in os.listdir():\n",
    "    print(\"The file i'm searching for is available in this directory\")\n",
    "    f = open(\"test1.txt\", \"r+\")\n",
    "    print(list(f))\n",
    "    f.close()\n",
    "else:\n",
    "    print(\"The file i'm searching for is not available in this directory\")"
   ]
  },
  {
   "cell_type": "code",
   "execution_count": 123,
   "id": "43a8afc6",
   "metadata": {},
   "outputs": [],
   "source": [
    "os.mkdir(\"sudh\")"
   ]
  },
  {
   "cell_type": "code",
   "execution_count": 124,
   "id": "6a8950fd",
   "metadata": {},
   "outputs": [
    {
     "ename": "TypeError",
     "evalue": "mkdir() missing required argument 'path' (pos 1)",
     "output_type": "error",
     "traceback": [
      "\u001b[1;31m---------------------------------------------------------------------------\u001b[0m",
      "\u001b[1;31mTypeError\u001b[0m                                 Traceback (most recent call last)",
      "\u001b[1;32m~\\AppData\\Local\\Temp/ipykernel_13540/3441296643.py\u001b[0m in \u001b[0;36m<module>\u001b[1;34m\u001b[0m\n\u001b[1;32m----> 1\u001b[1;33m \u001b[0mos\u001b[0m\u001b[1;33m.\u001b[0m\u001b[0mmkdir\u001b[0m\u001b[1;33m(\u001b[0m\u001b[1;33m)\u001b[0m\u001b[1;33m\u001b[0m\u001b[1;33m\u001b[0m\u001b[0m\n\u001b[0m",
      "\u001b[1;31mTypeError\u001b[0m: mkdir() missing required argument 'path' (pos 1)"
     ]
    }
   ],
   "source": [
    "os.mkdir()"
   ]
  },
  {
   "cell_type": "code",
   "execution_count": 125,
   "id": "b1b828e2",
   "metadata": {},
   "outputs": [],
   "source": [
    "if not os.path.isdir(\"sudh\"):\n",
    "    os.mkdir(\"sudh\")"
   ]
  },
  {
   "cell_type": "code",
   "execution_count": 126,
   "id": "e60a1b8a",
   "metadata": {},
   "outputs": [
    {
     "ename": "PermissionError",
     "evalue": "[WinError 32] The process cannot access the file because it is being used by another process: 'test1.txt' -> 'xyz.txt'",
     "output_type": "error",
     "traceback": [
      "\u001b[1;31m---------------------------------------------------------------------------\u001b[0m",
      "\u001b[1;31mPermissionError\u001b[0m                           Traceback (most recent call last)",
      "\u001b[1;32m~\\AppData\\Local\\Temp/ipykernel_13540/2889495776.py\u001b[0m in \u001b[0;36m<module>\u001b[1;34m\u001b[0m\n\u001b[1;32m----> 1\u001b[1;33m \u001b[0mos\u001b[0m\u001b[1;33m.\u001b[0m\u001b[0mrename\u001b[0m\u001b[1;33m(\u001b[0m\u001b[1;34m\"test1.txt\"\u001b[0m\u001b[1;33m,\u001b[0m \u001b[1;34m\"xyz.txt\"\u001b[0m\u001b[1;33m)\u001b[0m\u001b[1;33m\u001b[0m\u001b[1;33m\u001b[0m\u001b[0m\n\u001b[0m",
      "\u001b[1;31mPermissionError\u001b[0m: [WinError 32] The process cannot access the file because it is being used by another process: 'test1.txt' -> 'xyz.txt'"
     ]
    }
   ],
   "source": [
    "os.rename(\"test1.txt\", \"xyz.txt\")"
   ]
  },
  {
   "cell_type": "code",
   "execution_count": 127,
   "id": "f50d183d",
   "metadata": {},
   "outputs": [],
   "source": [
    "# to remove a directoery:\n",
    "\n",
    "os.rmdir(\"sudh\")"
   ]
  },
  {
   "cell_type": "code",
   "execution_count": 128,
   "id": "efc62d1d",
   "metadata": {},
   "outputs": [
    {
     "data": {
      "text/plain": [
       "['.ipynb_checkpoints',\n",
       " 'For Loop.ipynb',\n",
       " 'Function part 2 - FILE Handling.ipynb',\n",
       " 'Function Part 2.ipynb',\n",
       " 'Function.ipynb',\n",
       " 'list manipulation.ipynb',\n",
       " 'Python basics - 1st class after installation and setup.ipynb',\n",
       " 'String and list manipulation.ipynb',\n",
       " 'test.txt',\n",
       " 'test1.txt',\n",
       " 'test2.txt',\n",
       " 'test5.txt',\n",
       " 'tuple, set, dictionary.ipynb',\n",
       " 'while loop.ipynb']"
      ]
     },
     "execution_count": 128,
     "metadata": {},
     "output_type": "execute_result"
    }
   ],
   "source": [
    "os.listdir()"
   ]
  },
  {
   "cell_type": "code",
   "execution_count": 129,
   "id": "49bc0834",
   "metadata": {},
   "outputs": [],
   "source": [
    "os.mkdir(\"new\")"
   ]
  },
  {
   "cell_type": "code",
   "execution_count": 130,
   "id": "b0ddc47b",
   "metadata": {},
   "outputs": [],
   "source": [
    "os.mkdir(\"new2\")"
   ]
  },
  {
   "cell_type": "code",
   "execution_count": 131,
   "id": "3e74233e",
   "metadata": {},
   "outputs": [
    {
     "data": {
      "text/plain": [
       "'new\\\\new2'"
      ]
     },
     "execution_count": 131,
     "metadata": {},
     "output_type": "execute_result"
    }
   ],
   "source": [
    "# to move a file:\n",
    "\n",
    "import shutil\n",
    "\n",
    "shutil.move(\"new2\", \"new\")"
   ]
  },
  {
   "cell_type": "code",
   "execution_count": 132,
   "id": "c94c1d06",
   "metadata": {},
   "outputs": [
    {
     "data": {
      "text/plain": [
       "'\\n\\n1. Create a directory\\n2. Create 10 text files and write some data in all at a time.\\n3. Read all the data from this dir/file and print in console.\\n4. Hold all the data in a list.\\n5. Write all the data in a new file from list.\\n6. Keep only the new file in the present directory and rest in new directory.\\n\\n'"
      ]
     },
     "execution_count": 132,
     "metadata": {},
     "output_type": "execute_result"
    }
   ],
   "source": [
    "# Class work:\n",
    "\n",
    "\"\"\"\n",
    "\n",
    "1. Create a directory\n",
    "2. Create 10 text files and write some data in all at a time.\n",
    "3. Read all the data from this dir/file and print in console.\n",
    "4. Hold all the data in a list.\n",
    "5. Write all the data in a new file from list.\n",
    "6. Keep only the new file in the present directory and rest in new directory.\n",
    "\n",
    "\"\"\""
   ]
  },
  {
   "cell_type": "code",
   "execution_count": 145,
   "id": "802f475b",
   "metadata": {},
   "outputs": [
    {
     "name": "stdout",
     "output_type": "stream",
     "text": [
      "Enter a name to create your own directoryghgh\n",
      "It is a class_work.\n",
      "It is a class_work.\n",
      "It is a class_work.\n",
      "It is a class_work.\n",
      "It is a class_work.\n",
      "It is a class_work.\n",
      "It is a class_work.\n",
      "It is a class_work.\n",
      "It is a class_work.\n",
      "It is a class_work.\n",
      "This is our complete list: ['It is a class_work.', 'It is a class_work.', 'It is a class_work.', 'It is a class_work.', 'It is a class_work.', 'It is a class_work.', 'It is a class_work.', 'It is a class_work.', 'It is a class_work.', 'It is a class_work.']\n"
     ]
    },
    {
     "ename": "TypeError",
     "evalue": "stat: path should be string, bytes, os.PathLike or integer, not NoneType",
     "output_type": "error",
     "traceback": [
      "\u001b[1;31m---------------------------------------------------------------------------\u001b[0m",
      "\u001b[1;31mTypeError\u001b[0m                                 Traceback (most recent call last)",
      "\u001b[1;32m~\\AppData\\Local\\Temp/ipykernel_13540/3032383165.py\u001b[0m in \u001b[0;36m<module>\u001b[1;34m\u001b[0m\n\u001b[0;32m     34\u001b[0m \u001b[1;32mfor\u001b[0m \u001b[0mi\u001b[0m \u001b[1;32min\u001b[0m \u001b[0mos\u001b[0m\u001b[1;33m.\u001b[0m\u001b[0mlistdir\u001b[0m\u001b[1;33m(\u001b[0m\u001b[1;33m)\u001b[0m\u001b[1;33m:\u001b[0m\u001b[1;33m\u001b[0m\u001b[1;33m\u001b[0m\u001b[0m\n\u001b[0;32m     35\u001b[0m     \u001b[1;32mif\u001b[0m \u001b[0mi\u001b[0m \u001b[1;33m!=\u001b[0m \u001b[1;34m\"new_file.txt\"\u001b[0m\u001b[1;33m:\u001b[0m\u001b[1;33m\u001b[0m\u001b[1;33m\u001b[0m\u001b[0m\n\u001b[1;32m---> 36\u001b[1;33m         \u001b[0mshutil\u001b[0m\u001b[1;33m.\u001b[0m\u001b[0mmove\u001b[0m\u001b[1;33m(\u001b[0m\u001b[0mold\u001b[0m \u001b[1;33m+\u001b[0m \u001b[1;34m\"/\"\u001b[0m \u001b[1;33m+\u001b[0m \u001b[0mdir_name\u001b[0m\u001b[1;33m,\u001b[0m \u001b[0mos\u001b[0m\u001b[1;33m.\u001b[0m\u001b[0mmkdir\u001b[0m\u001b[1;33m(\u001b[0m\u001b[0mold\u001b[0m\u001b[1;33m+\u001b[0m\u001b[1;34m\"\\\\newest directory\"\u001b[0m\u001b[1;33m)\u001b[0m \u001b[1;33m)\u001b[0m\u001b[1;33m\u001b[0m\u001b[1;33m\u001b[0m\u001b[0m\n\u001b[0m",
      "\u001b[1;32m~\\anaconda3\\lib\\shutil.py\u001b[0m in \u001b[0;36mmove\u001b[1;34m(src, dst, copy_function)\u001b[0m\n\u001b[0;32m    798\u001b[0m     \u001b[0msys\u001b[0m\u001b[1;33m.\u001b[0m\u001b[0maudit\u001b[0m\u001b[1;33m(\u001b[0m\u001b[1;34m\"shutil.move\"\u001b[0m\u001b[1;33m,\u001b[0m \u001b[0msrc\u001b[0m\u001b[1;33m,\u001b[0m \u001b[0mdst\u001b[0m\u001b[1;33m)\u001b[0m\u001b[1;33m\u001b[0m\u001b[1;33m\u001b[0m\u001b[0m\n\u001b[0;32m    799\u001b[0m     \u001b[0mreal_dst\u001b[0m \u001b[1;33m=\u001b[0m \u001b[0mdst\u001b[0m\u001b[1;33m\u001b[0m\u001b[1;33m\u001b[0m\u001b[0m\n\u001b[1;32m--> 800\u001b[1;33m     \u001b[1;32mif\u001b[0m \u001b[0mos\u001b[0m\u001b[1;33m.\u001b[0m\u001b[0mpath\u001b[0m\u001b[1;33m.\u001b[0m\u001b[0misdir\u001b[0m\u001b[1;33m(\u001b[0m\u001b[0mdst\u001b[0m\u001b[1;33m)\u001b[0m\u001b[1;33m:\u001b[0m\u001b[1;33m\u001b[0m\u001b[1;33m\u001b[0m\u001b[0m\n\u001b[0m\u001b[0;32m    801\u001b[0m         \u001b[1;32mif\u001b[0m \u001b[0m_samefile\u001b[0m\u001b[1;33m(\u001b[0m\u001b[0msrc\u001b[0m\u001b[1;33m,\u001b[0m \u001b[0mdst\u001b[0m\u001b[1;33m)\u001b[0m\u001b[1;33m:\u001b[0m\u001b[1;33m\u001b[0m\u001b[1;33m\u001b[0m\u001b[0m\n\u001b[0;32m    802\u001b[0m             \u001b[1;31m# We might be on a case insensitive filesystem,\u001b[0m\u001b[1;33m\u001b[0m\u001b[1;33m\u001b[0m\u001b[0m\n",
      "\u001b[1;32m~\\anaconda3\\lib\\genericpath.py\u001b[0m in \u001b[0;36misdir\u001b[1;34m(s)\u001b[0m\n\u001b[0;32m     40\u001b[0m     \u001b[1;34m\"\"\"Return true if the pathname refers to an existing directory.\"\"\"\u001b[0m\u001b[1;33m\u001b[0m\u001b[1;33m\u001b[0m\u001b[0m\n\u001b[0;32m     41\u001b[0m     \u001b[1;32mtry\u001b[0m\u001b[1;33m:\u001b[0m\u001b[1;33m\u001b[0m\u001b[1;33m\u001b[0m\u001b[0m\n\u001b[1;32m---> 42\u001b[1;33m         \u001b[0mst\u001b[0m \u001b[1;33m=\u001b[0m \u001b[0mos\u001b[0m\u001b[1;33m.\u001b[0m\u001b[0mstat\u001b[0m\u001b[1;33m(\u001b[0m\u001b[0ms\u001b[0m\u001b[1;33m)\u001b[0m\u001b[1;33m\u001b[0m\u001b[1;33m\u001b[0m\u001b[0m\n\u001b[0m\u001b[0;32m     43\u001b[0m     \u001b[1;32mexcept\u001b[0m \u001b[1;33m(\u001b[0m\u001b[0mOSError\u001b[0m\u001b[1;33m,\u001b[0m \u001b[0mValueError\u001b[0m\u001b[1;33m)\u001b[0m\u001b[1;33m:\u001b[0m\u001b[1;33m\u001b[0m\u001b[1;33m\u001b[0m\u001b[0m\n\u001b[0;32m     44\u001b[0m         \u001b[1;32mreturn\u001b[0m \u001b[1;32mFalse\u001b[0m\u001b[1;33m\u001b[0m\u001b[1;33m\u001b[0m\u001b[0m\n",
      "\u001b[1;31mTypeError\u001b[0m: stat: path should be string, bytes, os.PathLike or integer, not NoneType"
     ]
    }
   ],
   "source": [
    "import os, shutil\n",
    "\n",
    "dir_name = input(\"Enter a name to create your own directory\")\n",
    "if dir_name not in os.listdir():\n",
    "    os.mkdir(dir_name)\n",
    "else:\n",
    "    print(\"This directory already exists! Please give another name\")\n",
    "    dir_name = input(\"Enter a name to create your own directory\")\n",
    "old = os.getcwd()\n",
    "os.chdir(old + \"/\" + dir_name) \n",
    "for i in range(1,11):\n",
    "    File_name = \"Test \" + str(i) + \".txt\"\n",
    "    f = open(File_name,\"w\")\n",
    "    f.write(\"It is a class_work.\")\n",
    "    f.close()\n",
    "\n",
    "for i in os.listdir():\n",
    "    f = open(i, \"r\")\n",
    "    print(f.read())\n",
    "    f.close()\n",
    "\n",
    "l = []\n",
    "for i in os.listdir():\n",
    "    f = open(i, \"r\")\n",
    "    l.append(f.read())\n",
    "    f.close()\n",
    "print(\"This is our complete list:\", l)\n",
    "\n",
    "f = open(\"new_file.txt\", \"w\")\n",
    "for i in l:\n",
    "    f.write(i)\n",
    "f.close()\n",
    "\n",
    "\n",
    "for i in os.listdir():\n",
    "    if i != \"new_file.txt\":\n",
    "        shutil.move(old + \"/\" + dir_name, os.mkdir(old+\"\\\\newest directory\") )\n",
    "        \n",
    "#shutil.move waala cheez sikhna hai ek baar ache se"
   ]
  }
 ],
 "metadata": {
  "kernelspec": {
   "display_name": "Python 3 (ipykernel)",
   "language": "python",
   "name": "python3"
  },
  "language_info": {
   "codemirror_mode": {
    "name": "ipython",
    "version": 3
   },
   "file_extension": ".py",
   "mimetype": "text/x-python",
   "name": "python",
   "nbconvert_exporter": "python",
   "pygments_lexer": "ipython3",
   "version": "3.9.7"
  }
 },
 "nbformat": 4,
 "nbformat_minor": 5
}
