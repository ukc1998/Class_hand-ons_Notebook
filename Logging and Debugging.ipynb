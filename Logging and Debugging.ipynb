{
 "cells": [
  {
   "cell_type": "code",
   "execution_count": 1,
   "id": "6451d40b",
   "metadata": {},
   "outputs": [],
   "source": [
    "#Debug\n",
    "#Information\n",
    "#Warning\n",
    "#Error\n",
    "#Critical"
   ]
  },
  {
   "cell_type": "code",
   "execution_count": 2,
   "id": "f5e4150d",
   "metadata": {},
   "outputs": [],
   "source": [
    "import logging"
   ]
  },
  {
   "cell_type": "code",
   "execution_count": 3,
   "id": "59dbd014",
   "metadata": {},
   "outputs": [],
   "source": [
    "# alias\n",
    "import logging as lg"
   ]
  },
  {
   "cell_type": "code",
   "execution_count": 4,
   "id": "f8fa5112",
   "metadata": {},
   "outputs": [],
   "source": [
    "import os"
   ]
  },
  {
   "cell_type": "code",
   "execution_count": 5,
   "id": "ff51c29a",
   "metadata": {},
   "outputs": [],
   "source": [
    "os.mkdir(\"logging\")"
   ]
  },
  {
   "cell_type": "code",
   "execution_count": 6,
   "id": "0a35de07",
   "metadata": {},
   "outputs": [],
   "source": [
    "os.chdir(os.getcwd()+\"/\"+\"logging\")"
   ]
  },
  {
   "cell_type": "code",
   "execution_count": 7,
   "id": "e4c46b0e",
   "metadata": {},
   "outputs": [
    {
     "data": {
      "text/plain": [
       "'C:\\\\Users\\\\Utkarsh\\\\Fresh Start\\\\logging'"
      ]
     },
     "execution_count": 7,
     "metadata": {},
     "output_type": "execute_result"
    }
   ],
   "source": [
    "pwd()"
   ]
  },
  {
   "cell_type": "code",
   "execution_count": 8,
   "id": "6741bdf1",
   "metadata": {},
   "outputs": [],
   "source": [
    "lg.basicConfig(filename = \"test.log\", level = lg.INFO)"
   ]
  },
  {
   "cell_type": "code",
   "execution_count": 9,
   "id": "b5b3dc58",
   "metadata": {},
   "outputs": [],
   "source": [
    "lg.info(\"I am going to store some information in my test log file : I am going to start my program\")"
   ]
  },
  {
   "cell_type": "code",
   "execution_count": 10,
   "id": "0ee052e4",
   "metadata": {},
   "outputs": [],
   "source": [
    "lg.warning(\"this is my 1st warning of my program to modify it.\")"
   ]
  },
  {
   "cell_type": "code",
   "execution_count": 11,
   "id": "4ce6b049",
   "metadata": {},
   "outputs": [],
   "source": [
    "lg.error(\"this is a message for error\")"
   ]
  },
  {
   "cell_type": "code",
   "execution_count": 12,
   "id": "bd6d8089",
   "metadata": {},
   "outputs": [],
   "source": [
    "lg.basicConfig(filename = \"test.log\", level = lg.INFO, format = '%(asctime)s %(message)s')"
   ]
  },
  {
   "cell_type": "code",
   "execution_count": 13,
   "id": "347ea6ff",
   "metadata": {},
   "outputs": [],
   "source": [
    "lg.info(\"I am going to store some information in my test log file : I am going to start my program with current time\")"
   ]
  },
  {
   "cell_type": "code",
   "execution_count": 14,
   "id": "bdbd50a3",
   "metadata": {},
   "outputs": [],
   "source": [
    "lg.warning(\"this is my 1st warning of my program to modify it with current time.\")"
   ]
  },
  {
   "cell_type": "code",
   "execution_count": 15,
   "id": "8ee11b8c",
   "metadata": {},
   "outputs": [],
   "source": [
    "lg.error(\"this is a message for error with current time\")"
   ]
  },
  {
   "cell_type": "code",
   "execution_count": 16,
   "id": "329d83d7",
   "metadata": {},
   "outputs": [],
   "source": [
    "def test(a,b):\n",
    "    div = a/b\n",
    "    return div"
   ]
  },
  {
   "cell_type": "code",
   "execution_count": 17,
   "id": "1ec1c320",
   "metadata": {},
   "outputs": [
    {
     "data": {
      "text/plain": [
       "5.666666666666667"
      ]
     },
     "execution_count": 17,
     "metadata": {},
     "output_type": "execute_result"
    }
   ],
   "source": [
    "test(34,6)"
   ]
  },
  {
   "cell_type": "code",
   "execution_count": 18,
   "id": "2e7ce87d",
   "metadata": {},
   "outputs": [
    {
     "ename": "ZeroDivisionError",
     "evalue": "division by zero",
     "output_type": "error",
     "traceback": [
      "\u001b[1;31m---------------------------------------------------------------------------\u001b[0m",
      "\u001b[1;31mZeroDivisionError\u001b[0m                         Traceback (most recent call last)",
      "\u001b[1;32m~\\AppData\\Local\\Temp/ipykernel_3996/1279879990.py\u001b[0m in \u001b[0;36m<module>\u001b[1;34m\u001b[0m\n\u001b[1;32m----> 1\u001b[1;33m \u001b[0mtest\u001b[0m\u001b[1;33m(\u001b[0m\u001b[1;36m6\u001b[0m\u001b[1;33m,\u001b[0m\u001b[1;36m0\u001b[0m\u001b[1;33m)\u001b[0m\u001b[1;33m\u001b[0m\u001b[1;33m\u001b[0m\u001b[0m\n\u001b[0m",
      "\u001b[1;32m~\\AppData\\Local\\Temp/ipykernel_3996/1490248513.py\u001b[0m in \u001b[0;36mtest\u001b[1;34m(a, b)\u001b[0m\n\u001b[0;32m      1\u001b[0m \u001b[1;32mdef\u001b[0m \u001b[0mtest\u001b[0m\u001b[1;33m(\u001b[0m\u001b[0ma\u001b[0m\u001b[1;33m,\u001b[0m\u001b[0mb\u001b[0m\u001b[1;33m)\u001b[0m\u001b[1;33m:\u001b[0m\u001b[1;33m\u001b[0m\u001b[1;33m\u001b[0m\u001b[0m\n\u001b[1;32m----> 2\u001b[1;33m     \u001b[0mdiv\u001b[0m \u001b[1;33m=\u001b[0m \u001b[0ma\u001b[0m\u001b[1;33m/\u001b[0m\u001b[0mb\u001b[0m\u001b[1;33m\u001b[0m\u001b[1;33m\u001b[0m\u001b[0m\n\u001b[0m\u001b[0;32m      3\u001b[0m     \u001b[1;32mreturn\u001b[0m \u001b[0mdiv\u001b[0m\u001b[1;33m\u001b[0m\u001b[1;33m\u001b[0m\u001b[0m\n",
      "\u001b[1;31mZeroDivisionError\u001b[0m: division by zero"
     ]
    }
   ],
   "source": [
    "test(6,0)"
   ]
  },
  {
   "cell_type": "code",
   "execution_count": 19,
   "id": "0263ac60",
   "metadata": {},
   "outputs": [],
   "source": [
    "lg.basicConfig(filename = \"test.log\", level = lg.ERROR, format = '%(asctime)s %(message)s')"
   ]
  },
  {
   "cell_type": "code",
   "execution_count": 21,
   "id": "77d86b4e",
   "metadata": {},
   "outputs": [],
   "source": [
    "import logging as lg\n",
    "lg.basicConfig(filename = \"test.log\", level = lg.ERROR, format = '%(asctime)s %(message)s')\n",
    "def test(a,b):\n",
    "    \n",
    "    try:\n",
    "        lg.info(str(a) + \", \" + str(b))\n",
    "        div = a/b\n",
    "        return div\n",
    "    except Exception as e:\n",
    "        print(\"we can check our test log file for more details regarding codee errors and failure\")\n",
    "        lg.error(\"error has occured\")\n",
    "        lg.exception(str(e))"
   ]
  },
  {
   "cell_type": "code",
   "execution_count": 1,
   "id": "eae890b2",
   "metadata": {},
   "outputs": [],
   "source": [
    "import os\n",
    "os.chdir(os.getcwd()+\"/\"+\"logging\")\n",
    "import logging as lg\n",
    "lg.basicConfig(filename = \"test.log\", level = lg.ERROR, format = '%(asctime)s %(message)s')\n",
    "def test(a,b):\n",
    "    \n",
    "    try:\n",
    "        lg.info(str(a) + \", \" + str(b))\n",
    "        div = a/b\n",
    "        return div\n",
    "    except Exception as e:\n",
    "        print(\"we can check our test log file for more details regarding codee errors and failure\")\n",
    "        lg.error(\"error has occured\")\n",
    "        lg.exception(str(e))"
   ]
  },
  {
   "cell_type": "code",
   "execution_count": 2,
   "id": "efa54ce4",
   "metadata": {},
   "outputs": [
    {
     "data": {
      "text/plain": [
       "'C:\\\\Users\\\\Utkarsh\\\\Fresh Start\\\\logging'"
      ]
     },
     "execution_count": 2,
     "metadata": {},
     "output_type": "execute_result"
    }
   ],
   "source": [
    "pwd()"
   ]
  },
  {
   "cell_type": "code",
   "execution_count": 1,
   "id": "6ccae9c1",
   "metadata": {},
   "outputs": [],
   "source": [
    "import os\n",
    "os.chdir(os.getcwd()+\"/\"+\"logging\")\n",
    "import logging as lg\n",
    "lg.basicConfig(filename = \"test.log\", level = lg.ERROR, format = '%(asctime)s %(message)s')\n",
    "def test(a,b):\n",
    "    \n",
    "    try:\n",
    "        lg.info(str(a) + \", \" + str(b))\n",
    "        div = a/b\n",
    "        return div\n",
    "    except Exception as e:\n",
    "        print(\"we can check our test log file for more details regarding codee errors and failure\")\n",
    "        lg.error(\"error has occured\")\n",
    "        lg.exception(str(e))"
   ]
  },
  {
   "cell_type": "code",
   "execution_count": 2,
   "id": "980d4ea8",
   "metadata": {},
   "outputs": [
    {
     "name": "stdout",
     "output_type": "stream",
     "text": [
      "we can check our test log file for more details regarding codee errors and failure\n"
     ]
    }
   ],
   "source": [
    "test(4,0)"
   ]
  },
  {
   "cell_type": "code",
   "execution_count": 4,
   "id": "1c9d5f16",
   "metadata": {},
   "outputs": [],
   "source": [
    "import logging as lg\n",
    "lg.basicConfig(filename = \"test.log\", level = lg.INFO, format = '%(asctime)s %(message)s')\n",
    "def test(a,b):\n",
    "    \n",
    "    try:\n",
    "        lg.info(str(a) + \", \" + str(b))\n",
    "        div = a/b\n",
    "        return div\n",
    "    except Exception as e:\n",
    "        print(\"we can check our test log file for more details regarding codee errors and failure\")\n",
    "        lg.error(\"error has occured\")\n",
    "        lg.exception(str(e))"
   ]
  },
  {
   "cell_type": "code",
   "execution_count": 5,
   "id": "2a52b089",
   "metadata": {},
   "outputs": [
    {
     "name": "stdout",
     "output_type": "stream",
     "text": [
      "we can check our test log file for more details regarding codee errors and failure\n"
     ]
    }
   ],
   "source": [
    "test(6,0)"
   ]
  },
  {
   "cell_type": "code",
   "execution_count": 6,
   "id": "5f1c6524",
   "metadata": {},
   "outputs": [],
   "source": [
    "import logging as lg\n",
    "\n",
    "lg.basicConfig(filename=\"test1.log\", level= lg.INFO)\n",
    "def test(a,b):\n",
    "    lg.info(\"This is a start of function\")\n",
    "    return a,b"
   ]
  },
  {
   "cell_type": "code",
   "execution_count": 7,
   "id": "c724e134",
   "metadata": {},
   "outputs": [
    {
     "data": {
      "text/plain": [
       "'C:\\\\Users\\\\Utkarsh\\\\Fresh Start\\\\logging'"
      ]
     },
     "execution_count": 7,
     "metadata": {},
     "output_type": "execute_result"
    }
   ],
   "source": [
    "pwd()"
   ]
  },
  {
   "cell_type": "code",
   "execution_count": 8,
   "id": "90831a6b",
   "metadata": {},
   "outputs": [
    {
     "data": {
      "text/plain": [
       "(5, 6)"
      ]
     },
     "execution_count": 8,
     "metadata": {},
     "output_type": "execute_result"
    }
   ],
   "source": [
    "test(5,6)"
   ]
  },
  {
   "cell_type": "code",
   "execution_count": 9,
   "id": "c096fb52",
   "metadata": {},
   "outputs": [],
   "source": [
    "lg.shutdown()"
   ]
  },
  {
   "cell_type": "code",
   "execution_count": 1,
   "id": "7ffc1fcb",
   "metadata": {},
   "outputs": [],
   "source": [
    "import os"
   ]
  },
  {
   "cell_type": "code",
   "execution_count": 2,
   "id": "0f63917d",
   "metadata": {},
   "outputs": [],
   "source": [
    "import logging as lg"
   ]
  },
  {
   "cell_type": "code",
   "execution_count": 3,
   "id": "fa8b7892",
   "metadata": {},
   "outputs": [
    {
     "data": {
      "text/plain": [
       "'C:\\\\Users\\\\Utkarsh\\\\Fresh Start'"
      ]
     },
     "execution_count": 3,
     "metadata": {},
     "output_type": "execute_result"
    }
   ],
   "source": [
    "pwd()"
   ]
  },
  {
   "cell_type": "code",
   "execution_count": 5,
   "id": "92185735",
   "metadata": {},
   "outputs": [
    {
     "ename": "FileNotFoundError",
     "evalue": "[WinError 2] The system cannot find the file specified: 'C:\\\\Users\\\\Utkarsh\\\\Fresh Start\\\\logging/logging'",
     "output_type": "error",
     "traceback": [
      "\u001b[1;31m---------------------------------------------------------------------------\u001b[0m",
      "\u001b[1;31mFileNotFoundError\u001b[0m                         Traceback (most recent call last)",
      "\u001b[1;32m~\\AppData\\Local\\Temp/ipykernel_7624/626722309.py\u001b[0m in \u001b[0;36m<module>\u001b[1;34m\u001b[0m\n\u001b[1;32m----> 1\u001b[1;33m \u001b[0mos\u001b[0m\u001b[1;33m.\u001b[0m\u001b[0mchdir\u001b[0m\u001b[1;33m(\u001b[0m\u001b[0mos\u001b[0m\u001b[1;33m.\u001b[0m\u001b[0mgetcwd\u001b[0m\u001b[1;33m(\u001b[0m\u001b[1;33m)\u001b[0m\u001b[1;33m+\u001b[0m\u001b[1;34m\"/\"\u001b[0m\u001b[1;33m+\u001b[0m\u001b[1;34m\"logging\"\u001b[0m\u001b[1;33m)\u001b[0m\u001b[1;33m\u001b[0m\u001b[1;33m\u001b[0m\u001b[0m\n\u001b[0m",
      "\u001b[1;31mFileNotFoundError\u001b[0m: [WinError 2] The system cannot find the file specified: 'C:\\\\Users\\\\Utkarsh\\\\Fresh Start\\\\logging/logging'"
     ]
    }
   ],
   "source": [
    "os.chdir(os.getcwd()+\"/\"+\"logging\")\n"
   ]
  },
  {
   "cell_type": "code",
   "execution_count": 6,
   "id": "1b06af98",
   "metadata": {},
   "outputs": [
    {
     "data": {
      "text/plain": [
       "'C:\\\\Users\\\\Utkarsh\\\\Fresh Start\\\\logging'"
      ]
     },
     "execution_count": 6,
     "metadata": {},
     "output_type": "execute_result"
    }
   ],
   "source": [
    "pwd()"
   ]
  },
  {
   "cell_type": "code",
   "execution_count": 7,
   "id": "2f73e2bb",
   "metadata": {},
   "outputs": [],
   "source": [
    "lg.basicConfig(filename=\"test1.log\", level= lg.DEBUG)\n",
    "\n",
    "lg.debug(\"this is for debugging\")\n",
    "lg.info(\"this is for information\")\n",
    "lg.warning(\"this is for warning\")\n",
    "lg.error(\"this is for error\")\n",
    "lg.critical(\"this is for critical log\")\n",
    "lg.exception(\"this is for exception log\")"
   ]
  },
  {
   "cell_type": "code",
   "execution_count": 8,
   "id": "f1906f8d",
   "metadata": {},
   "outputs": [],
   "source": [
    "lg.basicConfig(filename=\"test1.log\", level= lg.INFO)\n",
    "\n",
    "lg.debug(\"this is for debugging\")\n",
    "lg.info(\"this is for information\")\n",
    "lg.warning(\"this is for warning\")\n",
    "lg.error(\"this is for error\")\n",
    "lg.critical(\"this is for critical log\")\n",
    "lg.exception(\"this is for exception log\")"
   ]
  },
  {
   "cell_type": "code",
   "execution_count": 9,
   "id": "b95cbfa9",
   "metadata": {},
   "outputs": [],
   "source": [
    "lg.basicConfig(filename=\"test1.log\", level= lg.WARNING)\n",
    "\n",
    "lg.debug(\"this is for debugging\")\n",
    "lg.info(\"this is for information\")\n",
    "lg.warning(\"this is for warning\")\n",
    "lg.error(\"this is for error\")\n",
    "lg.critical(\"this is for critical log\")\n",
    "lg.exception(\"this is for exception log\")"
   ]
  },
  {
   "cell_type": "code",
   "execution_count": 11,
   "id": "fb2d15e0",
   "metadata": {},
   "outputs": [
    {
     "ename": "FileNotFoundError",
     "evalue": "[Errno 2] No such file or directory: 'test2.log'",
     "output_type": "error",
     "traceback": [
      "\u001b[1;31m---------------------------------------------------------------------------\u001b[0m",
      "\u001b[1;31mFileNotFoundError\u001b[0m                         Traceback (most recent call last)",
      "\u001b[1;32m~\\AppData\\Local\\Temp/ipykernel_7624/2746626050.py\u001b[0m in \u001b[0;36m<module>\u001b[1;34m\u001b[0m\n\u001b[0;32m     13\u001b[0m                 \u001b[0mlg\u001b[0m\u001b[1;33m.\u001b[0m\u001b[0mexception\u001b[0m\u001b[1;33m(\u001b[0m\u001b[0mstr\u001b[0m\u001b[1;33m(\u001b[0m\u001b[0me\u001b[0m\u001b[1;33m)\u001b[0m\u001b[1;33m)\u001b[0m\u001b[1;33m\u001b[0m\u001b[1;33m\u001b[0m\u001b[0m\n\u001b[0;32m     14\u001b[0m \u001b[0maddition\u001b[0m\u001b[1;33m(\u001b[0m\u001b[1;36m23\u001b[0m\u001b[1;33m,\u001b[0m\u001b[1;36m4\u001b[0m\u001b[1;33m,\u001b[0m\u001b[1;36m443\u001b[0m\u001b[1;33m,\u001b[0m\u001b[1;36m2\u001b[0m\u001b[1;33m)\u001b[0m\u001b[1;33m\u001b[0m\u001b[1;33m\u001b[0m\u001b[0m\n\u001b[1;32m---> 15\u001b[1;33m \u001b[0mf\u001b[0m\u001b[1;33m=\u001b[0m \u001b[0mopen\u001b[0m\u001b[1;33m(\u001b[0m\u001b[1;34m\"test2.log\"\u001b[0m\u001b[1;33m,\u001b[0m \u001b[1;34m\"r\"\u001b[0m\u001b[1;33m)\u001b[0m\u001b[1;33m\u001b[0m\u001b[1;33m\u001b[0m\u001b[0m\n\u001b[0m\u001b[0;32m     16\u001b[0m \u001b[0mprint\u001b[0m\u001b[1;33m(\u001b[0m\u001b[0mf\u001b[0m\u001b[1;33m.\u001b[0m\u001b[0mread\u001b[0m\u001b[1;33m(\u001b[0m\u001b[1;33m)\u001b[0m\u001b[1;33m)\u001b[0m\u001b[1;33m\u001b[0m\u001b[1;33m\u001b[0m\u001b[0m\n\u001b[0;32m     17\u001b[0m \u001b[0mf\u001b[0m\u001b[1;33m.\u001b[0m\u001b[0mclose\u001b[0m\u001b[1;33m(\u001b[0m\u001b[1;33m)\u001b[0m\u001b[1;33m\u001b[0m\u001b[1;33m\u001b[0m\u001b[0m\n",
      "\u001b[1;31mFileNotFoundError\u001b[0m: [Errno 2] No such file or directory: 'test2.log'"
     ]
    }
   ],
   "source": [
    "lg.basicConfig(filename=\"test2.log\", level= lg.INFO)\n",
    "\n",
    "def addition(*args):\n",
    "    summ= 0\n",
    "    for i in args:\n",
    "        if type(i) == int or type(i) == float or type(i) == complex:\n",
    "            lg.info(str(i))\n",
    "            try:\n",
    "                summ= summ + i\n",
    "                return summ\n",
    "            except Exception as e:\n",
    "                lg.error(\"error has occured because of unwanted arguments\")\n",
    "                lg.exception(str(e))\n",
    "addition(23,4,443,2)\n",
    "f= open(\"test2.log\", \"r\")\n",
    "print(f.read())\n",
    "f.close()"
   ]
  },
  {
   "cell_type": "code",
   "execution_count": 12,
   "id": "1ea4ee44",
   "metadata": {},
   "outputs": [
    {
     "data": {
      "text/plain": [
       "'C:\\\\Users\\\\Utkarsh\\\\Fresh Start\\\\logging'"
      ]
     },
     "execution_count": 12,
     "metadata": {},
     "output_type": "execute_result"
    }
   ],
   "source": [
    "pwd()"
   ]
  },
  {
   "cell_type": "code",
   "execution_count": 13,
   "id": "63ce8e6b",
   "metadata": {},
   "outputs": [
    {
     "ename": "FileNotFoundError",
     "evalue": "[Errno 2] No such file or directory: 'test3.log'",
     "output_type": "error",
     "traceback": [
      "\u001b[1;31m---------------------------------------------------------------------------\u001b[0m",
      "\u001b[1;31mFileNotFoundError\u001b[0m                         Traceback (most recent call last)",
      "\u001b[1;32m~\\AppData\\Local\\Temp/ipykernel_7624/1572807981.py\u001b[0m in \u001b[0;36m<module>\u001b[1;34m\u001b[0m\n\u001b[0;32m     13\u001b[0m                 \u001b[0mlg\u001b[0m\u001b[1;33m.\u001b[0m\u001b[0mexception\u001b[0m\u001b[1;33m(\u001b[0m\u001b[0mstr\u001b[0m\u001b[1;33m(\u001b[0m\u001b[0me\u001b[0m\u001b[1;33m)\u001b[0m\u001b[1;33m)\u001b[0m\u001b[1;33m\u001b[0m\u001b[1;33m\u001b[0m\u001b[0m\n\u001b[0;32m     14\u001b[0m \u001b[0maddition\u001b[0m\u001b[1;33m(\u001b[0m\u001b[1;36m23\u001b[0m\u001b[1;33m,\u001b[0m\u001b[1;36m4\u001b[0m\u001b[1;33m,\u001b[0m\u001b[1;36m443\u001b[0m\u001b[1;33m,\u001b[0m\u001b[1;36m2\u001b[0m\u001b[1;33m)\u001b[0m\u001b[1;33m\u001b[0m\u001b[1;33m\u001b[0m\u001b[0m\n\u001b[1;32m---> 15\u001b[1;33m \u001b[0mf\u001b[0m\u001b[1;33m=\u001b[0m \u001b[0mopen\u001b[0m\u001b[1;33m(\u001b[0m\u001b[1;34m\"test3.log\"\u001b[0m\u001b[1;33m,\u001b[0m \u001b[1;34m\"r\"\u001b[0m\u001b[1;33m)\u001b[0m\u001b[1;33m\u001b[0m\u001b[1;33m\u001b[0m\u001b[0m\n\u001b[0m\u001b[0;32m     16\u001b[0m \u001b[0mprint\u001b[0m\u001b[1;33m(\u001b[0m\u001b[0mf\u001b[0m\u001b[1;33m.\u001b[0m\u001b[0mread\u001b[0m\u001b[1;33m(\u001b[0m\u001b[1;33m)\u001b[0m\u001b[1;33m)\u001b[0m\u001b[1;33m\u001b[0m\u001b[1;33m\u001b[0m\u001b[0m\n\u001b[0;32m     17\u001b[0m \u001b[0mf\u001b[0m\u001b[1;33m.\u001b[0m\u001b[0mclose\u001b[0m\u001b[1;33m(\u001b[0m\u001b[1;33m)\u001b[0m\u001b[1;33m\u001b[0m\u001b[1;33m\u001b[0m\u001b[0m\n",
      "\u001b[1;31mFileNotFoundError\u001b[0m: [Errno 2] No such file or directory: 'test3.log'"
     ]
    }
   ],
   "source": [
    "lg.basicConfig(filename=\"test3.log\", level= lg.INFO)\n",
    "\n",
    "def addition(*args):\n",
    "    summ= 0\n",
    "    for i in args:\n",
    "        if type(i) == int or type(i) == float or type(i) == complex:\n",
    "            lg.info(str(i))\n",
    "            try:\n",
    "                summ= summ + i\n",
    "                return summ\n",
    "            except Exception as e:\n",
    "                lg.error(\"error has occured because of unwanted arguments\")\n",
    "                lg.exception(str(e))\n",
    "addition(23,4,443,2)\n",
    "f= open(\"test3.log\", \"r\")\n",
    "print(f.read())\n",
    "f.close()"
   ]
  },
  {
   "cell_type": "code",
   "execution_count": 14,
   "id": "ce34a0da",
   "metadata": {},
   "outputs": [],
   "source": [
    "lg.basicConfig(filename=\"test3.log\", level= lg.INFO)\n",
    "\n",
    "def addition(*args):\n",
    "    summ= 0\n",
    "    for i in args:\n",
    "        lg.info(str(i))\n",
    "        if type(i) == int or type(i) == float or type(i) == complex:\n",
    "            try:\n",
    "                summ= summ + i\n",
    "                return summ\n",
    "            except Exception as e:\n",
    "                lg.error(\"error has occured\")\n",
    "                lg.exception(str(e))\n",
    "                \n",
    "        else:\n",
    "            lg.error(\"error has occured because of unwanted arguments\")"
   ]
  },
  {
   "cell_type": "code",
   "execution_count": 15,
   "id": "507d5fed",
   "metadata": {},
   "outputs": [
    {
     "data": {
      "text/plain": [
       "23"
      ]
     },
     "execution_count": 15,
     "metadata": {},
     "output_type": "execute_result"
    }
   ],
   "source": [
    "addition(23,4,443,2)"
   ]
  },
  {
   "cell_type": "code",
   "execution_count": 20,
   "id": "bbf418ba",
   "metadata": {},
   "outputs": [],
   "source": [
    "lg.basicConfig(filename=\"test3.log\", level= lg.INFO)\n",
    "\n",
    "def addition(*args):\n",
    "    lg.info(\"This is addition function being run\")\n",
    "    summ= 0\n",
    "    for i in args:\n",
    "        lg.info(str(i))\n",
    "        if type(i) == int or type(i) == float or type(i) == complex:\n",
    "            try:\n",
    "                summ= summ + i\n",
    "            except Exception as e:\n",
    "                lg.error(\"error has occured\")\n",
    "                lg.exception(str(e))\n",
    "                \n",
    "        else:\n",
    "            lg.error(\"error has occured because of unwanted arguments\")\n",
    "    return summ"
   ]
  },
  {
   "cell_type": "code",
   "execution_count": 21,
   "id": "ef66199b",
   "metadata": {},
   "outputs": [
    {
     "data": {
      "text/plain": [
       "10"
      ]
     },
     "execution_count": 21,
     "metadata": {},
     "output_type": "execute_result"
    }
   ],
   "source": [
    "addition(1,2,3,4)"
   ]
  },
  {
   "cell_type": "code",
   "execution_count": 22,
   "id": "d46cac0b",
   "metadata": {},
   "outputs": [
    {
     "ename": "NameError",
     "evalue": "name 'dsfsd' is not defined",
     "output_type": "error",
     "traceback": [
      "\u001b[1;31m---------------------------------------------------------------------------\u001b[0m",
      "\u001b[1;31mNameError\u001b[0m                                 Traceback (most recent call last)",
      "\u001b[1;32m~\\AppData\\Local\\Temp/ipykernel_7624/2727008598.py\u001b[0m in \u001b[0;36m<module>\u001b[1;34m\u001b[0m\n\u001b[1;32m----> 1\u001b[1;33m \u001b[0maddition\u001b[0m\u001b[1;33m(\u001b[0m\u001b[1;36m12\u001b[0m\u001b[1;33m,\u001b[0m\u001b[1;36m57654\u001b[0m\u001b[1;33m,\u001b[0m\u001b[0mdsfsd\u001b[0m\u001b[1;33m)\u001b[0m\u001b[1;33m\u001b[0m\u001b[1;33m\u001b[0m\u001b[0m\n\u001b[0m",
      "\u001b[1;31mNameError\u001b[0m: name 'dsfsd' is not defined"
     ]
    }
   ],
   "source": [
    "addition(12,57654,dsfsd)"
   ]
  },
  {
   "cell_type": "code",
   "execution_count": 23,
   "id": "cec4ae8f",
   "metadata": {},
   "outputs": [
    {
     "data": {
      "text/plain": [
       "57666"
      ]
     },
     "execution_count": 23,
     "metadata": {},
     "output_type": "execute_result"
    }
   ],
   "source": [
    "addition(12,57654,\"dsfsd\")"
   ]
  },
  {
   "cell_type": "code",
   "execution_count": 24,
   "id": "866d8b59",
   "metadata": {},
   "outputs": [
    {
     "name": "stdout",
     "output_type": "stream",
     "text": [
      "DEBUG:root:this is for debugging\n",
      "INFO:root:this is for information\n",
      "WARNING:root:this is for warning\n",
      "ERROR:root:this is for error\n",
      "CRITICAL:root:this is for critical log\n",
      "ERROR:root:this is for exception log\n",
      "NoneType: None\n",
      "DEBUG:root:this is for debugging\n",
      "INFO:root:this is for information\n",
      "WARNING:root:this is for warning\n",
      "ERROR:root:this is for error\n",
      "CRITICAL:root:this is for critical log\n",
      "ERROR:root:this is for exception log\n",
      "NoneType: None\n",
      "DEBUG:parso.python.diff:diff parser start\n",
      "DEBUG:parso.python.diff:line_lengths old: 1; new: 1\n",
      "DEBUG:parso.python.diff:-> code[replace] old[1:1] new[1:1]\n",
      "DEBUG:parso.python.diff:parse_part from 1 to 1 (to 0 in part parser)\n",
      "DEBUG:parso.python.diff:diff parser end\n",
      "DEBUG:root:this is for debugging\n",
      "INFO:root:this is for information\n",
      "WARNING:root:this is for warning\n",
      "ERROR:root:this is for error\n",
      "CRITICAL:root:this is for critical log\n",
      "ERROR:root:this is for exception log\n",
      "NoneType: None\n",
      "DEBUG:parso.python.diff:diff parser start\n",
      "DEBUG:parso.python.diff:line_lengths old: 1; new: 6\n",
      "DEBUG:parso.python.diff:-> code[replace] old[1:1] new[1:6]\n",
      "DEBUG:parso.python.diff:parse_part from 1 to 6 (to 5 in part parser)\n",
      "DEBUG:parso.python.diff:diff parser end\n",
      "DEBUG:parso.python.diff:diff parser start\n",
      "DEBUG:parso.python.diff:line_lengths old: 6; new: 6\n",
      "DEBUG:parso.python.diff:-> code[equal] old[1:5] new[1:5]\n",
      "DEBUG:parso.python.diff:copy old[1:5] new[1:4]\n",
      "DEBUG:parso.python.diff:parse_part from 5 to 6 (to 5 in part parser)\n",
      "DEBUG:parso.python.diff:-> code[replace] old[6:6] new[6:6]\n",
      "DEBUG:parso.python.diff:diff parser end\n",
      "DEBUG:parso.python.diff:diff parser start\n",
      "DEBUG:parso.python.diff:line_lengths old: 6; new: 6\n",
      "DEBUG:parso.python.diff:-> code[equal] old[1:5] new[1:5]\n",
      "DEBUG:parso.python.diff:copy old[1:5] new[1:4]\n",
      "DEBUG:parso.python.diff:parse_part from 5 to 6 (to 5 in part parser)\n",
      "DEBUG:parso.python.diff:-> code[replace] old[6:6] new[6:6]\n",
      "DEBUG:parso.python.diff:diff parser end\n",
      "DEBUG:parso.python.diff:diff parser start\n",
      "DEBUG:parso.python.diff:line_lengths old: 6; new: 10\n",
      "DEBUG:parso.python.diff:-> code[equal] old[1:3] new[1:3]\n",
      "DEBUG:parso.python.diff:copy old[1:1] new[1:1]\n",
      "DEBUG:parso.python.diff:parse_part from 2 to 2 (to 2 in part parser)\n",
      "DEBUG:parso.python.diff:parse_part from 3 to 10 (to 9 in part parser)\n",
      "DEBUG:parso.python.diff:-> code[replace] old[4:4] new[4:4]\n",
      "DEBUG:parso.python.diff:-> code[equal] old[5:5] new[5:5]\n",
      "DEBUG:parso.python.diff:-> code[replace] old[6:6] new[6:10]\n",
      "DEBUG:parso.python.diff:diff parser end\n",
      "DEBUG:parso.python.diff:diff parser start\n",
      "DEBUG:parso.python.diff:line_lengths old: 10; new: 10\n",
      "DEBUG:parso.python.diff:-> code[equal] old[1:9] new[1:9]\n",
      "DEBUG:parso.python.diff:copy old[1:9] new[1:4]\n",
      "DEBUG:parso.python.diff:parse_part from 5 to 10 (to 9 in part parser)\n",
      "DEBUG:parso.python.diff:-> code[replace] old[10:10] new[10:10]\n",
      "DEBUG:parso.python.diff:diff parser end\n",
      "DEBUG:parso.python.diff:diff parser start\n",
      "DEBUG:parso.python.diff:line_lengths old: 10; new: 10\n",
      "DEBUG:parso.python.diff:-> code[equal] old[1:9] new[1:9]\n",
      "DEBUG:parso.python.diff:copy old[1:9] new[1:4]\n",
      "DEBUG:parso.python.diff:parse_part from 5 to 10 (to 9 in part parser)\n",
      "DEBUG:parso.python.diff:-> code[replace] old[10:10] new[10:10]\n",
      "DEBUG:parso.python.diff:diff parser end\n",
      "DEBUG:parso.python.diff:diff parser start\n",
      "DEBUG:parso.python.diff:line_lengths old: 10; new: 10\n",
      "DEBUG:parso.python.diff:-> code[equal] old[1:9] new[1:9]\n",
      "DEBUG:parso.python.diff:copy old[1:9] new[1:4]\n",
      "DEBUG:parso.python.diff:parse_part from 5 to 10 (to 9 in part parser)\n",
      "DEBUG:parso.python.diff:-> code[replace] old[10:10] new[10:10]\n",
      "DEBUG:parso.python.diff:diff parser end\n",
      "DEBUG:parso.python.diff:diff parser start\n",
      "DEBUG:parso.python.diff:line_lengths old: 10; new: 11\n",
      "DEBUG:parso.python.diff:-> code[equal] old[1:9] new[1:9]\n",
      "DEBUG:parso.python.diff:copy old[1:9] new[1:4]\n",
      "DEBUG:parso.python.diff:parse_part from 5 to 11 (to 10 in part parser)\n",
      "DEBUG:parso.python.diff:-> code[replace] old[10:10] new[10:11]\n",
      "DEBUG:parso.python.diff:diff parser end\n",
      "DEBUG:parso.python.diff:diff parser start\n",
      "DEBUG:parso.python.diff:line_lengths old: 11; new: 12\n",
      "DEBUG:parso.python.diff:-> code[equal] old[1:10] new[1:10]\n",
      "DEBUG:parso.python.diff:copy old[1:10] new[1:4]\n",
      "DEBUG:parso.python.diff:parse_part from 5 to 12 (to 11 in part parser)\n",
      "DEBUG:parso.python.diff:-> code[replace] old[11:11] new[11:12]\n",
      "DEBUG:parso.python.diff:diff parser end\n",
      "DEBUG:parso.python.diff:diff parser start\n",
      "DEBUG:parso.python.diff:line_lengths old: 12; new: 10\n",
      "DEBUG:parso.python.diff:-> code[equal] old[1:9] new[1:9]\n",
      "DEBUG:parso.python.diff:copy old[1:11] new[1:4]\n",
      "DEBUG:parso.python.diff:parse_part from 5 to 10 (to 9 in part parser)\n",
      "DEBUG:parso.python.diff:-> code[replace] old[10:12] new[10:10]\n",
      "DEBUG:parso.python.diff:diff parser end\n",
      "DEBUG:parso.python.diff:diff parser start\n",
      "DEBUG:parso.python.diff:line_lengths old: 10; new: 15\n",
      "DEBUG:parso.python.diff:-> code[equal] old[1:9] new[1:9]\n",
      "DEBUG:parso.python.diff:copy old[1:9] new[1:4]\n",
      "DEBUG:parso.python.diff:parse_part from 5 to 13 (to 13 in part parser)\n",
      "DEBUG:parso.python.diff:-> code[replace] old[10:10] new[10:15]\n",
      "DEBUG:parso.python.diff:parse_part from 14 to 15 (to 14 in part parser)\n",
      "DEBUG:parso.python.diff:diff parser end\n",
      "DEBUG:parso.python.diff:diff parser start\n",
      "DEBUG:parso.python.diff:line_lengths old: 15; new: 15\n",
      "DEBUG:parso.python.diff:-> code[equal] old[1:14] new[1:14]\n",
      "DEBUG:parso.python.diff:copy old[1:14] new[1:14]\n",
      "DEBUG:parso.python.diff:-> code[replace] old[15:15] new[15:15]\n",
      "DEBUG:parso.python.diff:parse_part from 15 to 15 (to 14 in part parser)\n",
      "DEBUG:parso.python.diff:diff parser end\n",
      "DEBUG:parso.python.diff:diff parser start\n",
      "DEBUG:parso.python.diff:line_lengths old: 15; new: 17\n",
      "DEBUG:parso.python.diff:-> code[equal] old[1:14] new[1:14]\n",
      "DEBUG:parso.python.diff:copy old[1:14] new[1:14]\n",
      "DEBUG:parso.python.diff:-> code[replace] old[15:15] new[15:17]\n",
      "DEBUG:parso.python.diff:parse_part from 15 to 17 (to 16 in part parser)\n",
      "DEBUG:parso.python.diff:diff parser end\n",
      "DEBUG:parso.cache:pickle loaded: C:\\Users\\Utkarsh\\anaconda3\\lib\\typing.py\n",
      "DEBUG:parso.cache:pickle loaded: C:\\Users\\Utkarsh\\anaconda3\\lib\\site-packages\\jedi\\third_party\\typeshed\\stdlib\\3\\typing.pyi\n",
      "DEBUG:parso.cache:pickle loaded: C:\\Users\\Utkarsh\\anaconda3\\lib\\abc.py\n",
      "DEBUG:parso.cache:pickle loaded: C:\\Users\\Utkarsh\\anaconda3\\lib\\site-packages\\jedi\\third_party\\typeshed\\stdlib\\3\\abc.pyi\n",
      "INFO:root:23\n",
      "INFO:root:23\n",
      "DEBUG:parso.python.diff:diff parser start\n",
      "DEBUG:parso.python.diff:line_lengths old: 17; new: 1\n",
      "DEBUG:parso.python.diff:-> code[replace] old[1:17] new[1:1]\n",
      "DEBUG:parso.python.diff:parse_part from 1 to 1 (to 0 in part parser)\n",
      "DEBUG:parso.python.diff:diff parser end\n",
      "INFO:root:23\n",
      "DEBUG:parso.python.diff:diff parser start\n",
      "DEBUG:parso.python.diff:line_lengths old: 1; new: 16\n",
      "DEBUG:parso.python.diff:-> code[replace] old[1:1] new[1:16]\n",
      "DEBUG:parso.python.diff:parse_part from 1 to 16 (to 15 in part parser)\n",
      "DEBUG:parso.python.diff:diff parser end\n",
      "DEBUG:parso.python.diff:diff parser start\n",
      "DEBUG:parso.python.diff:line_lengths old: 16; new: 16\n",
      "DEBUG:parso.python.diff:-> code[equal] old[1:15] new[1:15]\n",
      "DEBUG:parso.python.diff:copy old[1:15] new[1:4]\n",
      "DEBUG:parso.python.diff:parse_part from 5 to 16 (to 15 in part parser)\n",
      "DEBUG:parso.python.diff:-> code[replace] old[16:16] new[16:16]\n",
      "DEBUG:parso.python.diff:diff parser end\n",
      "INFO:root:1\n",
      "DEBUG:parso.python.diff:diff parser start\n",
      "DEBUG:parso.python.diff:line_lengths old: 16; new: 4\n",
      "DEBUG:parso.python.diff:-> code[replace] old[1:1] new[1:1]\n",
      "DEBUG:parso.python.diff:parse_part from 1 to 1 (to 2 in part parser)\n",
      "DEBUG:parso.python.diff:-> code[equal] old[2:3] new[2:3]\n",
      "DEBUG:parso.python.diff:parse_part from 2 to 4 (to 3 in part parser)\n",
      "DEBUG:parso.python.diff:-> code[replace] old[4:16] new[4:4]\n",
      "DEBUG:parso.python.diff:diff parser end\n",
      "INFO:root:This is addition function being run\n",
      "INFO:root:1\n",
      "INFO:root:2\n",
      "INFO:root:3\n",
      "INFO:root:4\n",
      "DEBUG:parso.python.diff:diff parser start\n",
      "DEBUG:parso.python.diff:line_lengths old: 4; new: 1\n",
      "DEBUG:parso.python.diff:-> code[replace] old[1:4] new[1:1]\n",
      "DEBUG:parso.python.diff:parse_part from 1 to 1 (to 0 in part parser)\n",
      "DEBUG:parso.python.diff:diff parser end\n",
      "INFO:root:This is addition function being run\n",
      "INFO:root:12\n",
      "INFO:root:57654\n",
      "INFO:root:dsfsd\n",
      "ERROR:root:error has occured because of unwanted arguments\n",
      "\n"
     ]
    }
   ],
   "source": [
    "f= open(\"test1.log\", \"r\")\n",
    "print(f.read())\n",
    "f.close()"
   ]
  },
  {
   "cell_type": "code",
   "execution_count": 25,
   "id": "a2b77ed6",
   "metadata": {},
   "outputs": [],
   "source": [
    "import logging as lg"
   ]
  },
  {
   "cell_type": "code",
   "execution_count": 1,
   "id": "61855602",
   "metadata": {},
   "outputs": [
    {
     "data": {
      "text/plain": [
       "'C:\\\\Users\\\\Utkarsh\\\\Fresh Start'"
      ]
     },
     "execution_count": 1,
     "metadata": {},
     "output_type": "execute_result"
    }
   ],
   "source": [
    "pwd()"
   ]
  },
  {
   "cell_type": "code",
   "execution_count": 2,
   "id": "96636f0a",
   "metadata": {},
   "outputs": [],
   "source": [
    "import os\n",
    "os.chdir(os.getcwd() + \"/\" + \"logging\")"
   ]
  },
  {
   "cell_type": "code",
   "execution_count": 3,
   "id": "f3e59e2a",
   "metadata": {},
   "outputs": [
    {
     "data": {
      "text/plain": [
       "'C:\\\\Users\\\\Utkarsh\\\\Fresh Start\\\\logging'"
      ]
     },
     "execution_count": 3,
     "metadata": {},
     "output_type": "execute_result"
    }
   ],
   "source": [
    "os.getcwd()"
   ]
  },
  {
   "cell_type": "code",
   "execution_count": 5,
   "id": "7c518c84",
   "metadata": {},
   "outputs": [],
   "source": [
    "f = open(\"test3.log\",\"w\")\n",
    "f.close()"
   ]
  },
  {
   "cell_type": "code",
   "execution_count": 6,
   "id": "cbaa3f19",
   "metadata": {},
   "outputs": [],
   "source": [
    "import logging as lg\n",
    "lg.basicConfig(filename = \"test3.log\", level = lg.DEBUG, format = '%(asctime)s %(levelname)s %(message)s' )"
   ]
  },
  {
   "cell_type": "code",
   "execution_count": 7,
   "id": "9bfaddb1",
   "metadata": {},
   "outputs": [],
   "source": [
    "console_log = lg.StreamHandler()\n",
    "console_log .setLevel(lg.INFO)"
   ]
  },
  {
   "cell_type": "code",
   "execution_count": 9,
   "id": "3d04b22f",
   "metadata": {},
   "outputs": [],
   "source": [
    "format = '%(asctime)s %(levelname)s %(message)s'"
   ]
  },
  {
   "cell_type": "code",
   "execution_count": 10,
   "id": "588654cc",
   "metadata": {},
   "outputs": [],
   "source": [
    "console_log.setFormatter(format)"
   ]
  },
  {
   "cell_type": "code",
   "execution_count": 11,
   "id": "04d509b4",
   "metadata": {},
   "outputs": [],
   "source": [
    "lg.getLogger('').addHandler(console_log)"
   ]
  },
  {
   "cell_type": "code",
   "execution_count": 12,
   "id": "0801d3a7",
   "metadata": {},
   "outputs": [
    {
     "name": "stderr",
     "output_type": "stream",
     "text": [
      "%(asctime)s %(levelname)s %(message)s\n"
     ]
    }
   ],
   "source": [
    "lg.info(\"this is my test code for log\")"
   ]
  },
  {
   "cell_type": "code",
   "execution_count": 13,
   "id": "8a884428",
   "metadata": {},
   "outputs": [],
   "source": [
    "logger1 = lg.getLogger('logger1.area1')\n",
    "logger2 = lg.getLogger('logger2.area2')"
   ]
  },
  {
   "cell_type": "code",
   "execution_count": 14,
   "id": "fc3553e6",
   "metadata": {},
   "outputs": [
    {
     "name": "stderr",
     "output_type": "stream",
     "text": [
      "%(asctime)s %(levelname)s %(message)s\n",
      "%(asctime)s %(levelname)s %(message)s\n"
     ]
    }
   ],
   "source": [
    "logger1.info(\"this is info for logger one\")\n",
    "logger2.debug(\"this is debug for logger two\")\n",
    "logger2.info(\"this is info for logger two\")"
   ]
  },
  {
   "cell_type": "code",
   "execution_count": 15,
   "id": "988d7413",
   "metadata": {},
   "outputs": [],
   "source": [
    "import logging as lg\n",
    "lg.basicConfig(level = lg.DEBUG, format = '%(asctime)s %(levelname)s %(message)s' )"
   ]
  },
  {
   "cell_type": "code",
   "execution_count": 16,
   "id": "47f98282",
   "metadata": {},
   "outputs": [],
   "source": [
    "console_log = lg.StreamHandler()\n",
    "console_log .setLevel(lg.INFO)"
   ]
  },
  {
   "cell_type": "code",
   "execution_count": 17,
   "id": "0bcd5cef",
   "metadata": {},
   "outputs": [],
   "source": [
    "format = '%(asctime)s %(levelname)s %(message)s'"
   ]
  },
  {
   "cell_type": "code",
   "execution_count": 18,
   "id": "22142798",
   "metadata": {},
   "outputs": [],
   "source": [
    "console_log.setFormatter(format)"
   ]
  },
  {
   "cell_type": "code",
   "execution_count": 19,
   "id": "598ea721",
   "metadata": {},
   "outputs": [],
   "source": [
    "lg.getLogger('').addHandler(console_log)"
   ]
  },
  {
   "cell_type": "code",
   "execution_count": 20,
   "id": "df25a4f0",
   "metadata": {},
   "outputs": [
    {
     "name": "stderr",
     "output_type": "stream",
     "text": [
      "%(asctime)s %(levelname)s %(message)s\n",
      "%(asctime)s %(levelname)s %(message)s\n"
     ]
    }
   ],
   "source": [
    "lg.info(\"this is my test code for log\")"
   ]
  },
  {
   "cell_type": "code",
   "execution_count": 21,
   "id": "345282f1",
   "metadata": {},
   "outputs": [],
   "source": [
    "logger1 = lg.getLogger('logger1.area1')\n",
    "logger2 = lg.getLogger('logger2.area2')"
   ]
  },
  {
   "cell_type": "code",
   "execution_count": 22,
   "id": "76202557",
   "metadata": {},
   "outputs": [
    {
     "name": "stderr",
     "output_type": "stream",
     "text": [
      "%(asctime)s %(levelname)s %(message)s\n",
      "%(asctime)s %(levelname)s %(message)s\n",
      "%(asctime)s %(levelname)s %(message)s\n",
      "%(asctime)s %(levelname)s %(message)s\n"
     ]
    }
   ],
   "source": [
    "logger1.info(\"this is info for logger one\")\n",
    "logger2.debug(\"this is debug for logger two\")\n",
    "logger2.info(\"this is info for logger two\")"
   ]
  },
  {
   "cell_type": "code",
   "execution_count": 1,
   "id": "d9fec3d2",
   "metadata": {},
   "outputs": [],
   "source": [
    "import logging as lg"
   ]
  },
  {
   "cell_type": "code",
   "execution_count": 2,
   "id": "b8c84628",
   "metadata": {},
   "outputs": [],
   "source": [
    "lg.basicConfig(level = lg.DEBUG, format = '%(asctime)s %(levelname)s %(message)s' )"
   ]
  },
  {
   "cell_type": "code",
   "execution_count": 3,
   "id": "a211b1d7",
   "metadata": {},
   "outputs": [],
   "source": [
    "console_log = lg.StreamHandler()\n",
    "console_log .setLevel(lg.INFO)"
   ]
  },
  {
   "cell_type": "code",
   "execution_count": 4,
   "id": "733a1469",
   "metadata": {},
   "outputs": [],
   "source": [
    "format = '%(asctime)s %(levelname)s %(message)s'"
   ]
  },
  {
   "cell_type": "code",
   "execution_count": 5,
   "id": "dd0ff70d",
   "metadata": {},
   "outputs": [],
   "source": [
    "console_log.setFormatter(format)"
   ]
  },
  {
   "cell_type": "code",
   "execution_count": 6,
   "id": "65c1acd1",
   "metadata": {},
   "outputs": [],
   "source": [
    "lg.getLogger('').addHandler(console_log)"
   ]
  },
  {
   "cell_type": "code",
   "execution_count": 7,
   "id": "a381edfc",
   "metadata": {},
   "outputs": [
    {
     "name": "stderr",
     "output_type": "stream",
     "text": [
      "2022-10-01 09:23:00,838 INFO this is my test code for log\n",
      "%(asctime)s %(levelname)s %(message)s\n"
     ]
    }
   ],
   "source": [
    "lg.info(\"this is my test code for log\")"
   ]
  },
  {
   "cell_type": "code",
   "execution_count": 8,
   "id": "80bde83e",
   "metadata": {},
   "outputs": [],
   "source": [
    "#users\n",
    "\n",
    "logger1 = lg.getLogger('logger1.area1')\n",
    "logger2 = lg.getLogger('logger2.area2')"
   ]
  },
  {
   "cell_type": "code",
   "execution_count": 9,
   "id": "c7e07d60",
   "metadata": {},
   "outputs": [
    {
     "name": "stderr",
     "output_type": "stream",
     "text": [
      "2022-10-01 09:23:25,215 INFO this is info for logger one\n",
      "%(asctime)s %(levelname)s %(message)s\n",
      "2022-10-01 09:23:25,221 DEBUG this is debug for logger two\n",
      "2022-10-01 09:23:25,225 INFO this is info for logger two\n",
      "%(asctime)s %(levelname)s %(message)s\n"
     ]
    }
   ],
   "source": [
    "logger1.info(\"this is info for logger one\")\n",
    "logger2.debug(\"this is debug for logger two\")\n",
    "logger2.info(\"this is info for logger two\")"
   ]
  },
  {
   "cell_type": "code",
   "execution_count": 1,
   "id": "ebf2e2b4",
   "metadata": {},
   "outputs": [],
   "source": [
    "import logging as lg"
   ]
  },
  {
   "cell_type": "code",
   "execution_count": 2,
   "id": "91d7c126",
   "metadata": {},
   "outputs": [],
   "source": [
    "import os"
   ]
  },
  {
   "cell_type": "code",
   "execution_count": 3,
   "id": "6dc46d96",
   "metadata": {},
   "outputs": [
    {
     "data": {
      "text/plain": [
       "'C:\\\\Users\\\\Utkarsh\\\\Fresh Start'"
      ]
     },
     "execution_count": 3,
     "metadata": {},
     "output_type": "execute_result"
    }
   ],
   "source": [
    "pwd()"
   ]
  },
  {
   "cell_type": "code",
   "execution_count": 4,
   "id": "a6bb2fcf",
   "metadata": {},
   "outputs": [],
   "source": [
    "os.chdir(os.getcwd()+\"/\"+\"logging\")"
   ]
  },
  {
   "cell_type": "code",
   "execution_count": 5,
   "id": "9377b3bf",
   "metadata": {},
   "outputs": [
    {
     "data": {
      "text/plain": [
       "'C:\\\\Users\\\\Utkarsh\\\\Fresh Start\\\\logging'"
      ]
     },
     "execution_count": 5,
     "metadata": {},
     "output_type": "execute_result"
    }
   ],
   "source": [
    "pwd()"
   ]
  },
  {
   "cell_type": "code",
   "execution_count": 6,
   "id": "8ed29611",
   "metadata": {},
   "outputs": [],
   "source": [
    "f_name = \"app.log\"\n",
    "f = open(f_name, \"w\")\n",
    "f.close()"
   ]
  },
  {
   "cell_type": "code",
   "execution_count": 13,
   "id": "ed98ea35",
   "metadata": {},
   "outputs": [],
   "source": [
    "lg.basicConfig(filename = f_name, level = lg.DEBUG, format = '%(asctime)s %(name)s %(levelname)s %(message)s', filemode = 'w' )"
   ]
  },
  {
   "cell_type": "code",
   "execution_count": 14,
   "id": "47fd1a7e",
   "metadata": {},
   "outputs": [],
   "source": [
    "console_log = lg.StreamHandler()\n",
    "console_log .setLevel(lg.INFO)"
   ]
  },
  {
   "cell_type": "code",
   "execution_count": 16,
   "id": "78f3a541",
   "metadata": {},
   "outputs": [],
   "source": [
    "format = '%(asctime)s %(name)s %(levelname)s %(message)s'"
   ]
  },
  {
   "cell_type": "code",
   "execution_count": 17,
   "id": "91bf9865",
   "metadata": {},
   "outputs": [],
   "source": [
    "console_log.setFormatter(format)"
   ]
  },
  {
   "cell_type": "code",
   "execution_count": 18,
   "id": "bf75dfe3",
   "metadata": {},
   "outputs": [],
   "source": [
    "lg.getLogger('').addHandler(console_log)"
   ]
  },
  {
   "cell_type": "code",
   "execution_count": 19,
   "id": "9a153932",
   "metadata": {},
   "outputs": [
    {
     "name": "stderr",
     "output_type": "stream",
     "text": [
      "%(asctime)s %(name)s %(levelname)s %(message)s\n"
     ]
    }
   ],
   "source": [
    "lg.info(\"this is my test code for log\")"
   ]
  },
  {
   "cell_type": "code",
   "execution_count": 20,
   "id": "8cf03f8d",
   "metadata": {},
   "outputs": [],
   "source": [
    "#users are logger1.area1, logger2.area2\n",
    "\n",
    "logger1 = lg.getLogger('logger1.area1')\n",
    "logger2 = lg.getLogger('logger2.area2')"
   ]
  },
  {
   "cell_type": "code",
   "execution_count": 21,
   "id": "0f5e95b8",
   "metadata": {},
   "outputs": [
    {
     "name": "stderr",
     "output_type": "stream",
     "text": [
      "%(asctime)s %(name)s %(levelname)s %(message)s\n",
      "%(asctime)s %(name)s %(levelname)s %(message)s\n"
     ]
    }
   ],
   "source": [
    "logger1.info(\"this is info for logger one\")\n",
    "logger2.debug(\"this is debug for logger two\")\n",
    "logger2.info(\"this is info for logger two\")"
   ]
  },
  {
   "cell_type": "markdown",
   "id": "726da9cd",
   "metadata": {},
   "source": [
    "# debugging"
   ]
  },
  {
   "cell_type": "code",
   "execution_count": 22,
   "id": "e99e1e77",
   "metadata": {},
   "outputs": [],
   "source": [
    "# !pip install ipdb\n",
    "\n",
    "import ipdb"
   ]
  },
  {
   "cell_type": "code",
   "execution_count": 23,
   "id": "7f88e0f6",
   "metadata": {},
   "outputs": [],
   "source": [
    "def testdebug():\n",
    "    ipdb.set_trace()\n",
    "    l = []\n",
    "    for i in range(10):\n",
    "        l.append(i)\n",
    "        print(\"Data has been appended in the list\")\n",
    "    return l"
   ]
  },
  {
   "cell_type": "code",
   "execution_count": 24,
   "id": "5d01cd9b",
   "metadata": {},
   "outputs": [
    {
     "name": "stdout",
     "output_type": "stream",
     "text": [
      "> \u001b[1;32mc:\\users\\utkarsh\\appdata\\local\\temp\\ipykernel_4176\\3280878457.py\u001b[0m(3)\u001b[0;36mtestdebug\u001b[1;34m()\u001b[0m\n",
      "\n",
      "ipdb> h\n",
      "\n",
      "Documented commands (type help <topic>):\n",
      "========================================\n",
      "EOF    commands   enable    ll        pp       s                until \n",
      "a      condition  exit      longlist  psource  skip_hidden      up    \n",
      "alias  cont       h         n         q        skip_predicates  w     \n",
      "args   context    help      next      quit     source           whatis\n",
      "b      continue   ignore    p         r        step             where \n",
      "break  d          interact  pdef      restart  tbreak         \n",
      "bt     debug      j         pdoc      return   u              \n",
      "c      disable    jump      pfile     retval   unalias        \n",
      "cl     display    l         pinfo     run      undisplay      \n",
      "clear  down       list      pinfo2    rv       unt            \n",
      "\n",
      "Miscellaneous help topics:\n",
      "==========================\n",
      "exec  pdb\n",
      "\n",
      "ipdb> n\n",
      "> \u001b[1;32mc:\\users\\utkarsh\\appdata\\local\\temp\\ipykernel_4176\\3280878457.py\u001b[0m(4)\u001b[0;36mtestdebug\u001b[1;34m()\u001b[0m\n",
      "\n",
      "ipdb> n\n",
      "> \u001b[1;32mc:\\users\\utkarsh\\appdata\\local\\temp\\ipykernel_4176\\3280878457.py\u001b[0m(5)\u001b[0;36mtestdebug\u001b[1;34m()\u001b[0m\n",
      "\n",
      "ipdb> next\n",
      "> \u001b[1;32mc:\\users\\utkarsh\\appdata\\local\\temp\\ipykernel_4176\\3280878457.py\u001b[0m(6)\u001b[0;36mtestdebug\u001b[1;34m()\u001b[0m\n",
      "\n",
      "ipdb> n\n",
      "Data has been appended in the list\n",
      "> \u001b[1;32mc:\\users\\utkarsh\\appdata\\local\\temp\\ipykernel_4176\\3280878457.py\u001b[0m(4)\u001b[0;36mtestdebug\u001b[1;34m()\u001b[0m\n",
      "\n",
      "ipdb> n\n",
      "> \u001b[1;32mc:\\users\\utkarsh\\appdata\\local\\temp\\ipykernel_4176\\3280878457.py\u001b[0m(5)\u001b[0;36mtestdebug\u001b[1;34m()\u001b[0m\n",
      "\n",
      "ipdb> n\n",
      "> \u001b[1;32mc:\\users\\utkarsh\\appdata\\local\\temp\\ipykernel_4176\\3280878457.py\u001b[0m(6)\u001b[0;36mtestdebug\u001b[1;34m()\u001b[0m\n",
      "\n",
      "ipdb> n\n",
      "Data has been appended in the list\n",
      "> \u001b[1;32mc:\\users\\utkarsh\\appdata\\local\\temp\\ipykernel_4176\\3280878457.py\u001b[0m(4)\u001b[0;36mtestdebug\u001b[1;34m()\u001b[0m\n",
      "\n",
      "ipdb> i\n",
      "1\n",
      "ipdb> n\n",
      "> \u001b[1;32mc:\\users\\utkarsh\\appdata\\local\\temp\\ipykernel_4176\\3280878457.py\u001b[0m(5)\u001b[0;36mtestdebug\u001b[1;34m()\u001b[0m\n",
      "\n",
      "ipdb> n\n",
      "> \u001b[1;32mc:\\users\\utkarsh\\appdata\\local\\temp\\ipykernel_4176\\3280878457.py\u001b[0m(6)\u001b[0;36mtestdebug\u001b[1;34m()\u001b[0m\n",
      "\n",
      "ipdb> n\n",
      "Data has been appended in the list\n",
      "> \u001b[1;32mc:\\users\\utkarsh\\appdata\\local\\temp\\ipykernel_4176\\3280878457.py\u001b[0m(4)\u001b[0;36mtestdebug\u001b[1;34m()\u001b[0m\n",
      "\n",
      "ipdb> n\n",
      "> \u001b[1;32mc:\\users\\utkarsh\\appdata\\local\\temp\\ipykernel_4176\\3280878457.py\u001b[0m(5)\u001b[0;36mtestdebug\u001b[1;34m()\u001b[0m\n",
      "\n",
      "ipdb> n\n",
      "> \u001b[1;32mc:\\users\\utkarsh\\appdata\\local\\temp\\ipykernel_4176\\3280878457.py\u001b[0m(6)\u001b[0;36mtestdebug\u001b[1;34m()\u001b[0m\n",
      "\n",
      "ipdb> i\n",
      "3\n",
      "ipdb> i = 7\n",
      "ipdb> n\n",
      "Data has been appended in the list\n",
      "> \u001b[1;32mc:\\users\\utkarsh\\appdata\\local\\temp\\ipykernel_4176\\3280878457.py\u001b[0m(4)\u001b[0;36mtestdebug\u001b[1;34m()\u001b[0m\n",
      "\n",
      "ipdb> n\n",
      "> \u001b[1;32mc:\\users\\utkarsh\\appdata\\local\\temp\\ipykernel_4176\\3280878457.py\u001b[0m(5)\u001b[0;36mtestdebug\u001b[1;34m()\u001b[0m\n",
      "\n",
      "ipdb> n\n",
      "> \u001b[1;32mc:\\users\\utkarsh\\appdata\\local\\temp\\ipykernel_4176\\3280878457.py\u001b[0m(6)\u001b[0;36mtestdebug\u001b[1;34m()\u001b[0m\n",
      "\n",
      "ipdb> n\n",
      "Data has been appended in the list\n",
      "> \u001b[1;32mc:\\users\\utkarsh\\appdata\\local\\temp\\ipykernel_4176\\3280878457.py\u001b[0m(4)\u001b[0;36mtestdebug\u001b[1;34m()\u001b[0m\n",
      "\n",
      "ipdb> i\n",
      "4\n",
      "ipdb> help jump\n",
      "j(ump) lineno\n",
      "        Set the next line that will be executed.  Only available in\n",
      "        the bottom-most frame.  This lets you jump back and execute\n",
      "        code again, or jump forward to skip code that you don't want\n",
      "        to run.\n",
      "\n",
      "        It should be noted that not all jumps are allowed -- for\n",
      "        instance it is not possible to jump into the middle of a\n",
      "        for loop or out of a finally clause.\n",
      "--KeyboardInterrupt--\n",
      "\n",
      "KeyboardInterrupt: Interrupted by user\n",
      "Data has been appended in the list\n",
      "Data has been appended in the list\n",
      "Data has been appended in the list\n",
      "Data has been appended in the list\n",
      "Data has been appended in the list\n"
     ]
    },
    {
     "data": {
      "text/plain": [
       "[0, 1, 2, 3, 4, 5, 6, 7, 8, 9]"
      ]
     },
     "execution_count": 24,
     "metadata": {},
     "output_type": "execute_result"
    }
   ],
   "source": [
    "testdebug()"
   ]
  },
  {
   "cell_type": "code",
   "execution_count": 25,
   "id": "7bf939cc",
   "metadata": {},
   "outputs": [],
   "source": [
    "#its end of debugging for now"
   ]
  },
  {
   "cell_type": "code",
   "execution_count": 26,
   "id": "31e78c67",
   "metadata": {},
   "outputs": [],
   "source": [
    "#its end of debugging for now"
   ]
  },
  {
   "cell_type": "code",
   "execution_count": 27,
   "id": "2f404e3e",
   "metadata": {},
   "outputs": [],
   "source": [
    "#its end of debugging for now"
   ]
  },
  {
   "cell_type": "code",
   "execution_count": 28,
   "id": "f75fc103",
   "metadata": {},
   "outputs": [
    {
     "ename": "NameError",
     "evalue": "name 'dgfcv' is not defined",
     "output_type": "error",
     "traceback": [
      "\u001b[1;31m---------------------------------------------------------------------------\u001b[0m",
      "\u001b[1;31mNameError\u001b[0m                                 Traceback (most recent call last)",
      "\u001b[1;32m~\\AppData\\Local\\Temp/ipykernel_4176/1795523605.py\u001b[0m in \u001b[0;36m<module>\u001b[1;34m\u001b[0m\n\u001b[1;32m----> 1\u001b[1;33m \u001b[0mdgfcv\u001b[0m\u001b[1;33m\u001b[0m\u001b[1;33m\u001b[0m\u001b[0m\n\u001b[0m",
      "\u001b[1;31mNameError\u001b[0m: name 'dgfcv' is not defined"
     ]
    }
   ],
   "source": [
    "dgfcv\n"
   ]
  },
  {
   "cell_type": "code",
   "execution_count": 29,
   "id": "dec02bba",
   "metadata": {},
   "outputs": [
    {
     "ename": "NameError",
     "evalue": "name 'dfg' is not defined",
     "output_type": "error",
     "traceback": [
      "\u001b[1;31m---------------------------------------------------------------------------\u001b[0m",
      "\u001b[1;31mNameError\u001b[0m                                 Traceback (most recent call last)",
      "\u001b[1;32m~\\AppData\\Local\\Temp/ipykernel_4176/1952629862.py\u001b[0m in \u001b[0;36m<module>\u001b[1;34m\u001b[0m\n\u001b[1;32m----> 1\u001b[1;33m \u001b[0mdfg\u001b[0m\u001b[1;33m\u001b[0m\u001b[1;33m\u001b[0m\u001b[0m\n\u001b[0m",
      "\u001b[1;31mNameError\u001b[0m: name 'dfg' is not defined"
     ]
    }
   ],
   "source": [
    "dfg"
   ]
  },
  {
   "cell_type": "code",
   "execution_count": 30,
   "id": "698d7d47",
   "metadata": {},
   "outputs": [],
   "source": [
    "# ctrl+shift+l to toggle line numbers"
   ]
  },
  {
   "cell_type": "code",
   "execution_count": 31,
   "id": "8b1fdf7a",
   "metadata": {},
   "outputs": [
    {
     "data": {
      "text/plain": [
       "'#chalenge:\\n\\n# tkinter or kivy\\n\\n1. Create an UI to search file and give 3 options in type of files\\n\\nif type of file is same, then merge\\n'"
      ]
     },
     "execution_count": 31,
     "metadata": {},
     "output_type": "execute_result"
    }
   ],
   "source": [
    "\"\"\"#chalenge:\n",
    "\n",
    "# tkinter or kivy\n",
    "\n",
    "1. Create an UI to search file and give 3 options in type of files\n",
    "\n",
    "if type of file is same, then merge\n",
    "\"\"\""
   ]
  }
 ],
 "metadata": {
  "kernelspec": {
   "display_name": "Python 3 (ipykernel)",
   "language": "python",
   "name": "python3"
  },
  "language_info": {
   "codemirror_mode": {
    "name": "ipython",
    "version": 3
   },
   "file_extension": ".py",
   "mimetype": "text/x-python",
   "name": "python",
   "nbconvert_exporter": "python",
   "pygments_lexer": "ipython3",
   "version": "3.9.7"
  }
 },
 "nbformat": 4,
 "nbformat_minor": 5
}
