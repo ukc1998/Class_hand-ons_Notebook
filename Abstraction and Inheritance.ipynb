{
 "cells": [
  {
   "cell_type": "markdown",
   "id": "1c703ebc",
   "metadata": {},
   "source": [
    "# Abstraction"
   ]
  },
  {
   "cell_type": "code",
   "execution_count": 1,
   "id": "25c5e23e",
   "metadata": {},
   "outputs": [],
   "source": [
    "class test:\n",
    "    def __init__(self, a, b, c, d):\n",
    "        self.a = a\n",
    "        self.b = b\n",
    "        self.c = c\n",
    "        self.d = d   \n",
    "    def test_custom(self, v):\n",
    "        return v - self.a\n",
    "    def __str__(self):\n",
    "        return \"This is my test code for abstraction\""
   ]
  },
  {
   "cell_type": "code",
   "execution_count": 2,
   "id": "940838ce",
   "metadata": {},
   "outputs": [],
   "source": [
    "o = test(4,5,6,7)"
   ]
  },
  {
   "cell_type": "code",
   "execution_count": 3,
   "id": "09dbfecd",
   "metadata": {},
   "outputs": [
    {
     "data": {
      "text/plain": [
       "51"
      ]
     },
     "execution_count": 3,
     "metadata": {},
     "output_type": "execute_result"
    }
   ],
   "source": [
    "o.test_custom(55)"
   ]
  },
  {
   "cell_type": "code",
   "execution_count": 4,
   "id": "f2c71277",
   "metadata": {},
   "outputs": [
    {
     "name": "stdout",
     "output_type": "stream",
     "text": [
      "This is my test code for abstraction\n"
     ]
    }
   ],
   "source": [
    "print(o)"
   ]
  },
  {
   "cell_type": "code",
   "execution_count": 5,
   "id": "66b58243",
   "metadata": {},
   "outputs": [
    {
     "ename": "AttributeError",
     "evalue": "'test' object has no attribute 'a'",
     "output_type": "error",
     "traceback": [
      "\u001b[1;31m---------------------------------------------------------------------------\u001b[0m",
      "\u001b[1;31mAttributeError\u001b[0m                            Traceback (most recent call last)",
      "\u001b[1;32m~\\AppData\\Local\\Temp/ipykernel_13304/3641202887.py\u001b[0m in \u001b[0;36m<module>\u001b[1;34m\u001b[0m\n\u001b[0;32m     11\u001b[0m \u001b[1;33m\u001b[0m\u001b[0m\n\u001b[0;32m     12\u001b[0m \u001b[0mo\u001b[0m \u001b[1;33m=\u001b[0m \u001b[0mtest\u001b[0m\u001b[1;33m(\u001b[0m\u001b[1;36m4\u001b[0m\u001b[1;33m,\u001b[0m\u001b[1;36m5\u001b[0m\u001b[1;33m,\u001b[0m\u001b[1;36m6\u001b[0m\u001b[1;33m,\u001b[0m\u001b[1;36m7\u001b[0m\u001b[1;33m)\u001b[0m\u001b[1;33m\u001b[0m\u001b[1;33m\u001b[0m\u001b[0m\n\u001b[1;32m---> 13\u001b[1;33m \u001b[0mo\u001b[0m\u001b[1;33m.\u001b[0m\u001b[0mtest_custom\u001b[0m\u001b[1;33m(\u001b[0m\u001b[1;36m55\u001b[0m\u001b[1;33m)\u001b[0m\u001b[1;33m\u001b[0m\u001b[1;33m\u001b[0m\u001b[0m\n\u001b[0m",
      "\u001b[1;32m~\\AppData\\Local\\Temp/ipykernel_13304/3641202887.py\u001b[0m in \u001b[0;36mtest_custom\u001b[1;34m(self, v)\u001b[0m\n\u001b[0;32m      6\u001b[0m         \u001b[0mself\u001b[0m\u001b[1;33m.\u001b[0m\u001b[0md\u001b[0m \u001b[1;33m=\u001b[0m \u001b[0md\u001b[0m\u001b[1;33m\u001b[0m\u001b[1;33m\u001b[0m\u001b[0m\n\u001b[0;32m      7\u001b[0m     \u001b[1;32mdef\u001b[0m \u001b[0mtest_custom\u001b[0m\u001b[1;33m(\u001b[0m\u001b[0mself\u001b[0m\u001b[1;33m,\u001b[0m \u001b[0mv\u001b[0m\u001b[1;33m)\u001b[0m\u001b[1;33m:\u001b[0m\u001b[1;33m\u001b[0m\u001b[1;33m\u001b[0m\u001b[0m\n\u001b[1;32m----> 8\u001b[1;33m         \u001b[1;32mreturn\u001b[0m \u001b[0mv\u001b[0m \u001b[1;33m-\u001b[0m \u001b[0mself\u001b[0m\u001b[1;33m.\u001b[0m\u001b[0ma\u001b[0m\u001b[1;33m\u001b[0m\u001b[1;33m\u001b[0m\u001b[0m\n\u001b[0m\u001b[0;32m      9\u001b[0m     \u001b[1;32mdef\u001b[0m \u001b[0m__str__\u001b[0m\u001b[1;33m(\u001b[0m\u001b[0mself\u001b[0m\u001b[1;33m)\u001b[0m\u001b[1;33m:\u001b[0m\u001b[1;33m\u001b[0m\u001b[1;33m\u001b[0m\u001b[0m\n\u001b[0;32m     10\u001b[0m         \u001b[1;32mreturn\u001b[0m \u001b[1;34m\"This is my test code for abstraction\"\u001b[0m\u001b[1;33m\u001b[0m\u001b[1;33m\u001b[0m\u001b[0m\n",
      "\u001b[1;31mAttributeError\u001b[0m: 'test' object has no attribute 'a'"
     ]
    }
   ],
   "source": [
    "class test:\n",
    "    def __init__(self, a, b, c, d):\n",
    "        self._a = a  # single underscore added before a\n",
    "        self.b = b\n",
    "        self.c = c\n",
    "        self.d = d   \n",
    "    def test_custom(self, v):\n",
    "        return v - self.a\n",
    "    def __str__(self):\n",
    "        return \"This is my test code for abstraction\"\n",
    "\n",
    "o = test(4,5,6,7)\n",
    "o.test_custom(55)"
   ]
  },
  {
   "cell_type": "code",
   "execution_count": 6,
   "id": "b4213dca",
   "metadata": {},
   "outputs": [
    {
     "data": {
      "text/plain": [
       "51"
      ]
     },
     "execution_count": 6,
     "metadata": {},
     "output_type": "execute_result"
    }
   ],
   "source": [
    "class test:\n",
    "    def __init__(self, a, b, c, d):\n",
    "        self._a = a  # single underscore added before a\n",
    "        self.b = b\n",
    "        self.c = c\n",
    "        self.d = d   \n",
    "    def test_custom(self, v):\n",
    "        return v - self._a # single underscore added before a\n",
    "    def __str__(self):\n",
    "        return \"This is my test code for abstraction\"\n",
    "\n",
    "o = test(4,5,6,7)\n",
    "o.test_custom(55)"
   ]
  },
  {
   "cell_type": "code",
   "execution_count": 7,
   "id": "79f0ab49",
   "metadata": {},
   "outputs": [],
   "source": [
    "# public variable: able to access within or outside a class/ function/ package\n",
    "\n",
    "# protected variable: unable to access outside the packages\n",
    "\n",
    "# private variable: unable to access outside the classes"
   ]
  },
  {
   "cell_type": "code",
   "execution_count": 8,
   "id": "59771c18",
   "metadata": {},
   "outputs": [
    {
     "ename": "AttributeError",
     "evalue": "'test' object has no attribute 'a'",
     "output_type": "error",
     "traceback": [
      "\u001b[1;31m---------------------------------------------------------------------------\u001b[0m",
      "\u001b[1;31mAttributeError\u001b[0m                            Traceback (most recent call last)",
      "\u001b[1;32m~\\AppData\\Local\\Temp/ipykernel_13304/1467817899.py\u001b[0m in \u001b[0;36m<module>\u001b[1;34m\u001b[0m\n\u001b[1;32m----> 1\u001b[1;33m \u001b[0mo\u001b[0m\u001b[1;33m.\u001b[0m\u001b[0ma\u001b[0m\u001b[1;33m\u001b[0m\u001b[1;33m\u001b[0m\u001b[0m\n\u001b[0m",
      "\u001b[1;31mAttributeError\u001b[0m: 'test' object has no attribute 'a'"
     ]
    }
   ],
   "source": [
    "o.a\n",
    "\n",
    "# single underscore laga dene k baad bhi class k bahar access  ho jaa raha variable"
   ]
  },
  {
   "cell_type": "code",
   "execution_count": 9,
   "id": "4688a372",
   "metadata": {},
   "outputs": [
    {
     "data": {
      "text/plain": [
       "4"
      ]
     },
     "execution_count": 9,
     "metadata": {},
     "output_type": "execute_result"
    }
   ],
   "source": [
    "o._a"
   ]
  },
  {
   "cell_type": "code",
   "execution_count": 10,
   "id": "044922ec",
   "metadata": {},
   "outputs": [
    {
     "data": {
      "text/plain": [
       "51"
      ]
     },
     "execution_count": 10,
     "metadata": {},
     "output_type": "execute_result"
    }
   ],
   "source": [
    "class test:\n",
    "    def __init__(self, a, b, c, d):\n",
    "        self.__a = a  # double underscores added before a\n",
    "        self.b = b\n",
    "        self.c = c\n",
    "        self.d = d   \n",
    "    def test_custom(self, v):\n",
    "        return v - self.__a # double underscores added before a\n",
    "    def __str__(self):\n",
    "        return \"This is my test code for abstraction\"\n",
    "\n",
    "o = test(4,5,6,7)\n",
    "o.test_custom(55)"
   ]
  },
  {
   "cell_type": "code",
   "execution_count": 11,
   "id": "d84f9d16",
   "metadata": {},
   "outputs": [
    {
     "ename": "AttributeError",
     "evalue": "'test' object has no attribute '__a'",
     "output_type": "error",
     "traceback": [
      "\u001b[1;31m---------------------------------------------------------------------------\u001b[0m",
      "\u001b[1;31mAttributeError\u001b[0m                            Traceback (most recent call last)",
      "\u001b[1;32m~\\AppData\\Local\\Temp/ipykernel_13304/924825990.py\u001b[0m in \u001b[0;36m<module>\u001b[1;34m\u001b[0m\n\u001b[1;32m----> 1\u001b[1;33m \u001b[0mo\u001b[0m\u001b[1;33m.\u001b[0m\u001b[0m__a\u001b[0m\u001b[1;33m\u001b[0m\u001b[1;33m\u001b[0m\u001b[0m\n\u001b[0m",
      "\u001b[1;31mAttributeError\u001b[0m: 'test' object has no attribute '__a'"
     ]
    }
   ],
   "source": [
    "o.__a # double underscore laga dene k baad class k bahar access nahi ho paa raha"
   ]
  },
  {
   "cell_type": "code",
   "execution_count": 12,
   "id": "11d60429",
   "metadata": {},
   "outputs": [],
   "source": [
    "# 1. No underscore: Public \n",
    "# 2. Single underscore: Protected\n",
    "# 3. Double underscore: Private"
   ]
  },
  {
   "cell_type": "code",
   "execution_count": 14,
   "id": "0762703e",
   "metadata": {},
   "outputs": [
    {
     "data": {
      "text/plain": [
       "4"
      ]
     },
     "execution_count": 14,
     "metadata": {},
     "output_type": "execute_result"
    }
   ],
   "source": [
    "#let us learn how to access the private variable\n",
    "\n",
    "o._test__a\n",
    "\n",
    "# this means abstraction is not strictly followed in python\n",
    "# we can access the variables just with the help of underscore/s"
   ]
  },
  {
   "cell_type": "markdown",
   "id": "3d010ad6",
   "metadata": {},
   "source": [
    "# Inheritance"
   ]
  },
  {
   "cell_type": "code",
   "execution_count": 1,
   "id": "99371fca",
   "metadata": {},
   "outputs": [
    {
     "data": {
      "text/plain": [
       "51"
      ]
     },
     "execution_count": 1,
     "metadata": {},
     "output_type": "execute_result"
    }
   ],
   "source": [
    "class test:\n",
    "    def __init__(self, a, b, c, d):\n",
    "        self.__a = a  # double underscores added before a\n",
    "        self.b = b\n",
    "        self.c = c\n",
    "        self.d = d   \n",
    "    def test_custom(self, v):\n",
    "        return v - self.__a # double underscores added before a\n",
    "    def __str__(self):\n",
    "        return \"This is my test code for abstraction\"\n",
    "\n",
    "o = test(4,5,6,7)\n",
    "o.test_custom(55)"
   ]
  },
  {
   "cell_type": "code",
   "execution_count": 4,
   "id": "d4eb82d8",
   "metadata": {},
   "outputs": [
    {
     "name": "stdout",
     "output_type": "stream",
     "text": [
      "6 4 3\n"
     ]
    }
   ],
   "source": [
    "class test1(test):\n",
    "    def __init__(self, j, *args):\n",
    "        super(test1, self).__init__(*args) \n",
    "        # super(parent) of test1 is test\n",
    "        self.j = j\n",
    "        \n",
    "m = test1(4,5,6,7,8)\n",
    "print(m.b,m.j, m.test_custom(8))"
   ]
  },
  {
   "cell_type": "code",
   "execution_count": 5,
   "id": "4ce4239e",
   "metadata": {},
   "outputs": [],
   "source": [
    "# the concept of inheritance helps us to inherit \n",
    "# the properties from a parent class to a child class.\n",
    "# Thus it helps us in resusability of code."
   ]
  },
  {
   "cell_type": "code",
   "execution_count": 6,
   "id": "975bba0f",
   "metadata": {},
   "outputs": [],
   "source": [
    "# Types of inheritance:\n",
    "\n",
    "# 1. Multiple inheritance: A, A' ----> B\n",
    "# 2. Multi-Level inheritance: A----> b ----> C\n",
    "# 3. Simple one-to-one inheritance: A ----> B"
   ]
  },
  {
   "cell_type": "code",
   "execution_count": 7,
   "id": "9a89fc89",
   "metadata": {},
   "outputs": [],
   "source": [
    "# Class task:\n",
    "# Create test, test1 ----> test2\n",
    "# test aur test1 k andar ek function (a)\n",
    "# bas dono ka return(print) pahchanne k liye alag rakhna hai\n",
    "# test2 should inherit fn(a) individually from both test and test1n "
   ]
  },
  {
   "cell_type": "code",
   "execution_count": 9,
   "id": "ab8a770a",
   "metadata": {},
   "outputs": [
    {
     "name": "stdout",
     "output_type": "stream",
     "text": [
      "Function a from test parent class\n",
      "Function a from test1 parent class\n",
      "Function a from test parent class\n"
     ]
    }
   ],
   "source": [
    "class test:\n",
    "    def a(self):\n",
    "        print(\"Function a from test parent class\")\n",
    "        \n",
    "class test1:\n",
    "    def a(self):\n",
    "        print(\"Function a from test1 parent class\")\n",
    "        \n",
    "class test2(test, test1):\n",
    "    t = test()\n",
    "    t.a()\n",
    "    t1 = test1()\n",
    "    t1.a()\n",
    "    \n",
    "t2 = test2()\n",
    "t2.a()"
   ]
  },
  {
   "cell_type": "code",
   "execution_count": 10,
   "id": "0def30d2",
   "metadata": {},
   "outputs": [
    {
     "name": "stdout",
     "output_type": "stream",
     "text": [
      "Function a from test parent class\n",
      "Function a from test1 parent class\n",
      "Function a from test1 parent class\n"
     ]
    }
   ],
   "source": [
    "class test:\n",
    "    def a(self):\n",
    "        print(\"Function a from test parent class\")\n",
    "        \n",
    "class test1:\n",
    "    def a(self):\n",
    "        print(\"Function a from test1 parent class\")\n",
    "        \n",
    "class test2(test1, test):\n",
    "    t = test()\n",
    "    t.a()\n",
    "    t1 = test1()\n",
    "    t1.a()\n",
    "    \n",
    "t2 = test2()\n",
    "t2.a()"
   ]
  },
  {
   "cell_type": "code",
   "execution_count": 12,
   "id": "6b285237",
   "metadata": {},
   "outputs": [
    {
     "name": "stdout",
     "output_type": "stream",
     "text": [
      "Function a from test parent class\n",
      "Function a from test1 parent class\n"
     ]
    },
    {
     "ename": "AttributeError",
     "evalue": "'test2' object has no attribute 'a'",
     "output_type": "error",
     "traceback": [
      "\u001b[1;31m---------------------------------------------------------------------------\u001b[0m",
      "\u001b[1;31mAttributeError\u001b[0m                            Traceback (most recent call last)",
      "\u001b[1;32m~\\AppData\\Local\\Temp/ipykernel_7488/2266804264.py\u001b[0m in \u001b[0;36m<module>\u001b[1;34m\u001b[0m\n\u001b[0;32m     14\u001b[0m \u001b[1;33m\u001b[0m\u001b[0m\n\u001b[0;32m     15\u001b[0m \u001b[0mt2\u001b[0m \u001b[1;33m=\u001b[0m \u001b[0mtest2\u001b[0m\u001b[1;33m(\u001b[0m\u001b[1;33m)\u001b[0m\u001b[1;33m\u001b[0m\u001b[1;33m\u001b[0m\u001b[0m\n\u001b[1;32m---> 16\u001b[1;33m \u001b[0mt2\u001b[0m\u001b[1;33m.\u001b[0m\u001b[0ma\u001b[0m\u001b[1;33m(\u001b[0m\u001b[1;33m)\u001b[0m\u001b[1;33m\u001b[0m\u001b[1;33m\u001b[0m\u001b[0m\n\u001b[0m",
      "\u001b[1;31mAttributeError\u001b[0m: 'test2' object has no attribute 'a'"
     ]
    }
   ],
   "source": [
    "class test:\n",
    "    def a(self):\n",
    "        print(\"Function a from test parent class\")\n",
    "        \n",
    "class test1:\n",
    "    def a(self):\n",
    "        print(\"Function a from test1 parent class\")\n",
    "        \n",
    "class test2():\n",
    "    t = test()\n",
    "    t.a()\n",
    "    t1 = test1()\n",
    "    t1.a()\n",
    "    \n",
    "t2 = test2()\n",
    "t2.a()"
   ]
  },
  {
   "cell_type": "code",
   "execution_count": 14,
   "id": "0c16d7bf",
   "metadata": {},
   "outputs": [
    {
     "name": "stdout",
     "output_type": "stream",
     "text": [
      "Function a from test parent class\n"
     ]
    }
   ],
   "source": [
    "class test:\n",
    "    def a(self):\n",
    "        print(\"Function a from test parent class\")\n",
    "        \n",
    "class test1:\n",
    "    def a(self):\n",
    "        print(\"Function a from test1 parent class\")\n",
    "        \n",
    "class test2(test, test1):\n",
    "    pass\n",
    "\n",
    "\n",
    "t2 = test2()\n",
    "t2.a()"
   ]
  },
  {
   "cell_type": "code",
   "execution_count": 15,
   "id": "9208b40f",
   "metadata": {},
   "outputs": [
    {
     "name": "stdout",
     "output_type": "stream",
     "text": [
      "Function a from test1 parent class\n"
     ]
    }
   ],
   "source": [
    "class test:\n",
    "    def a(self):\n",
    "        print(\"Function a from test parent class\")\n",
    "        \n",
    "class test1:\n",
    "    def a(self):\n",
    "        print(\"Function a from test1 parent class\")\n",
    "        \n",
    "class test2(test1, test):\n",
    "    pass\n",
    "\n",
    "\n",
    "t2 = test2()\n",
    "t2.a()"
   ]
  },
  {
   "cell_type": "code",
   "execution_count": 21,
   "id": "9f0eff2e",
   "metadata": {},
   "outputs": [
    {
     "name": "stdout",
     "output_type": "stream",
     "text": [
      "Function a from test parent class\n"
     ]
    }
   ],
   "source": [
    "class test:\n",
    "    def a(self):\n",
    "        print(\"Function a from test parent class\")\n",
    "        \n",
    "class test1(test):\n",
    "    def a(self):\n",
    "        print(\"Function a from test1 parent class\")\n",
    "        \n",
    "class test2(test):\n",
    "    pass\n",
    "\n",
    "\n",
    "t2 = test2()\n",
    "t2.a()"
   ]
  },
  {
   "cell_type": "code",
   "execution_count": 25,
   "id": "f81c5bfc",
   "metadata": {},
   "outputs": [
    {
     "name": "stdout",
     "output_type": "stream",
     "text": [
      "Function a from test1 parent class\n"
     ]
    }
   ],
   "source": [
    "class test:\n",
    "    def a(self):\n",
    "        print(\"Function a from test parent class\")\n",
    "        \n",
    "class test1:\n",
    "    def a(self):\n",
    "        print(\"Function a from test1 parent class\")\n",
    "        \n",
    "class test2(test1, test):\n",
    "    pass\n",
    "\n",
    "\n",
    "t2 = test2()\n",
    "t2.a()"
   ]
  },
  {
   "cell_type": "code",
   "execution_count": null,
   "id": "828ead4e",
   "metadata": {},
   "outputs": [],
   "source": []
  },
  {
   "cell_type": "code",
   "execution_count": 20,
   "id": "5f4bbd45",
   "metadata": {},
   "outputs": [
    {
     "name": "stdout",
     "output_type": "stream",
     "text": [
      "Function a from test1 parent class\n"
     ]
    }
   ],
   "source": [
    "class test:\n",
    "    def a(self):\n",
    "        print(\"Function a from test parent class\")\n",
    "        \n",
    "class test1(test):\n",
    "    def a(self):\n",
    "        print(\"Function a from test1 parent class\")\n",
    "        \n",
    "class test2(test):\n",
    "    pass\n",
    "\n",
    "\n",
    "t2 = test2()\n",
    "t2.a()"
   ]
  },
  {
   "cell_type": "code",
   "execution_count": 16,
   "id": "c80f16c6",
   "metadata": {},
   "outputs": [
    {
     "name": "stdout",
     "output_type": "stream",
     "text": [
      "Function a from test parent class\n",
      "Function a from test1 parent class\n"
     ]
    }
   ],
   "source": [
    "class test:\n",
    "    def a(self):\n",
    "        print(\"Function a from test parent class\")\n",
    "        \n",
    "class test1:\n",
    "    def a(self):\n",
    "        print(\"Function a from test1 parent class\")\n",
    "        \n",
    "class test2(test1, test):\n",
    "    def a(self):\n",
    "        test.a(self)\n",
    "        test1.a(self)\n",
    "\n",
    "t2 = test2()\n",
    "t2.a()"
   ]
  },
  {
   "cell_type": "code",
   "execution_count": 22,
   "id": "8dadf1b2",
   "metadata": {},
   "outputs": [
    {
     "ename": "TypeError",
     "evalue": "Cannot create a consistent method resolution\norder (MRO) for bases test, test1",
     "output_type": "error",
     "traceback": [
      "\u001b[1;31m---------------------------------------------------------------------------\u001b[0m",
      "\u001b[1;31mTypeError\u001b[0m                                 Traceback (most recent call last)",
      "\u001b[1;32m~\\AppData\\Local\\Temp/ipykernel_7488/323437564.py\u001b[0m in \u001b[0;36m<module>\u001b[1;34m\u001b[0m\n\u001b[0;32m      7\u001b[0m         \u001b[0mprint\u001b[0m\u001b[1;33m(\u001b[0m\u001b[1;34m\"Function a from test1 parent class\"\u001b[0m\u001b[1;33m)\u001b[0m\u001b[1;33m\u001b[0m\u001b[1;33m\u001b[0m\u001b[0m\n\u001b[0;32m      8\u001b[0m \u001b[1;33m\u001b[0m\u001b[0m\n\u001b[1;32m----> 9\u001b[1;33m \u001b[1;32mclass\u001b[0m \u001b[0mtest2\u001b[0m\u001b[1;33m(\u001b[0m\u001b[0mtest\u001b[0m\u001b[1;33m,\u001b[0m \u001b[0mtest1\u001b[0m\u001b[1;33m)\u001b[0m\u001b[1;33m:\u001b[0m\u001b[1;33m\u001b[0m\u001b[1;33m\u001b[0m\u001b[0m\n\u001b[0m\u001b[0;32m     10\u001b[0m     \u001b[1;32mpass\u001b[0m\u001b[1;33m\u001b[0m\u001b[1;33m\u001b[0m\u001b[0m\n\u001b[0;32m     11\u001b[0m \u001b[1;33m\u001b[0m\u001b[0m\n",
      "\u001b[1;31mTypeError\u001b[0m: Cannot create a consistent method resolution\norder (MRO) for bases test, test1"
     ]
    }
   ],
   "source": [
    "class test:\n",
    "    def a(self):\n",
    "        print(\"Function a from test parent class\")\n",
    "        \n",
    "class test1(test):\n",
    "    def a(self):\n",
    "        print(\"Function a from test1 parent class\")\n",
    "        \n",
    "class test2(test, test1):\n",
    "    pass\n",
    "\n",
    "\n",
    "t2 = test2()\n",
    "t2.a()"
   ]
  },
  {
   "cell_type": "code",
   "execution_count": 23,
   "id": "6cf2b1bb",
   "metadata": {},
   "outputs": [
    {
     "name": "stdout",
     "output_type": "stream",
     "text": [
      "Function a from test parent class\n",
      "Function a from test1 parent class\n"
     ]
    }
   ],
   "source": [
    "class test:\n",
    "    def a(self):\n",
    "        print(\"Function a from test parent class\")\n",
    "        \n",
    "class test1(test):\n",
    "    def a(self):\n",
    "        print(\"Function a from test1 parent class\")\n",
    "        \n",
    "class test2(test):\n",
    "    pass\n",
    "\n",
    "\n",
    "t2 = test2()\n",
    "test.a(t2)\n",
    "test1.a(t2)"
   ]
  },
  {
   "cell_type": "code",
   "execution_count": null,
   "id": "cde62b71",
   "metadata": {},
   "outputs": [],
   "source": []
  },
  {
   "cell_type": "code",
   "execution_count": 24,
   "id": "86925694",
   "metadata": {},
   "outputs": [
    {
     "name": "stdout",
     "output_type": "stream",
     "text": [
      "Function a from test1 parent class\n"
     ]
    }
   ],
   "source": [
    "class test:\n",
    "    def a(self):\n",
    "        print(\"Function a from test parent class\")\n",
    "        \n",
    "class test1(test):\n",
    "    def a(self):\n",
    "        print(\"Function a from test1 parent class\")\n",
    "        \n",
    "class test2(test1):\n",
    "    pass\n",
    "\n",
    "\n",
    "t2 = test2()\n",
    "t2.a()"
   ]
  },
  {
   "cell_type": "code",
   "execution_count": 37,
   "id": "a93d0fa4",
   "metadata": {},
   "outputs": [
    {
     "name": "stdout",
     "output_type": "stream",
     "text": [
      "The company ineuron offers a total of 12 different types of courses. Most trending course is Data_Science\n",
      "\n",
      "\n",
      "Data_Science \n",
      " 12 \n",
      " ineuron\n"
     ]
    }
   ],
   "source": [
    "# Multilevel inheritance\n",
    "\n",
    "class ineuron():\n",
    "    numofcourses = 12\n",
    "    \n",
    "class datascience(ineuron):\n",
    "    coursetype = \"Data_Science\"\n",
    "    \n",
    "class AI(datascience):\n",
    "    def __init__(self):\n",
    "        self.company = \"ineuron\"\n",
    "        print(\"The company {0} offers a total of {1} different types of courses. Most trending course is {2}\".format(self.company, self.numofcourses, self.coursetype))\n",
    "        \n",
    "obj = AI()\n",
    "print(\"\\n\")\n",
    "print(obj.coursetype,\"\\n\",obj.numofcourses,\"\\n\",obj.company)"
   ]
  },
  {
   "cell_type": "code",
   "execution_count": 38,
   "id": "c10e364f",
   "metadata": {},
   "outputs": [
    {
     "name": "stdout",
     "output_type": "stream",
     "text": [
      "Father Enjoys Driving\n",
      "Mother Enjoys Cooking\n",
      "Child Loves Playing\n"
     ]
    }
   ],
   "source": [
    "# Multiple Inheritance using two classes:\n",
    "\n",
    "class Father():\n",
    "    def Driving(self):\n",
    "        print(\"Father Enjoys Driving\")\n",
    "class Mother():\n",
    "    def Cooking(self):\n",
    "        print(\"Mother Enjoys Cooking\")\n",
    "class Child(Father, Mother):\n",
    "    def Playing(self):\n",
    "        print(\"Child Loves Playing\")\n",
    "c = Child()\n",
    "c.Driving()\n",
    "c.Cooking()\n",
    "c.Playing()"
   ]
  },
  {
   "cell_type": "code",
   "execution_count": 39,
   "id": "199262d7",
   "metadata": {},
   "outputs": [
    {
     "name": "stdout",
     "output_type": "stream",
     "text": [
      " This is a Benz Car \n",
      " This is a BMW Bike \n",
      " This is a Volvo Bus \n",
      " This is a Eicher Truck \n",
      " This is a Indigo plane \n",
      "This is the Main Class\n"
     ]
    }
   ],
   "source": [
    "# Creating a multiple inheritance using more than two classes.\n",
    "\n",
    "class Car():\n",
    "    def Benz(self):\n",
    "        print(\" This is a Benz Car \")\n",
    "class Bike():\n",
    "    def Bmw(self):\n",
    "        print(\" This is a BMW Bike \")\n",
    "class Bus():\n",
    "    def Volvo(self):\n",
    "        print(\" This is a Volvo Bus \")\n",
    "class Truck():\n",
    "    def Eicher(self):\n",
    "        print(\" This is a Eicher Truck \")\n",
    "class Plane():\n",
    "    def Indigo(self):\n",
    "        print(\" This is a Indigo plane \")\n",
    "class Transport(Car,Bike,Bus,Truck,Plane):\n",
    "    def Main(self):\n",
    "        print(\"This is the Main Class\")\n",
    "B=Transport()\n",
    "B.Benz()\n",
    "B.Bmw()\n",
    "B.Volvo()\n",
    "B.Eicher()\n",
    "B.Indigo()\n",
    "B.Main()"
   ]
  },
  {
   "cell_type": "code",
   "execution_count": 41,
   "id": "b538f179",
   "metadata": {},
   "outputs": [
    {
     "name": "stdout",
     "output_type": "stream",
     "text": [
      " This is a Benz Car \n",
      "This is the Main Class\n"
     ]
    }
   ],
   "source": [
    "# Priority for same function in multiple inheritance\n",
    "\n",
    "# Creating a multiple inheritance using more than two classes.\n",
    "\n",
    "class Car():\n",
    "    def a(self):\n",
    "        print(\" This is a Benz Car \")\n",
    "class Bike():\n",
    "    def a(self):\n",
    "        print(\" This is a BMW Bike \")\n",
    "class Bus():\n",
    "    def a(self):\n",
    "        print(\" This is a Volvo Bus \")\n",
    "class Truck():\n",
    "    def a(self):\n",
    "        print(\" This is a Eicher Truck \")\n",
    "class Plane():\n",
    "    def a(self):\n",
    "        print(\" This is a Indigo plane \")\n",
    "class Transport(Car,Bike,Bus,Truck,Plane):\n",
    "    def Main(self):\n",
    "        print(\"This is the Main Class\")\n",
    "B=Transport()\n",
    "B.a()\n",
    "B.Main()"
   ]
  },
  {
   "cell_type": "code",
   "execution_count": 42,
   "id": "3ad3575d",
   "metadata": {},
   "outputs": [
    {
     "name": "stdout",
     "output_type": "stream",
     "text": [
      " This is a BMW Bike \n",
      "This is the Main Class\n"
     ]
    }
   ],
   "source": [
    "# Priority for same function in multiple inheritance\n",
    "\n",
    "# Creating a multiple inheritance using more than two classes.\n",
    "\n",
    "class Car():\n",
    "    def a(self):\n",
    "        print(\" This is a Benz Car \")\n",
    "class Bike():\n",
    "    def a(self):\n",
    "        print(\" This is a BMW Bike \")\n",
    "class Bus():\n",
    "    def a(self):\n",
    "        print(\" This is a Volvo Bus \")\n",
    "class Truck():\n",
    "    def a(self):\n",
    "        print(\" This is a Eicher Truck \")\n",
    "class Plane():\n",
    "    def a(self):\n",
    "        print(\" This is a Indigo plane \")\n",
    "class Transport(Bike,Car,Bus,Truck,Plane):\n",
    "    def Main(self):\n",
    "        print(\"This is the Main Class\")\n",
    "B=Transport()\n",
    "B.a()\n",
    "B.Main()"
   ]
  },
  {
   "cell_type": "code",
   "execution_count": 43,
   "id": "282df9c7",
   "metadata": {},
   "outputs": [
    {
     "name": "stdout",
     "output_type": "stream",
     "text": [
      " This is a Eicher Truck \n",
      "This is the Main Class\n"
     ]
    }
   ],
   "source": [
    "# Priority for same function in multiple inheritance\n",
    "# Creating a multiple inheritance using more than two classes.\n",
    "\n",
    "class Car():\n",
    "    def a(self):\n",
    "        print(\" This is a Benz Car \")\n",
    "class Bike():\n",
    "    def a(self):\n",
    "        print(\" This is a BMW Bike \")\n",
    "class Bus():\n",
    "    def a(self):\n",
    "        print(\" This is a Volvo Bus \")\n",
    "class Truck():\n",
    "    def a(self):\n",
    "        print(\" This is a Eicher Truck \")\n",
    "class Plane():\n",
    "    def a(self):\n",
    "        print(\" This is a Indigo plane \")\n",
    "class Transport(Truck,Bike,Car,Bus,Plane):\n",
    "    def Main(self):\n",
    "        print(\"This is the Main Class\")\n",
    "B=Transport()\n",
    "B.a()\n",
    "B.Main()"
   ]
  },
  {
   "cell_type": "code",
   "execution_count": 44,
   "id": "2c3ca03a",
   "metadata": {},
   "outputs": [
    {
     "name": "stdout",
     "output_type": "stream",
     "text": [
      "3\n",
      "2\n",
      "0.5\n"
     ]
    }
   ],
   "source": [
    "# Performing Addition,Multiplication,Division using Multiple Inheritance\n",
    "\n",
    "class Calculation1:  \n",
    "    def Summation(self,a,b):  \n",
    "        return a+b;  \n",
    "class Calculation2:  \n",
    "    def Multiplication(self,a,b):  \n",
    "        return a*b;  \n",
    "class Derived(Calculation1,Calculation2):  \n",
    "    def Divide(self,a,b):  \n",
    "        return a/b;  \n",
    "d = Derived()  \n",
    "print(d.Summation(1,2))  \n",
    "print(d.Multiplication(1,2))  \n",
    "print(d.Divide(1,2)) "
   ]
  },
  {
   "cell_type": "code",
   "execution_count": 45,
   "id": "0a07095d",
   "metadata": {},
   "outputs": [
    {
     "name": "stdout",
     "output_type": "stream",
     "text": [
      "3\n",
      "2\n",
      "0.5\n"
     ]
    }
   ],
   "source": [
    "# Performing Addition,Multiplication,Division using Multiple Inheritance\n",
    "\n",
    "class Calculation1:  \n",
    "    def Summation(self,a,b):  \n",
    "        return a+b;  \n",
    "class Calculation2:  \n",
    "    def Multiplication(self,a,b):  \n",
    "        return a*b;  \n",
    "class Derived(Calculation2,Calculation1):  \n",
    "    def Divide(self,a,b):  \n",
    "        return a/b;  \n",
    "d = Derived()  \n",
    "print(d.Summation(1,2))  \n",
    "print(d.Multiplication(1,2))  \n",
    "print(d.Divide(1,2)) "
   ]
  },
  {
   "cell_type": "code",
   "execution_count": 47,
   "id": "d3e3751f",
   "metadata": {},
   "outputs": [
    {
     "name": "stdout",
     "output_type": "stream",
     "text": [
      "-1\n",
      "2\n",
      "0.5\n"
     ]
    }
   ],
   "source": [
    "# Performing Subtraction,Multiplication,Division using Multiple Inheritance\n",
    "\n",
    "class Calculation1:  \n",
    "    def Subtraction(self,a,b):  \n",
    "        return a-b;  \n",
    "class Calculation2:  \n",
    "    def Multiplication(self,a,b):  \n",
    "        return a*b;  \n",
    "class Derived(Calculation2,Calculation1):  \n",
    "    def Divide(self,a,b):  \n",
    "        return a/b;  \n",
    "d = Derived()  \n",
    "print(d.Subtraction(1,2))  \n",
    "print(d.Multiplication(1,2))  \n",
    "print(d.Divide(1,2)) "
   ]
  },
  {
   "cell_type": "code",
   "execution_count": 48,
   "id": "42aec9a9",
   "metadata": {},
   "outputs": [
    {
     "name": "stdout",
     "output_type": "stream",
     "text": [
      "-1\n",
      "2\n",
      "0.5\n"
     ]
    }
   ],
   "source": [
    "# Performing Subtraction,Multiplication,Division using Multiple Inheritance\n",
    "\n",
    "class Calculation1:  \n",
    "    def Subtraction(self,a,b):  \n",
    "        return a-b;  \n",
    "class Calculation2:  \n",
    "    def Multiplication(self,a,b):  \n",
    "        return a*b;  \n",
    "class Derived(Calculation1,Calculation2):  \n",
    "    def Divide(self,a,b):  \n",
    "        return a/b;  \n",
    "d = Derived()  \n",
    "print(d.Subtraction(1,2))  \n",
    "print(d.Multiplication(1,2))  \n",
    "print(d.Divide(1,2)) "
   ]
  },
  {
   "cell_type": "code",
   "execution_count": 49,
   "id": "515a0797",
   "metadata": {},
   "outputs": [
    {
     "name": "stdout",
     "output_type": "stream",
     "text": [
      "-1\n",
      "0.5\n"
     ]
    }
   ],
   "source": [
    "# Performing Negative Summation,Division using Multiple Inheritance\n",
    "\n",
    "class Calculation1:  \n",
    "    def Summation(self,a,b):  \n",
    "        return a-b;  \n",
    "class Calculation2:  \n",
    "    def Summation(self,a,b):  \n",
    "        return b-a;  \n",
    "class Derived(Calculation1,Calculation2):  \n",
    "    def Divide(self,a,b):  \n",
    "        return a/b;  \n",
    "d = Derived()  \n",
    "print(d.Summation(1,2))   \n",
    "print(d.Divide(1,2)) "
   ]
  },
  {
   "cell_type": "code",
   "execution_count": 50,
   "id": "d1603d4f",
   "metadata": {},
   "outputs": [
    {
     "name": "stdout",
     "output_type": "stream",
     "text": [
      "1\n",
      "0.5\n"
     ]
    }
   ],
   "source": [
    "# Performing Negative Summation,Division using Multiple Inheritance\n",
    "\n",
    "class Calculation1:  \n",
    "    def Summation(self,a,b):  \n",
    "        return a-b;  \n",
    "class Calculation2:  \n",
    "    def Summation(self,a,b):  \n",
    "        return b-a;  \n",
    "class Derived(Calculation2,Calculation1):  \n",
    "    def Divide(self,a,b):  \n",
    "        return a/b;  \n",
    "d = Derived()  \n",
    "print(d.Summation(1,2))   \n",
    "print(d.Divide(1,2)) "
   ]
  },
  {
   "cell_type": "code",
   "execution_count": 51,
   "id": "d68644e5",
   "metadata": {},
   "outputs": [
    {
     "name": "stdout",
     "output_type": "stream",
     "text": [
      "Swift\n",
      "1\n"
     ]
    }
   ],
   "source": [
    "# definition of the class starts here  \n",
    "class Cars:  \n",
    "    # defining constructor  \n",
    "    def __init__(self, CarName, CarModel):  \n",
    "        self.name = CarName  \n",
    "        self.model = CarModel\n",
    "  \n",
    "    # defining class methods  \n",
    "    def showName(self):  \n",
    "        print(self.name)  \n",
    "  \n",
    "    def showModel(self):  \n",
    "        print(self.Model)  \n",
    "  \n",
    "    # end of class definition  \n",
    "  \n",
    "# defining another class  \n",
    "class Ids: \n",
    "    def __init__(self, CarId):  \n",
    "        self.CarId = CarId  \n",
    "  \n",
    "    def getId(self):  \n",
    "        return self.CarId  \n",
    "  \n",
    "  \n",
    "class Main(Cars, Ids): # extends both Cars and Ids class  \n",
    "    def __init__(self, name, model, id):  \n",
    "        Cars.__init__(self, name, model)  \n",
    "        Ids.__init__(self, id)  \n",
    "  \n",
    "  \n",
    "# Create an object of the subclass  \n",
    "Main1 = Main('Swift', 500, '1')  \n",
    "Main1.showName()  \n",
    "print(Main1.getId())  "
   ]
  },
  {
   "cell_type": "code",
   "execution_count": 52,
   "id": "bca9d45c",
   "metadata": {},
   "outputs": [
    {
     "name": "stdout",
     "output_type": "stream",
     "text": [
      "Ram\n"
     ]
    }
   ],
   "source": [
    "# Example on Multiple Inheritance `\n",
    "\n",
    "class Student1:  \n",
    "    def __init__(self):  \n",
    "        self.name = 'Nani'  \n",
    "        self.age = 19  \n",
    "  \n",
    "    def getName(self):  \n",
    "        return self.name  \n",
    "  \n",
    "  \n",
    "class Student2:  \n",
    "    def __init__(self):  \n",
    "        self.name = 'Ram'  \n",
    "        self.id = '15'  \n",
    "  \n",
    "    def getName(self):  \n",
    "        return self.name  \n",
    "  \n",
    "  \n",
    "class Students(Student1,Student2):  \n",
    "    def __init__(self):  \n",
    "        Student1.__init__(self)  \n",
    "        Student2.__init__(self)  \n",
    "  \n",
    "    def getName(self):  \n",
    "        return self.name  \n",
    "\n",
    "Students1 = Students()  \n",
    "print(Students1.getName()) "
   ]
  },
  {
   "cell_type": "markdown",
   "id": "0e056ade",
   "metadata": {},
   "source": [
    "# Encapsulation"
   ]
  },
  {
   "cell_type": "code",
   "execution_count": 53,
   "id": "e55d8d8c",
   "metadata": {},
   "outputs": [],
   "source": [
    "# Its an another way of extending classes \n",
    "# in such a way that it consists of wrapping of objects.\n",
    "\n",
    "# We try to hide/ encapsulate the implemation, \n",
    "# but later that can be used."
   ]
  },
  {
   "cell_type": "code",
   "execution_count": 55,
   "id": "a4dc0069",
   "metadata": {},
   "outputs": [
    {
     "name": "stdout",
     "output_type": "stream",
     "text": [
      "This a return from my test class This a return from my test1 class This a return from my test2 class\n"
     ]
    }
   ],
   "source": [
    "class test:\n",
    "    def __init__(self, a,b,c):\n",
    "        self.a = a\n",
    "        self.b = b\n",
    "        self.c = c\n",
    "    def __str__(self):\n",
    "        return \"This a return from my test class\"\n",
    "    \n",
    "class test1:\n",
    "    def __init__(self, a,b,c):\n",
    "        self.a = a\n",
    "        self.b = b\n",
    "        self.c = c\n",
    "    def __str__(self):\n",
    "        return \"This a return from my test1 class\"\n",
    "    \n",
    "class test2:\n",
    "    def __init__(self, a,b,c):\n",
    "        self.a = a\n",
    "        self.b = b\n",
    "        self.c = c\n",
    "    def __str__(self):\n",
    "        return \"This a return from my test2 class\"\n",
    "    \n",
    "class final:\n",
    "    def __init__(self, x,y,z):\n",
    "        self.x = x\n",
    "        self.y = y\n",
    "        self.z = z\n",
    "        \n",
    "    def __str__(self):\n",
    "        return str(self.x) + \" \" + str(self.y) + \" \" + str(self.z)\n",
    "\n",
    "    \n",
    "    \n",
    "t = test(4,5,6)\n",
    "t1 = test1(3,4,5)\n",
    "t2 = test2(5,6,7)\n",
    "f = final(t,t1,t2)\n",
    "print(f)"
   ]
  },
  {
   "cell_type": "code",
   "execution_count": 56,
   "id": "b6b77b95",
   "metadata": {},
   "outputs": [],
   "source": [
    "f = final(t1,t2, \"sudh\") # \"sudh \" is aprimitive datatype"
   ]
  },
  {
   "cell_type": "code",
   "execution_count": 57,
   "id": "f7bca29e",
   "metadata": {},
   "outputs": [
    {
     "name": "stdout",
     "output_type": "stream",
     "text": [
      "This a return from my test1 class This a return from my test2 class sudh\n"
     ]
    }
   ],
   "source": [
    "print(f)"
   ]
  },
  {
   "cell_type": "code",
   "execution_count": 58,
   "id": "877f5ea2",
   "metadata": {},
   "outputs": [],
   "source": [
    "# In the above 3 lines, we can see \n",
    "# that we are not calling the function or variable directly\n",
    "\n",
    "# Even if the original implementation is hidden \n",
    "# and we are not aware about it, we are able to call the object.\n",
    "# In this way, we are encapsulating.\n",
    "\n",
    "# Encapsulation - Implementation is hidden\n",
    "# Inheritance - Implementation is inherited"
   ]
  },
  {
   "cell_type": "code",
   "execution_count": 59,
   "id": "c5b6fc11",
   "metadata": {},
   "outputs": [],
   "source": [
    "# Inside encapsulation, composition and dynamic extensions \n",
    "# are two types of encapsulation."
   ]
  }
 ],
 "metadata": {
  "kernelspec": {
   "display_name": "Python 3 (ipykernel)",
   "language": "python",
   "name": "python3"
  },
  "language_info": {
   "codemirror_mode": {
    "name": "ipython",
    "version": 3
   },
   "file_extension": ".py",
   "mimetype": "text/x-python",
   "name": "python",
   "nbconvert_exporter": "python",
   "pygments_lexer": "ipython3",
   "version": "3.9.7"
  }
 },
 "nbformat": 4,
 "nbformat_minor": 5
}
