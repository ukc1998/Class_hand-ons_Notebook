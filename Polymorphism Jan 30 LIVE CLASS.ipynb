{
 "cells": [
  {
   "cell_type": "markdown",
   "id": "25d80a15",
   "metadata": {},
   "source": [
    "# Polymorphism:"
   ]
  },
  {
   "cell_type": "code",
   "execution_count": 1,
   "id": "1d2b528d",
   "metadata": {},
   "outputs": [],
   "source": [
    "# Explaination in Layman way: \n",
    "# Let us suppose i am son of someone. \n",
    "# At the same point of time, \n",
    "# i may be the brother of someone, father/uncle of someone, \n",
    "# son-inlaw of some, cousin of someone etc.\n",
    "\n",
    "# means if the behaviour of a single entity/object is \n",
    "# different for different situations/ environments, \n",
    "# then it is called polymorphism.\n",
    "\n",
    "# Polymorphism = Poly + Morphism = Multiple + Forms"
   ]
  },
  {
   "cell_type": "code",
   "execution_count": 2,
   "id": "cec8a23b",
   "metadata": {},
   "outputs": [],
   "source": [
    "def test(a,b):\n",
    "    return a + b"
   ]
  },
  {
   "cell_type": "code",
   "execution_count": 3,
   "id": "c86c9b69",
   "metadata": {},
   "outputs": [
    {
     "data": {
      "text/plain": [
       "14"
      ]
     },
     "execution_count": 3,
     "metadata": {},
     "output_type": "execute_result"
    }
   ],
   "source": [
    "test(5,9) # addition operation"
   ]
  },
  {
   "cell_type": "code",
   "execution_count": 4,
   "id": "826f90b0",
   "metadata": {},
   "outputs": [
    {
     "data": {
      "text/plain": [
       "'ukcuit'"
      ]
     },
     "execution_count": 4,
     "metadata": {},
     "output_type": "execute_result"
    }
   ],
   "source": [
    "test(\"ukc\" , \"uit\") # concatenation operation"
   ]
  },
  {
   "cell_type": "code",
   "execution_count": 5,
   "id": "6cb3837e",
   "metadata": {},
   "outputs": [],
   "source": [
    "# In the above lines, we can see thhat the same operator \n",
    "# within the test function is working as different operator."
   ]
  },
  {
   "cell_type": "code",
   "execution_count": 6,
   "id": "ac605914",
   "metadata": {},
   "outputs": [],
   "source": [
    "class instagram:\n",
    "    def share_stories(self):\n",
    "        print(\"this will share my instagram stories\")\n",
    "        \n",
    "class facebook:\n",
    "    def share_stories(self):\n",
    "        print(\"this will share my facebook stories\")"
   ]
  },
  {
   "cell_type": "code",
   "execution_count": 10,
   "id": "83a5be5e",
   "metadata": {},
   "outputs": [],
   "source": [
    "def shareSTORIES(app):\n",
    "    app.share_stories()"
   ]
  },
  {
   "cell_type": "code",
   "execution_count": 11,
   "id": "ee874210",
   "metadata": {},
   "outputs": [],
   "source": [
    "i = instagram()\n",
    "f = facebook()"
   ]
  },
  {
   "cell_type": "code",
   "execution_count": 12,
   "id": "771e9bda",
   "metadata": {},
   "outputs": [
    {
     "name": "stdout",
     "output_type": "stream",
     "text": [
      "this will share my instagram stories\n"
     ]
    }
   ],
   "source": [
    "shareSTORIES(i)"
   ]
  },
  {
   "cell_type": "code",
   "execution_count": 13,
   "id": "a0d7a96a",
   "metadata": {},
   "outputs": [
    {
     "name": "stdout",
     "output_type": "stream",
     "text": [
      "this will share my facebook stories\n"
     ]
    }
   ],
   "source": [
    "shareSTORIES(f)"
   ]
  },
  {
   "cell_type": "markdown",
   "id": "48105aeb",
   "metadata": {},
   "source": [
    "# Polymorphism through Inheritance:"
   ]
  },
  {
   "cell_type": "code",
   "execution_count": 14,
   "id": "9a963a52",
   "metadata": {},
   "outputs": [],
   "source": [
    "class social_media:\n",
    "    def share_stories(self):\n",
    "        print(\"Share Stories\")\n",
    "    def upload_pic(self):\n",
    "        print(\"upload pics\")\n",
    "        \n",
    "class facebook(social_media):\n",
    "    def share_stories(self):\n",
    "        print(\"sharing story on facebook\")\n",
    "        \n",
    "class instagram(social_media):\n",
    "    def share_stories(self):\n",
    "        print(\"sharing story on instagram\")"
   ]
  },
  {
   "cell_type": "code",
   "execution_count": 15,
   "id": "f1aaf668",
   "metadata": {},
   "outputs": [],
   "source": [
    "f = facebook()\n",
    "i = instagram()"
   ]
  },
  {
   "cell_type": "code",
   "execution_count": 16,
   "id": "70d6aa5b",
   "metadata": {},
   "outputs": [
    {
     "name": "stdout",
     "output_type": "stream",
     "text": [
      "sharing story on facebook\n"
     ]
    }
   ],
   "source": [
    "f.share_stories()"
   ]
  },
  {
   "cell_type": "code",
   "execution_count": 17,
   "id": "eb2b837c",
   "metadata": {},
   "outputs": [
    {
     "name": "stdout",
     "output_type": "stream",
     "text": [
      "sharing story on instagram\n"
     ]
    }
   ],
   "source": [
    "i.share_stories()"
   ]
  }
 ],
 "metadata": {
  "kernelspec": {
   "display_name": "Python 3 (ipykernel)",
   "language": "python",
   "name": "python3"
  },
  "language_info": {
   "codemirror_mode": {
    "name": "ipython",
    "version": 3
   },
   "file_extension": ".py",
   "mimetype": "text/x-python",
   "name": "python",
   "nbconvert_exporter": "python",
   "pygments_lexer": "ipython3",
   "version": "3.9.7"
  }
 },
 "nbformat": 4,
 "nbformat_minor": 5
}
