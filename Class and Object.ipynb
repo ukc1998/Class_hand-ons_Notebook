{
 "cells": [
  {
   "cell_type": "code",
   "execution_count": 1,
   "id": "c0a126b2",
   "metadata": {},
   "outputs": [
    {
     "ename": "IndentationError",
     "evalue": "expected an indented block (Temp/ipykernel_7740/2524229445.py, line 1)",
     "output_type": "error",
     "traceback": [
      "\u001b[1;36m  File \u001b[1;32m\"C:\\Users\\Utkarsh\\AppData\\Local\\Temp/ipykernel_7740/2524229445.py\"\u001b[1;36m, line \u001b[1;32m1\u001b[0m\n\u001b[1;33m    class car:\u001b[0m\n\u001b[1;37m              ^\u001b[0m\n\u001b[1;31mIndentationError\u001b[0m\u001b[1;31m:\u001b[0m expected an indented block\n"
     ]
    }
   ],
   "source": [
    "class car:"
   ]
  },
  {
   "cell_type": "code",
   "execution_count": null,
   "id": "410dce7a",
   "metadata": {},
   "outputs": [],
   "source": [
    "class car:\n",
    "    pass"
   ]
  },
  {
   "cell_type": "code",
   "execution_count": 2,
   "id": "5972a361",
   "metadata": {},
   "outputs": [
    {
     "ename": "NameError",
     "evalue": "name 'car' is not defined",
     "output_type": "error",
     "traceback": [
      "\u001b[1;31m---------------------------------------------------------------------------\u001b[0m",
      "\u001b[1;31mNameError\u001b[0m                                 Traceback (most recent call last)",
      "\u001b[1;32m~\\AppData\\Local\\Temp/ipykernel_7740/3739613506.py\u001b[0m in \u001b[0;36m<module>\u001b[1;34m\u001b[0m\n\u001b[1;32m----> 1\u001b[1;33m \u001b[0maudiq7\u001b[0m \u001b[1;33m=\u001b[0m \u001b[0mcar\u001b[0m\u001b[1;33m(\u001b[0m\u001b[1;33m)\u001b[0m\u001b[1;33m\u001b[0m\u001b[1;33m\u001b[0m\u001b[0m\n\u001b[0m\u001b[0;32m      2\u001b[0m \u001b[1;31m#variable (or say object) of a car class\u001b[0m\u001b[1;33m\u001b[0m\u001b[1;33m\u001b[0m\u001b[0m\n",
      "\u001b[1;31mNameError\u001b[0m: name 'car' is not defined"
     ]
    }
   ],
   "source": [
    "audiq7 = car() \n",
    "#variable (or say object) of a car class"
   ]
  },
  {
   "cell_type": "code",
   "execution_count": null,
   "id": "bc0f20b8",
   "metadata": {},
   "outputs": [],
   "source": [
    "audiq7 #it is a super class i.e. main class"
   ]
  },
  {
   "cell_type": "code",
   "execution_count": null,
   "id": "ebd388ed",
   "metadata": {},
   "outputs": [],
   "source": [
    "audiq7.mileage = 10\n",
    "audiq7.year = 2020\n",
    "audiq7.make = 345\n",
    "audiq7.model = \"fsdf\"\n",
    "\n",
    "# syntax ----> class_variable.new_variable ===== just a variable"
   ]
  },
  {
   "cell_type": "code",
   "execution_count": null,
   "id": "d2009774",
   "metadata": {},
   "outputs": [],
   "source": [
    "audiq7.mileage"
   ]
  },
  {
   "cell_type": "code",
   "execution_count": null,
   "id": "b0be6239",
   "metadata": {},
   "outputs": [],
   "source": [
    "nano = car()"
   ]
  },
  {
   "cell_type": "code",
   "execution_count": null,
   "id": "3bca4142",
   "metadata": {},
   "outputs": [],
   "source": [
    "nano.mileage = 20\n",
    "nano.year = 2020\n",
    "nano.make = 234\n",
    "nano.model = \"sdfa\""
   ]
  },
  {
   "cell_type": "code",
   "execution_count": null,
   "id": "3e7c0913",
   "metadata": {},
   "outputs": [],
   "source": [
    "nano.engineno = 8795643264"
   ]
  },
  {
   "cell_type": "code",
   "execution_count": null,
   "id": "528b4014",
   "metadata": {},
   "outputs": [],
   "source": [
    "nano.engineno"
   ]
  },
  {
   "cell_type": "code",
   "execution_count": null,
   "id": "5819e0e4",
   "metadata": {},
   "outputs": [],
   "source": [
    "nano.mileage"
   ]
  },
  {
   "cell_type": "code",
   "execution_count": 3,
   "id": "28b0c600",
   "metadata": {},
   "outputs": [],
   "source": [
    "class car:\n",
    "    def __init__(self, mileage, year, make, model): #creating variable within paranthesis\n",
    "        #init is an inbuilt function that works as a constructor \n",
    "        # for the purpose of initialisation of data\n",
    "        # i.e. to pass or provide data to classes\n",
    "        #self is just a conventional parameter or pointer to point out to classes\n",
    "        \n",
    "        self.mileage = mileage\n",
    "        self.year = year\n",
    "        self.make = make\n",
    "        self.model = model"
   ]
  },
  {
   "cell_type": "code",
   "execution_count": 4,
   "id": "0d382078",
   "metadata": {},
   "outputs": [
    {
     "ename": "TypeError",
     "evalue": "__init__() missing 4 required positional arguments: 'mileage', 'year', 'make', and 'model'",
     "output_type": "error",
     "traceback": [
      "\u001b[1;31m---------------------------------------------------------------------------\u001b[0m",
      "\u001b[1;31mTypeError\u001b[0m                                 Traceback (most recent call last)",
      "\u001b[1;32m~\\AppData\\Local\\Temp/ipykernel_7740/491932515.py\u001b[0m in \u001b[0;36m<module>\u001b[1;34m\u001b[0m\n\u001b[1;32m----> 1\u001b[1;33m \u001b[0mnano\u001b[0m \u001b[1;33m=\u001b[0m \u001b[0mcar\u001b[0m\u001b[1;33m(\u001b[0m\u001b[1;33m)\u001b[0m\u001b[1;33m\u001b[0m\u001b[1;33m\u001b[0m\u001b[0m\n\u001b[0m",
      "\u001b[1;31mTypeError\u001b[0m: __init__() missing 4 required positional arguments: 'mileage', 'year', 'make', and 'model'"
     ]
    }
   ],
   "source": [
    "nano = car()"
   ]
  },
  {
   "cell_type": "code",
   "execution_count": 5,
   "id": "624ed965",
   "metadata": {},
   "outputs": [],
   "source": [
    "nano = car(25, 2020, 64654, \"sfghj\")"
   ]
  },
  {
   "cell_type": "code",
   "execution_count": 6,
   "id": "bd172fc7",
   "metadata": {},
   "outputs": [
    {
     "data": {
      "text/plain": [
       "'sfghj'"
      ]
     },
     "execution_count": 6,
     "metadata": {},
     "output_type": "execute_result"
    }
   ],
   "source": [
    "nano.model"
   ]
  },
  {
   "cell_type": "code",
   "execution_count": 7,
   "id": "5963435c",
   "metadata": {},
   "outputs": [
    {
     "data": {
      "text/plain": [
       "2020"
      ]
     },
     "execution_count": 7,
     "metadata": {},
     "output_type": "execute_result"
    }
   ],
   "source": [
    "nano.year"
   ]
  },
  {
   "cell_type": "code",
   "execution_count": 8,
   "id": "17981872",
   "metadata": {},
   "outputs": [],
   "source": [
    "audiq71 = car(10,2020,56,\"dfghj\")"
   ]
  },
  {
   "cell_type": "code",
   "execution_count": 9,
   "id": "62a4d413",
   "metadata": {},
   "outputs": [
    {
     "data": {
      "text/plain": [
       "10"
      ]
     },
     "execution_count": 9,
     "metadata": {},
     "output_type": "execute_result"
    }
   ],
   "source": [
    "audiq71.mileage"
   ]
  },
  {
   "cell_type": "code",
   "execution_count": 10,
   "id": "e6e48157",
   "metadata": {},
   "outputs": [],
   "source": [
    "class car:\n",
    "    def __init__(mileage, year, make, model):\n",
    "        self.mileage = mileage\n",
    "        self.year = year\n",
    "        self.make = make\n",
    "        self.model = model\n",
    "        \n",
    "#trying to do some mistakes intentionally to have clear understanding"
   ]
  },
  {
   "cell_type": "code",
   "execution_count": 11,
   "id": "3d0a850a",
   "metadata": {},
   "outputs": [
    {
     "ename": "TypeError",
     "evalue": "__init__() missing 3 required positional arguments: 'year', 'make', and 'model'",
     "output_type": "error",
     "traceback": [
      "\u001b[1;31m---------------------------------------------------------------------------\u001b[0m",
      "\u001b[1;31mTypeError\u001b[0m                                 Traceback (most recent call last)",
      "\u001b[1;32m~\\AppData\\Local\\Temp/ipykernel_7740/405989410.py\u001b[0m in \u001b[0;36m<module>\u001b[1;34m\u001b[0m\n\u001b[1;32m----> 1\u001b[1;33m \u001b[0mbmw\u001b[0m \u001b[1;33m=\u001b[0m \u001b[0mcar\u001b[0m\u001b[1;33m(\u001b[0m\u001b[1;33m)\u001b[0m\u001b[1;33m\u001b[0m\u001b[1;33m\u001b[0m\u001b[0m\n\u001b[0m",
      "\u001b[1;31mTypeError\u001b[0m: __init__() missing 3 required positional arguments: 'year', 'make', and 'model'"
     ]
    }
   ],
   "source": [
    "bmw = car()"
   ]
  },
  {
   "cell_type": "code",
   "execution_count": 12,
   "id": "fff34283",
   "metadata": {},
   "outputs": [
    {
     "ename": "NameError",
     "evalue": "name 'self' is not defined",
     "output_type": "error",
     "traceback": [
      "\u001b[1;31m---------------------------------------------------------------------------\u001b[0m",
      "\u001b[1;31mNameError\u001b[0m                                 Traceback (most recent call last)",
      "\u001b[1;32m~\\AppData\\Local\\Temp/ipykernel_7740/1668057282.py\u001b[0m in \u001b[0;36m<module>\u001b[1;34m\u001b[0m\n\u001b[1;32m----> 1\u001b[1;33m \u001b[0mbmw\u001b[0m \u001b[1;33m=\u001b[0m \u001b[0mcar\u001b[0m\u001b[1;33m(\u001b[0m\u001b[1;36m2022\u001b[0m\u001b[1;33m,\u001b[0m \u001b[1;36m234324\u001b[0m\u001b[1;33m,\u001b[0m\u001b[1;34m\"fdgdfg\"\u001b[0m\u001b[1;33m)\u001b[0m\u001b[1;33m\u001b[0m\u001b[1;33m\u001b[0m\u001b[0m\n\u001b[0m",
      "\u001b[1;32m~\\AppData\\Local\\Temp/ipykernel_7740/1847071888.py\u001b[0m in \u001b[0;36m__init__\u001b[1;34m(mileage, year, make, model)\u001b[0m\n\u001b[0;32m      1\u001b[0m \u001b[1;32mclass\u001b[0m \u001b[0mcar\u001b[0m\u001b[1;33m:\u001b[0m\u001b[1;33m\u001b[0m\u001b[1;33m\u001b[0m\u001b[0m\n\u001b[0;32m      2\u001b[0m     \u001b[1;32mdef\u001b[0m \u001b[0m__init__\u001b[0m\u001b[1;33m(\u001b[0m\u001b[0mmileage\u001b[0m\u001b[1;33m,\u001b[0m \u001b[0myear\u001b[0m\u001b[1;33m,\u001b[0m \u001b[0mmake\u001b[0m\u001b[1;33m,\u001b[0m \u001b[0mmodel\u001b[0m\u001b[1;33m)\u001b[0m\u001b[1;33m:\u001b[0m\u001b[1;33m\u001b[0m\u001b[1;33m\u001b[0m\u001b[0m\n\u001b[1;32m----> 3\u001b[1;33m         \u001b[0mself\u001b[0m\u001b[1;33m.\u001b[0m\u001b[0mmileage\u001b[0m \u001b[1;33m=\u001b[0m \u001b[0mmileage\u001b[0m\u001b[1;33m\u001b[0m\u001b[1;33m\u001b[0m\u001b[0m\n\u001b[0m\u001b[0;32m      4\u001b[0m         \u001b[0mself\u001b[0m\u001b[1;33m.\u001b[0m\u001b[0myear\u001b[0m \u001b[1;33m=\u001b[0m \u001b[0myear\u001b[0m\u001b[1;33m\u001b[0m\u001b[1;33m\u001b[0m\u001b[0m\n\u001b[0;32m      5\u001b[0m         \u001b[0mself\u001b[0m\u001b[1;33m.\u001b[0m\u001b[0mmake\u001b[0m \u001b[1;33m=\u001b[0m \u001b[0mmake\u001b[0m\u001b[1;33m\u001b[0m\u001b[1;33m\u001b[0m\u001b[0m\n",
      "\u001b[1;31mNameError\u001b[0m: name 'self' is not defined"
     ]
    }
   ],
   "source": [
    "bmw = car(2022, 234324,\"fdgdfg\")"
   ]
  },
  {
   "cell_type": "code",
   "execution_count": 13,
   "id": "0f36ce7d",
   "metadata": {},
   "outputs": [],
   "source": [
    "class car:\n",
    "    def __init__(mileage, year, make, model):\n",
    "        mileage.mileage = mileage\n",
    "        mileage.year = year\n",
    "        mileage.make = make\n",
    "        mileage.model = model\n",
    "        "
   ]
  },
  {
   "cell_type": "code",
   "execution_count": 14,
   "id": "8c5107d1",
   "metadata": {},
   "outputs": [],
   "source": [
    "bmw = car(2022,234234,\"sfds234\")"
   ]
  },
  {
   "cell_type": "code",
   "execution_count": 15,
   "id": "225e1585",
   "metadata": {},
   "outputs": [
    {
     "data": {
      "text/plain": [
       "234234"
      ]
     },
     "execution_count": 15,
     "metadata": {},
     "output_type": "execute_result"
    }
   ],
   "source": [
    "bmw.make"
   ]
  },
  {
   "cell_type": "code",
   "execution_count": 16,
   "id": "5eab8ad7",
   "metadata": {},
   "outputs": [
    {
     "data": {
      "text/plain": [
       "'sfds234'"
      ]
     },
     "execution_count": 16,
     "metadata": {},
     "output_type": "execute_result"
    }
   ],
   "source": [
    "bmw.model"
   ]
  },
  {
   "cell_type": "code",
   "execution_count": 17,
   "id": "0b26f32c",
   "metadata": {},
   "outputs": [
    {
     "data": {
      "text/plain": [
       "2022"
      ]
     },
     "execution_count": 17,
     "metadata": {},
     "output_type": "execute_result"
    }
   ],
   "source": [
    "bmw.year"
   ]
  },
  {
   "cell_type": "code",
   "execution_count": 18,
   "id": "264397d0",
   "metadata": {},
   "outputs": [
    {
     "data": {
      "text/plain": [
       "<__main__.car at 0x241655957f0>"
      ]
     },
     "execution_count": 18,
     "metadata": {},
     "output_type": "execute_result"
    }
   ],
   "source": [
    "bmw.mileage"
   ]
  },
  {
   "cell_type": "code",
   "execution_count": 19,
   "id": "d38a5d0d",
   "metadata": {},
   "outputs": [],
   "source": [
    "class car:\n",
    "    def __init__(a, m, y, ma, mo):\n",
    "        a.mileage = m\n",
    "        a.year = y\n",
    "        a.make = ma\n",
    "        a.model = mo\n",
    "        "
   ]
  },
  {
   "cell_type": "code",
   "execution_count": 20,
   "id": "35c37ebf",
   "metadata": {},
   "outputs": [],
   "source": [
    "alto = car(25,2011,12312,\"1hj2xub1327\")"
   ]
  },
  {
   "cell_type": "code",
   "execution_count": 21,
   "id": "071ffede",
   "metadata": {},
   "outputs": [
    {
     "data": {
      "text/plain": [
       "25"
      ]
     },
     "execution_count": 21,
     "metadata": {},
     "output_type": "execute_result"
    }
   ],
   "source": [
    "alto.mileage"
   ]
  },
  {
   "cell_type": "code",
   "execution_count": 22,
   "id": "d733de77",
   "metadata": {},
   "outputs": [
    {
     "ename": "AttributeError",
     "evalue": "'car' object has no attribute 'm'",
     "output_type": "error",
     "traceback": [
      "\u001b[1;31m---------------------------------------------------------------------------\u001b[0m",
      "\u001b[1;31mAttributeError\u001b[0m                            Traceback (most recent call last)",
      "\u001b[1;32m~\\AppData\\Local\\Temp/ipykernel_7740/2124591855.py\u001b[0m in \u001b[0;36m<module>\u001b[1;34m\u001b[0m\n\u001b[1;32m----> 1\u001b[1;33m \u001b[0malto\u001b[0m\u001b[1;33m.\u001b[0m\u001b[0mm\u001b[0m\u001b[1;33m\u001b[0m\u001b[1;33m\u001b[0m\u001b[0m\n\u001b[0m",
      "\u001b[1;31mAttributeError\u001b[0m: 'car' object has no attribute 'm'"
     ]
    }
   ],
   "source": [
    "alto.m"
   ]
  },
  {
   "cell_type": "code",
   "execution_count": 23,
   "id": "7d5b9fc4",
   "metadata": {},
   "outputs": [],
   "source": [
    "class car:\n",
    "    def __init__(a, m, y, ma, mo):\n",
    "        a.mileage = m\n",
    "        a.year = y\n",
    "        a.make = ma\n",
    "        a.model = mo\n",
    "\n",
    "        \n",
    "#we are trying to create a function within a clas,,,\n",
    "#,,,so we need to call pointer        \n",
    "    \n",
    "    \n",
    "    def age(self, current_year):\n",
    "        return current_year - a.year"
   ]
  },
  {
   "cell_type": "code",
   "execution_count": 24,
   "id": "a57aaeed",
   "metadata": {},
   "outputs": [],
   "source": [
    "nano = car(20, 2020, 3464,\"sfhjsdf\")"
   ]
  },
  {
   "cell_type": "code",
   "execution_count": 25,
   "id": "69f35969",
   "metadata": {},
   "outputs": [
    {
     "data": {
      "text/plain": [
       "<bound method car.age of <__main__.car object at 0x00000241658C1970>>"
      ]
     },
     "execution_count": 25,
     "metadata": {},
     "output_type": "execute_result"
    }
   ],
   "source": [
    "nano.age"
   ]
  },
  {
   "cell_type": "code",
   "execution_count": 26,
   "id": "e1a5c66b",
   "metadata": {},
   "outputs": [
    {
     "ename": "NameError",
     "evalue": "name 'a' is not defined",
     "output_type": "error",
     "traceback": [
      "\u001b[1;31m---------------------------------------------------------------------------\u001b[0m",
      "\u001b[1;31mNameError\u001b[0m                                 Traceback (most recent call last)",
      "\u001b[1;32m~\\AppData\\Local\\Temp/ipykernel_7740/2424556865.py\u001b[0m in \u001b[0;36m<module>\u001b[1;34m\u001b[0m\n\u001b[1;32m----> 1\u001b[1;33m \u001b[0mnano\u001b[0m\u001b[1;33m.\u001b[0m\u001b[0mage\u001b[0m\u001b[1;33m(\u001b[0m\u001b[1;36m2022\u001b[0m\u001b[1;33m)\u001b[0m\u001b[1;33m\u001b[0m\u001b[1;33m\u001b[0m\u001b[0m\n\u001b[0m",
      "\u001b[1;32m~\\AppData\\Local\\Temp/ipykernel_7740/816854577.py\u001b[0m in \u001b[0;36mage\u001b[1;34m(self, current_year)\u001b[0m\n\u001b[0;32m     12\u001b[0m \u001b[1;33m\u001b[0m\u001b[0m\n\u001b[0;32m     13\u001b[0m     \u001b[1;32mdef\u001b[0m \u001b[0mage\u001b[0m\u001b[1;33m(\u001b[0m\u001b[0mself\u001b[0m\u001b[1;33m,\u001b[0m \u001b[0mcurrent_year\u001b[0m\u001b[1;33m)\u001b[0m\u001b[1;33m:\u001b[0m\u001b[1;33m\u001b[0m\u001b[1;33m\u001b[0m\u001b[0m\n\u001b[1;32m---> 14\u001b[1;33m         \u001b[1;32mreturn\u001b[0m \u001b[0mcurrent_year\u001b[0m \u001b[1;33m-\u001b[0m \u001b[0ma\u001b[0m\u001b[1;33m.\u001b[0m\u001b[0myear\u001b[0m\u001b[1;33m\u001b[0m\u001b[1;33m\u001b[0m\u001b[0m\n\u001b[0m",
      "\u001b[1;31mNameError\u001b[0m: name 'a' is not defined"
     ]
    }
   ],
   "source": [
    "nano.age(2022)"
   ]
  },
  {
   "cell_type": "code",
   "execution_count": 27,
   "id": "83e46606",
   "metadata": {},
   "outputs": [],
   "source": [
    "class car:\n",
    "    def __init__(a, m, y, ma, mo):\n",
    "        a.mileage = m\n",
    "        a.year = y\n",
    "        a.make = ma\n",
    "        a.model = mo\n",
    "\n",
    "    \n",
    "    def age(self, current_year):\n",
    "        return current_year - self.year\n",
    "    \n",
    "    #always use local pointer i.e. self.year not a.year"
   ]
  },
  {
   "cell_type": "code",
   "execution_count": 28,
   "id": "77b487bc",
   "metadata": {},
   "outputs": [],
   "source": [
    "nano = car(20, 2020, 3464,\"sfhjsdf\")"
   ]
  },
  {
   "cell_type": "code",
   "execution_count": 29,
   "id": "d2ae22b9",
   "metadata": {},
   "outputs": [
    {
     "data": {
      "text/plain": [
       "2"
      ]
     },
     "execution_count": 29,
     "metadata": {},
     "output_type": "execute_result"
    }
   ],
   "source": [
    "nano.age(2022)"
   ]
  },
  {
   "cell_type": "code",
   "execution_count": 30,
   "id": "9c0346b6",
   "metadata": {},
   "outputs": [],
   "source": [
    "class car:\n",
    "    def __init__(a, m, y, ma, mo):\n",
    "        a.mileage = m\n",
    "        a.year = y\n",
    "        a.make = ma\n",
    "        a.model = mo\n",
    "\n",
    "    \n",
    "    def age(self, current_year):\n",
    "        return current_year - self.year\n",
    "    \n",
    "    def max_speed(self):\n",
    "        return self.mileage*6"
   ]
  },
  {
   "cell_type": "code",
   "execution_count": 31,
   "id": "5242f947",
   "metadata": {},
   "outputs": [],
   "source": [
    "nano = car(20, 2020, 3464,\"sfhjsdf\")"
   ]
  },
  {
   "cell_type": "code",
   "execution_count": 32,
   "id": "62cbc75c",
   "metadata": {},
   "outputs": [
    {
     "data": {
      "text/plain": [
       "<bound method car.max_speed of <__main__.car object at 0x0000024165F21370>>"
      ]
     },
     "execution_count": 32,
     "metadata": {},
     "output_type": "execute_result"
    }
   ],
   "source": [
    "nano.max_speed"
   ]
  },
  {
   "cell_type": "code",
   "execution_count": 33,
   "id": "b0e0608e",
   "metadata": {},
   "outputs": [
    {
     "data": {
      "text/plain": [
       "120"
      ]
     },
     "execution_count": 33,
     "metadata": {},
     "output_type": "execute_result"
    }
   ],
   "source": [
    "nano.max_speed()"
   ]
  },
  {
   "cell_type": "code",
   "execution_count": 34,
   "id": "ec81154c",
   "metadata": {},
   "outputs": [
    {
     "data": {
      "text/plain": [
       "<__main__.car at 0x24165f21370>"
      ]
     },
     "execution_count": 34,
     "metadata": {},
     "output_type": "execute_result"
    }
   ],
   "source": [
    " nano"
   ]
  },
  {
   "cell_type": "code",
   "execution_count": 35,
   "id": "809e0ec3",
   "metadata": {},
   "outputs": [],
   "source": [
    "class car:\n",
    "    def __init__(a, m, y, ma, mo):\n",
    "        a.mileage = m\n",
    "        a.year = y\n",
    "        a.make = ma\n",
    "        a.model = mo\n",
    "\n",
    "    \n",
    "    def age(self, current_year):\n",
    "        return current_year - self.year\n",
    "    \n",
    "    def max_speed(self):\n",
    "        return self.mileage*6\n",
    "    \n",
    "    def __str__(c):\n",
    "        return \"This is my car class that i have created\"\n",
    "    \n",
    "    # __str__ is an inbuilt method that is called automatically \n",
    "    # whenever we call an object of a class, just to give \n",
    "    # some descriptions about our class"
   ]
  },
  {
   "cell_type": "code",
   "execution_count": 36,
   "id": "6ab055ac",
   "metadata": {},
   "outputs": [
    {
     "ename": "TypeError",
     "evalue": "__init__() missing 4 required positional arguments: 'm', 'y', 'ma', and 'mo'",
     "output_type": "error",
     "traceback": [
      "\u001b[1;31m---------------------------------------------------------------------------\u001b[0m",
      "\u001b[1;31mTypeError\u001b[0m                                 Traceback (most recent call last)",
      "\u001b[1;32m~\\AppData\\Local\\Temp/ipykernel_7740/1550955807.py\u001b[0m in \u001b[0;36m<module>\u001b[1;34m\u001b[0m\n\u001b[1;32m----> 1\u001b[1;33m \u001b[0mnano\u001b[0m \u001b[1;33m=\u001b[0m \u001b[0mcar\u001b[0m \u001b[1;33m(\u001b[0m\u001b[1;33m)\u001b[0m\u001b[1;33m\u001b[0m\u001b[1;33m\u001b[0m\u001b[0m\n\u001b[0m",
      "\u001b[1;31mTypeError\u001b[0m: __init__() missing 4 required positional arguments: 'm', 'y', 'ma', and 'mo'"
     ]
    }
   ],
   "source": [
    "nano = car ()"
   ]
  },
  {
   "cell_type": "code",
   "execution_count": 37,
   "id": "8c96f8a7",
   "metadata": {},
   "outputs": [],
   "source": [
    "nano = car(25,2020, 3434,\"fgrtg\")"
   ]
  },
  {
   "cell_type": "code",
   "execution_count": 38,
   "id": "07c12c27",
   "metadata": {},
   "outputs": [
    {
     "name": "stdout",
     "output_type": "stream",
     "text": [
      "This is my car class that i have created\n"
     ]
    }
   ],
   "source": [
    "print(nano)"
   ]
  },
  {
   "cell_type": "code",
   "execution_count": 39,
   "id": "a0296201",
   "metadata": {},
   "outputs": [],
   "source": [
    "class car:\n",
    "    def __init__(a, m, y, ma, mo):\n",
    "        a.mileage = m\n",
    "        a.year = y\n",
    "        a.make = ma\n",
    "        a.model = mo\n",
    "\n",
    "    \n",
    "    def age(self, current_year):\n",
    "        return current_year - self.year\n",
    "    \n",
    "    def max_speed(self):\n",
    "        return self.mileage*6\n",
    "    \n",
    "    def __str__(self):\n",
    "        return \"This is my car class that i have created\"\n",
    "    "
   ]
  },
  {
   "cell_type": "code",
   "execution_count": 43,
   "id": "3722cf87",
   "metadata": {},
   "outputs": [],
   "source": [
    "class student:\n",
    "    def __init__(self, name, rollno, joining_date, current_topic):\n",
    "        self.name = name\n",
    "        self.rollno = rollno\n",
    "        self.joining_date = joining_date\n",
    "        self.current_topic = current_topic\n",
    "        \n",
    "    def crt_topic(self):\n",
    "        print(\"Current topic being discussed in my class is: \", self.current_topic)\n",
    "    \n",
    "    def str_rollno(self):\n",
    "        if type(self.rollno) == str:\n",
    "            print(\"Do nothing !\")\n",
    "        else:\n",
    "            return str(self.rollno)\n",
    "        \n",
    "    def duration(self, current_date):\n",
    "        print(\"Duration of this particular student in this batch is:\", current_date-self.joining_date)\n",
    "        \n",
    "    def __str__(Self):\n",
    "        return \"This is STUDENT class where we can try to input their data which may be fetched later on if required\""
   ]
  },
  {
   "cell_type": "code",
   "execution_count": 44,
   "id": "5dc169be",
   "metadata": {},
   "outputs": [],
   "source": [
    "Utkarsh = student(\"Utkarsh Choubey\", 20315546, 2021, \"OOPS\")"
   ]
  },
  {
   "cell_type": "code",
   "execution_count": 45,
   "id": "9816fb88",
   "metadata": {},
   "outputs": [
    {
     "name": "stdout",
     "output_type": "stream",
     "text": [
      "Duration of this particular student in this batch is: 1\n"
     ]
    }
   ],
   "source": [
    "Utkarsh.duration(2022)"
   ]
  },
  {
   "cell_type": "code",
   "execution_count": 46,
   "id": "684461c1",
   "metadata": {},
   "outputs": [
    {
     "data": {
      "text/plain": [
       "<__main__.student at 0x2416575e760>"
      ]
     },
     "execution_count": 46,
     "metadata": {},
     "output_type": "execute_result"
    }
   ],
   "source": [
    "Utkarsh"
   ]
  },
  {
   "cell_type": "code",
   "execution_count": 47,
   "id": "7b08e64d",
   "metadata": {},
   "outputs": [
    {
     "name": "stdout",
     "output_type": "stream",
     "text": [
      "This is STUDENT class where we can try to input their data which may be fetched later on if required\n"
     ]
    }
   ],
   "source": [
    "print(Utkarsh)"
   ]
  },
  {
   "cell_type": "code",
   "execution_count": 48,
   "id": "982c2f85",
   "metadata": {},
   "outputs": [
    {
     "data": {
      "text/plain": [
       "<bound method student.crt_topic of <__main__.student object at 0x000002416575E760>>"
      ]
     },
     "execution_count": 48,
     "metadata": {},
     "output_type": "execute_result"
    }
   ],
   "source": [
    "Utkarsh.crt_topic"
   ]
  },
  {
   "cell_type": "code",
   "execution_count": 49,
   "id": "9a0d28ae",
   "metadata": {},
   "outputs": [
    {
     "name": "stdout",
     "output_type": "stream",
     "text": [
      "Current topic being discussed in my class is:  OOPS\n"
     ]
    }
   ],
   "source": [
    "Utkarsh.crt_topic()"
   ]
  },
  {
   "cell_type": "code",
   "execution_count": 50,
   "id": "bda4f577",
   "metadata": {},
   "outputs": [
    {
     "data": {
      "text/plain": [
       "'20315546'"
      ]
     },
     "execution_count": 50,
     "metadata": {},
     "output_type": "execute_result"
    }
   ],
   "source": [
    "Utkarsh.str_rollno()"
   ]
  },
  {
   "cell_type": "code",
   "execution_count": 51,
   "id": "aa06af5c",
   "metadata": {},
   "outputs": [
    {
     "ename": "TypeError",
     "evalue": "'str' object is not callable",
     "output_type": "error",
     "traceback": [
      "\u001b[1;31m---------------------------------------------------------------------------\u001b[0m",
      "\u001b[1;31mTypeError\u001b[0m                                 Traceback (most recent call last)",
      "\u001b[1;32m~\\AppData\\Local\\Temp/ipykernel_7740/650580343.py\u001b[0m in \u001b[0;36m<module>\u001b[1;34m\u001b[0m\n\u001b[1;32m----> 1\u001b[1;33m \u001b[0mUtkarsh\u001b[0m\u001b[1;33m.\u001b[0m\u001b[0mname\u001b[0m\u001b[1;33m(\u001b[0m\u001b[1;33m)\u001b[0m\u001b[1;33m\u001b[0m\u001b[1;33m\u001b[0m\u001b[0m\n\u001b[0m",
      "\u001b[1;31mTypeError\u001b[0m: 'str' object is not callable"
     ]
    }
   ],
   "source": [
    "Utkarsh.name()"
   ]
  },
  {
   "cell_type": "code",
   "execution_count": 52,
   "id": "6245e1c1",
   "metadata": {},
   "outputs": [
    {
     "data": {
      "text/plain": [
       "'Utkarsh Choubey'"
      ]
     },
     "execution_count": 52,
     "metadata": {},
     "output_type": "execute_result"
    }
   ],
   "source": [
    "Utkarsh.name"
   ]
  },
  {
   "cell_type": "code",
   "execution_count": 53,
   "id": "afe30d3b",
   "metadata": {},
   "outputs": [],
   "source": [
    "class student:\n",
    "    def __init__(self, name, rollno, joining_date, current_topic):\n",
    "        self.name = name\n",
    "        self.rollno = rollno\n",
    "        self.joining_date = joining_date\n",
    "        self.current_topic = current_topic\n",
    "        \n",
    "    def crt_topic(self):\n",
    "        print(\"Current topic being discussed in my class is: \", self.current_topic)\n",
    "    \n",
    "    def str_rollno(self):\n",
    "        try:\n",
    "            if type(self.rollno) == str:\n",
    "                print(\"Do nothing !\")\n",
    "            else:\n",
    "                return str(self.rollno)\n",
    "        except Exception as e:\n",
    "            print(\"This is the error message:\", e)\n",
    "        \n",
    "    def duration(self, current_date):\n",
    "        print(\"Duration of this particular student in this batch is:\", current_date-self.joining_date)\n",
    "        \n",
    "    def __str__(Self):\n",
    "        return \"This is STUDENT class where we can try to input their data which may be fetched later on if required\""
   ]
  },
  {
   "cell_type": "code",
   "execution_count": 54,
   "id": "8f177607",
   "metadata": {},
   "outputs": [],
   "source": [
    "Utkarsh = student(\"Utkarsh Choubey\", \"abc\", 2021, \"OOPS\")"
   ]
  },
  {
   "cell_type": "code",
   "execution_count": 55,
   "id": "460304e8",
   "metadata": {},
   "outputs": [
    {
     "data": {
      "text/plain": [
       "'abc'"
      ]
     },
     "execution_count": 55,
     "metadata": {},
     "output_type": "execute_result"
    }
   ],
   "source": [
    "Utkarsh.rollno"
   ]
  },
  {
   "cell_type": "code",
   "execution_count": 56,
   "id": "ddb490ac",
   "metadata": {},
   "outputs": [
    {
     "data": {
      "text/plain": [
       "str"
      ]
     },
     "execution_count": 56,
     "metadata": {},
     "output_type": "execute_result"
    }
   ],
   "source": [
    "type(Utkarsh.rollno)"
   ]
  },
  {
   "cell_type": "code",
   "execution_count": 57,
   "id": "7ae39894",
   "metadata": {},
   "outputs": [],
   "source": [
    "Utkarsh = student(\"Utkarsh Choubey\", 8+6j, 2021, \"OOPS\")"
   ]
  },
  {
   "cell_type": "code",
   "execution_count": 58,
   "id": "ea171727",
   "metadata": {},
   "outputs": [
    {
     "data": {
      "text/plain": [
       "(8+6j)"
      ]
     },
     "execution_count": 58,
     "metadata": {},
     "output_type": "execute_result"
    }
   ],
   "source": [
    "Utkarsh.rollno"
   ]
  },
  {
   "cell_type": "code",
   "execution_count": 59,
   "id": "4c985e1e",
   "metadata": {},
   "outputs": [
    {
     "data": {
      "text/plain": [
       "complex"
      ]
     },
     "execution_count": 59,
     "metadata": {},
     "output_type": "execute_result"
    }
   ],
   "source": [
    "type(Utkarsh.rollno)"
   ]
  },
  {
   "cell_type": "code",
   "execution_count": 60,
   "id": "4a8fbac8",
   "metadata": {},
   "outputs": [
    {
     "ename": "TypeError",
     "evalue": "'complex' object is not callable",
     "output_type": "error",
     "traceback": [
      "\u001b[1;31m---------------------------------------------------------------------------\u001b[0m",
      "\u001b[1;31mTypeError\u001b[0m                                 Traceback (most recent call last)",
      "\u001b[1;32m~\\AppData\\Local\\Temp/ipykernel_7740/3493380064.py\u001b[0m in \u001b[0;36m<module>\u001b[1;34m\u001b[0m\n\u001b[1;32m----> 1\u001b[1;33m \u001b[0mUtkarsh\u001b[0m\u001b[1;33m.\u001b[0m\u001b[0mrollno\u001b[0m\u001b[1;33m(\u001b[0m\u001b[1;33m)\u001b[0m\u001b[1;33m\u001b[0m\u001b[1;33m\u001b[0m\u001b[0m\n\u001b[0m",
      "\u001b[1;31mTypeError\u001b[0m: 'complex' object is not callable"
     ]
    }
   ],
   "source": [
    "Utkarsh.rollno()"
   ]
  },
  {
   "cell_type": "code",
   "execution_count": 61,
   "id": "294650d5",
   "metadata": {},
   "outputs": [],
   "source": [
    "Utkarsh = student(\"Utkarsh Choubey\", \"abc\", 2021, \"OOPS\")"
   ]
  },
  {
   "cell_type": "code",
   "execution_count": 62,
   "id": "5c80f0d0",
   "metadata": {},
   "outputs": [
    {
     "ename": "TypeError",
     "evalue": "'str' object is not callable",
     "output_type": "error",
     "traceback": [
      "\u001b[1;31m---------------------------------------------------------------------------\u001b[0m",
      "\u001b[1;31mTypeError\u001b[0m                                 Traceback (most recent call last)",
      "\u001b[1;32m~\\AppData\\Local\\Temp/ipykernel_7740/3493380064.py\u001b[0m in \u001b[0;36m<module>\u001b[1;34m\u001b[0m\n\u001b[1;32m----> 1\u001b[1;33m \u001b[0mUtkarsh\u001b[0m\u001b[1;33m.\u001b[0m\u001b[0mrollno\u001b[0m\u001b[1;33m(\u001b[0m\u001b[1;33m)\u001b[0m\u001b[1;33m\u001b[0m\u001b[1;33m\u001b[0m\u001b[0m\n\u001b[0m",
      "\u001b[1;31mTypeError\u001b[0m: 'str' object is not callable"
     ]
    }
   ],
   "source": [
    "Utkarsh.rollno()"
   ]
  },
  {
   "cell_type": "code",
   "execution_count": 63,
   "id": "0b6af9a2",
   "metadata": {},
   "outputs": [
    {
     "name": "stdout",
     "output_type": "stream",
     "text": [
      "Do nothing !\n"
     ]
    }
   ],
   "source": [
    "Utkarsh.str_rollno()"
   ]
  },
  {
   "cell_type": "code",
   "execution_count": 64,
   "id": "790d68b1",
   "metadata": {},
   "outputs": [],
   "source": [
    "Utkarsh = student(\"Utkarsh Choubey\", 8+6j, 2021, \"OOPS\")"
   ]
  },
  {
   "cell_type": "code",
   "execution_count": 65,
   "id": "efd36554",
   "metadata": {},
   "outputs": [
    {
     "data": {
      "text/plain": [
       "'(8+6j)'"
      ]
     },
     "execution_count": 65,
     "metadata": {},
     "output_type": "execute_result"
    }
   ],
   "source": [
    "Utkarsh.str_rollno()"
   ]
  },
  {
   "cell_type": "code",
   "execution_count": 66,
   "id": "a0e875b7",
   "metadata": {},
   "outputs": [],
   "source": [
    "class student:\n",
    "    def __init__(self, name, rollno, joining_date, current_topic):\n",
    "        self.name = name\n",
    "        self.rollno = rollno\n",
    "        self.joining_date = joining_date\n",
    "        self.current_topic = current_topic\n",
    "        \n",
    "    def crt_topic(self):\n",
    "        print(\"Current topic being discussed in my class is: \", self.current_topic)\n",
    "    \n",
    "    def str_rollno(self):\n",
    "        try:\n",
    "            if type(self.rollno) == int:\n",
    "                print(\"Do nothing !\")\n",
    "            else:\n",
    "                return int(self.rollno)\n",
    "        except Exception as e:\n",
    "            print(\"This is the error message:\", e)\n",
    "        \n",
    "    def duration(self, current_date):\n",
    "        print(\"Duration of this particular student in this batch is:\", current_date-self.joining_date)\n",
    "        \n",
    "    def __str__(Self):\n",
    "        return \"This is STUDENT class where we can try to input their data which may be fetched later on if required\""
   ]
  },
  {
   "cell_type": "code",
   "execution_count": 67,
   "id": "24025cf3",
   "metadata": {},
   "outputs": [],
   "source": [
    "Utkarsh = student(\"Utkarsh Choubey\", 8+6j, 2021, \"OOPS\")"
   ]
  },
  {
   "cell_type": "code",
   "execution_count": 68,
   "id": "04752f6f",
   "metadata": {},
   "outputs": [
    {
     "name": "stdout",
     "output_type": "stream",
     "text": [
      "This is the error message: can't convert complex to int\n"
     ]
    }
   ],
   "source": [
    "Utkarsh.str_rollno()"
   ]
  },
  {
   "cell_type": "code",
   "execution_count": 70,
   "id": "3c14660f",
   "metadata": {},
   "outputs": [
    {
     "data": {
      "text/plain": [
       "'\\n\\n1. Create a class DATA\\n\\n2. class variables(i.e. init mtd) should be: \\nname, type, date and size of file\\n\\n3. It should contain three functions:\\n\\n   a. file_open to create file if not exist \\n    and write something in the file\\n   b. file_read to to read the file\\n   c. file_append to append some new data in the same file\\n    and show.\\n\\nNOTE: Try to handle exceptions and maintain logging \\n      by creating a function within the class itself.\\n\\n\\n'"
      ]
     },
     "execution_count": 70,
     "metadata": {},
     "output_type": "execute_result"
    }
   ],
   "source": [
    "### Class task:\n",
    "\n",
    "\n",
    "\"\"\"\n",
    "\n",
    "1. Create a class DATA\n",
    "\n",
    "2. class variables(i.e. init mtd) should be: \n",
    "name, type, date and size of file\n",
    "\n",
    "3. It should contain three functions:\n",
    "\n",
    "   a. file_open to create file if not exist \n",
    "    and write something in the file\n",
    "   b. file_read to to read the file\n",
    "   c. file_append to append some new data in the same file\n",
    "    and show.\n",
    "    \n",
    "    It is a level 1 question.\n",
    "\n",
    "NOTE: Try to handle exceptions and maintain logging \n",
    "      by creating a function within the class itself.\n",
    "      \n",
    "      Exception handling and logging are level 2 questions.\n",
    "\n",
    "\n",
    "\"\"\""
   ]
  },
  {
   "cell_type": "code",
   "execution_count": 1,
   "id": "07541c0d",
   "metadata": {},
   "outputs": [
    {
     "name": "stdout",
     "output_type": "stream",
     "text": [
      "We are writing something in this file.\n",
      "We are writing something in this file.We are writing some data into the same file.\n"
     ]
    }
   ],
   "source": [
    "# Trying level 1 question\n",
    "\n",
    "class data:\n",
    "    \n",
    "    def __init__(self, file_name, file_type, file_date, file_size):\n",
    "        self.file_name = file_name\n",
    "        self.file_type = file_type\n",
    "        self.file_date = file_date\n",
    "        self.file_size = file_size\n",
    "        \n",
    "    def file_open(self):\n",
    "        f = open(self.file_name,\"w\")\n",
    "        f.write(\"We are writing something in this file.\")\n",
    "        f.close()\n",
    "        \n",
    "    def file_read(self):\n",
    "        f = open(self.file_name,\"r\")\n",
    "        print(f.read())\n",
    "        f.close()\n",
    "        \n",
    "    def file_append(self):\n",
    "        f = open(self.file_name, \"a+\")\n",
    "        f.write(\"We are writing some data into the same file.\")\n",
    "        f.seek(0)\n",
    "        print(f.read())\n",
    "        f.close()\n",
    "        \n",
    "        \n",
    "    \n",
    "file = data(\"random_file\", \"txt\", \"2022-10-30\", \"unknown\")\n",
    "file.file_open()\n",
    "file.file_read()\n",
    "file.file_append()"
   ]
  },
  {
   "cell_type": "code",
   "execution_count": 1,
   "id": "0c39a0e2",
   "metadata": {},
   "outputs": [
    {
     "name": "stdout",
     "output_type": "stream",
     "text": [
      "You may give your input in this file.You may give your input in this file.Indian cricket team is going to lift the t20 world cup this year!\n",
      "\n",
      "You may append some data into the same file.Surya Kumar Yadav is going to be the player of the tournament.\n",
      "Surya Kumar Yadav is going to be the player of the tournament.\n"
     ]
    }
   ],
   "source": [
    "# Trying level 1 question\n",
    "\n",
    "class data:\n",
    "    \n",
    "    \n",
    "    def __init__(self, file_name, file_type, file_date, file_size):\n",
    "        self.file_name = file_name\n",
    "        self.file_type = file_type\n",
    "        self.file_date = file_date\n",
    "        self.file_size = file_size\n",
    "        \n",
    "    def file_open(self):\n",
    "        try:\n",
    "            f = open(self.file_name,\"w\")\n",
    "            user_input = input(\"You may give your input in this file.\")\n",
    "            self.logger()\n",
    "            f.write(user_input)\n",
    "            f.close()\n",
    "        except Exception as e:\n",
    "            self.logger(e)\n",
    "        \n",
    "    def file_read(self):\n",
    "        try:\n",
    "            f = open(self.file_name,\"r\")\n",
    "            print(f.read())\n",
    "            f.close()\n",
    "        except Exception as e:\n",
    "            self.logger(e)\n",
    "        \n",
    "    def file_append(self):\n",
    "        try:\n",
    "            f = open(self.file_name, \"a+\")\n",
    "            user_input = input(\"You may append some data into the same file.\")\n",
    "            f.write(user_input)\n",
    "            f.seek(0)\n",
    "            print(f.read())\n",
    "            f.close()\n",
    "        except Exception as e:\n",
    "            self.logger(e)\n",
    "        \n",
    "    def logger(self, log):\n",
    "        import logging as lg\n",
    "        lg.basicConfig(filename = \"oops_data.log\", level=lg.ERROR)\n",
    "        lg.error(log)\n",
    "    \n",
    "    \n",
    "    def __str__(self):\n",
    "        return \"This is DATA class where we have different parameters \\n of a file that can be created/ opened, read and appended.\"\n",
    "        \n",
    "    \n",
    "file1 = data(\"random_file\", \"txt\", \"2022-10-30\", \"unknown\")\n",
    "file1.file_open()\n",
    "file1.file_read()\n",
    "file1.file_append()"
   ]
  },
  {
   "cell_type": "code",
   "execution_count": null,
   "id": "1bc40c8b",
   "metadata": {},
   "outputs": [],
   "source": []
  }
 ],
 "metadata": {
  "kernelspec": {
   "display_name": "Python 3 (ipykernel)",
   "language": "python",
   "name": "python3"
  },
  "language_info": {
   "codemirror_mode": {
    "name": "ipython",
    "version": 3
   },
   "file_extension": ".py",
   "mimetype": "text/x-python",
   "name": "python",
   "nbconvert_exporter": "python",
   "pygments_lexer": "ipython3",
   "version": "3.9.7"
  }
 },
 "nbformat": 4,
 "nbformat_minor": 5
}
